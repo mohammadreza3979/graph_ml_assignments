{
  "cells": [
    {
      "cell_type": "markdown",
      "metadata": {
        "id": "lMIYsF519kdt"
      },
      "source": [
        "# <font color='brown'>100 Pandas Exercises</font>"
      ]
    },
    {
      "cell_type": "markdown",
      "metadata": {
        "id": "LiLHlQLf9kd2"
      },
      "source": [
        "## Experiment Introduction"
      ]
    },
    {
      "cell_type": "markdown",
      "metadata": {
        "id": "raP3aczC9kd3"
      },
      "source": [
        "![pandas_logo.png](attachment:pandas_logo.png)\n",
        "\n",
        "**Pandas** is a tool for data processing based on `NumPy`,created to solve data analysis tasks. Pandas incorporates a number of libraries and some standard data models, as well as provides the functions and the methods needed for efficiently manipulating large datasets.\n",
        "\n",
        "Pandas data structures: Pandas mainly has `Series` (one-dimensional array), `DataFrame` (two-dimensional array), `Panel` (three-dimensional array), `Panel4D` (four-dimensional array), `PanelND` (more-dimensional array) and other data structures. Among them, `Series` and `DataFrame` are the most widely used data structures.\n",
        "- `Series` is a one-dimensional array with labels, it can contain any data type including integers, strings, floats, Python objects and more. `Series` can be positioned by label.\n",
        "- `DataFrame` is a two-dimensional data structure with labels. We can use labels to locate data, which is something NumPy doesn't have.\n",
        "\n",
        "**100 Pandas Exercises** are divided into basic and advanced parts, each with 50 exercises. The _basic part_ is used to familiarize yourself with the use of common Pandas methods while the _advanced part_ focuses on the combined application of the Pandas methods.\n",
        "\n",
        "If you already have a Pandas foundation before you take the course, you can review it in the following cells. If you are not proficient with Pandas, you must <font color='brown'>do it yourself</font>. It is recommended to practice in the blank cell with every example cell."
      ]
    },
    {
      "cell_type": "markdown",
      "metadata": {
        "id": "7EmP93P49kd4"
      },
      "source": [
        "### Key Points\n",
        "\n",
        "The key points covered in this experiment are:\n",
        "- Creating `Series`\n",
        "- Basic operations on `Series`\n",
        "- Creating `DataFrame`\n",
        "- Basic operations on `DataFrame`\n",
        "- File-related operations on `DataFrame`\n",
        "- `Series`, `DataFrame` and multiple indexes\n",
        "- Pivot table\n",
        "- Data cleaning\n",
        "- Data preprocessing\n",
        "- Visualization"
      ]
    },
    {
      "cell_type": "markdown",
      "metadata": {
        "id": "svHpYPUq9kd5"
      },
      "source": [
        "### Environment\n",
        "\n",
        "- Python 3.6\n",
        "- NumPy\n",
        "- Pandas"
      ]
    },
    {
      "cell_type": "markdown",
      "metadata": {
        "id": "tzST-AAi9kd6"
      },
      "source": [
        "### Index\n",
        "\n",
        "- <a href=\"#1\">1. Basic Part</a>\n",
        "- <a href=\"#2\">2. Advanced Part</a>\n",
        "- <a href=\"#3\">3. Summary</a>"
      ]
    },
    {
      "cell_type": "markdown",
      "metadata": {
        "id": "PwzyolJF9kd7"
      },
      "source": [
        "___"
      ]
    },
    {
      "cell_type": "markdown",
      "metadata": {
        "id": "rN0z9EUg9kd7"
      },
      "source": [
        "## <a id = \"1\">1. Basic Part</a>"
      ]
    },
    {
      "cell_type": "markdown",
      "metadata": {
        "id": "FjKS-AWV9kd8"
      },
      "source": [
        "### Import Pandas Module"
      ]
    },
    {
      "cell_type": "markdown",
      "metadata": {
        "id": "hUu-9iIH9kd9"
      },
      "source": [
        "#### 1. Import Pandas\n",
        "Before practicing **Pandas**, we need to import the `pandas` module first; and the convention is abbreviated as `pd`:"
      ]
    },
    {
      "cell_type": "code",
      "execution_count": 1,
      "metadata": {
        "id": "G2rbfqJP9kd9"
      },
      "outputs": [],
      "source": [
        "import pandas as pd"
      ]
    },
    {
      "cell_type": "markdown",
      "metadata": {
        "id": "spj36etx9keA"
      },
      "source": [
        "#### 2. Check Pandas version"
      ]
    },
    {
      "cell_type": "code",
      "execution_count": null,
      "metadata": {
        "id": "_8_JeG1H9keA"
      },
      "outputs": [],
      "source": [
        "print(pd.__version__)"
      ]
    },
    {
      "cell_type": "code",
      "execution_count": 2,
      "metadata": {
        "colab": {
          "base_uri": "https://localhost:8080/"
        },
        "id": "iIsCg2Xz9keB",
        "outputId": "d02b1676-b1e8-45ad-92c9-96d60904ba84"
      },
      "outputs": [
        {
          "output_type": "stream",
          "name": "stdout",
          "text": [
            "1.4.4\n"
          ]
        }
      ],
      "source": [
        "print(pd.__version__)"
      ]
    },
    {
      "cell_type": "markdown",
      "metadata": {
        "id": "dPi9J6eM9keB"
      },
      "source": [
        "### Create  `Series`\n",
        "\n",
        "In `pandas`, `Series` can be thought of as a dataset consisting of one column of data.\n",
        "\n",
        "Syntax of creating `Series`: `s = pd.Series(data, index=index)`. It can actually be created in a variety of ways. Here are three common methods:"
      ]
    },
    {
      "cell_type": "markdown",
      "metadata": {
        "id": "K4sVwC7x9keB"
      },
      "source": [
        "#### 3. Create `Series` from list"
      ]
    },
    {
      "cell_type": "code",
      "execution_count": null,
      "metadata": {
        "scrolled": false,
        "id": "l-rCDOeG9keC"
      },
      "outputs": [],
      "source": [
        "arr=[0, 1, 2, 3, 4]\n",
        "s1=pd.Series(arr) # If the index is not specified, then start at 0 by default\n",
        "s1"
      ]
    },
    {
      "cell_type": "markdown",
      "metadata": {
        "id": "-qlCGcAK9keC"
      },
      "source": [
        "**Tip:** The `0`, `1`, `2`, `3` ,`4` in the left are the indexes of the current `Series`; and the `0`, `1`, `2`, `3`, `4` in the right are the values in the `Series`."
      ]
    },
    {
      "cell_type": "code",
      "execution_count": 5,
      "metadata": {
        "colab": {
          "base_uri": "https://localhost:8080/"
        },
        "id": "Ehn1MEZD9keC",
        "outputId": "464a5307-8d85-4c14-a3c1-3e4c3d32307e"
      },
      "outputs": [
        {
          "output_type": "execute_result",
          "data": {
            "text/plain": [
              "0    0\n",
              "1    1\n",
              "2    2\n",
              "3    3\n",
              "4    4\n",
              "dtype: int64"
            ]
          },
          "metadata": {},
          "execution_count": 5
        }
      ],
      "source": [
        "arr=[0, 1, 2, 3, 4]\n",
        "s1=pd.Series(arr)\n",
        "s1"
      ]
    },
    {
      "cell_type": "markdown",
      "metadata": {
        "id": "fkCM7M0S9keD"
      },
      "source": [
        "#### 4. Create `Series` from `ndarray`"
      ]
    },
    {
      "cell_type": "code",
      "execution_count": 6,
      "metadata": {
        "colab": {
          "base_uri": "https://localhost:8080/"
        },
        "id": "EiIUfYQU9keD",
        "outputId": "c5bfb9ca-e9d4-49b2-8c26-c143127444c8"
      },
      "outputs": [
        {
          "output_type": "execute_result",
          "data": {
            "text/plain": [
              "a    0.618563\n",
              "b    1.201043\n",
              "c    1.117579\n",
              "d    1.565547\n",
              "e    0.285665\n",
              "dtype: float64"
            ]
          },
          "metadata": {},
          "execution_count": 6
        }
      ],
      "source": [
        "import numpy as np\n",
        "n=np.random.randn(5) # Create a random Ndarray \n",
        "\n",
        "index=['a','b','c','d','e']\n",
        "s2=pd.Series(n,index=index)\n",
        "s2"
      ]
    },
    {
      "cell_type": "markdown",
      "metadata": {
        "id": "JNlVOsY29keD"
      },
      "source": [
        "#### 5. Create `Series` from dictionary"
      ]
    },
    {
      "cell_type": "code",
      "execution_count": null,
      "metadata": {
        "id": "Co3WB2Tr9keE"
      },
      "outputs": [],
      "source": [
        "d={'a':1,'b':2,'c':3,'d':4,'e':5}\n",
        "s3=pd.Series(d)\n",
        "s3"
      ]
    },
    {
      "cell_type": "code",
      "execution_count": 7,
      "metadata": {
        "colab": {
          "base_uri": "https://localhost:8080/"
        },
        "id": "NNsOged99keE",
        "outputId": "019bcbe6-cf2d-4f34-c978-5c9846984fef"
      },
      "outputs": [
        {
          "output_type": "execute_result",
          "data": {
            "text/plain": [
              "a    1\n",
              "b    2\n",
              "c    3\n",
              "d    4\n",
              "e    5\n",
              "dtype: int64"
            ]
          },
          "metadata": {},
          "execution_count": 7
        }
      ],
      "source": [
        "d={'a':1,'b':2,'c':3,'d':4,'e':5}\n",
        "s3=pd.Series(d)\n",
        "s3"
      ]
    },
    {
      "cell_type": "markdown",
      "metadata": {
        "id": "0bafGHru9keE"
      },
      "source": [
        "### Basic Operations on `Series`  "
      ]
    },
    {
      "cell_type": "markdown",
      "metadata": {
        "id": "PzjQay_-9keF"
      },
      "source": [
        "#### 6. Modify `Series` index"
      ]
    },
    {
      "cell_type": "code",
      "execution_count": null,
      "metadata": {
        "id": "wW8Y7KIT9keF"
      },
      "outputs": [],
      "source": [
        "print(s1) # Take s1 for example\n",
        "s1.index=['A','B','C','D','E'] # The modified index\n",
        "s1"
      ]
    },
    {
      "cell_type": "code",
      "execution_count": 9,
      "metadata": {
        "colab": {
          "base_uri": "https://localhost:8080/"
        },
        "id": "I1vzOjZd9keF",
        "outputId": "7948f01c-f8d6-4d9a-fe98-066338d62667"
      },
      "outputs": [
        {
          "output_type": "stream",
          "name": "stdout",
          "text": [
            "A    0\n",
            "B    1\n",
            "C    2\n",
            "D    3\n",
            "E    4\n",
            "dtype: int64\n"
          ]
        },
        {
          "output_type": "execute_result",
          "data": {
            "text/plain": [
              "A    0\n",
              "B    1\n",
              "C    2\n",
              "D    3\n",
              "E    4\n",
              "dtype: int64"
            ]
          },
          "metadata": {},
          "execution_count": 9
        }
      ],
      "source": [
        "print(s1)  \n",
        "s1.index=['A','B','C','D','E']\n",
        "s1"
      ]
    },
    {
      "cell_type": "markdown",
      "metadata": {
        "id": "mWrdziDr9keF"
      },
      "source": [
        "#### 7. Vertical stitching of `Series`  "
      ]
    },
    {
      "cell_type": "code",
      "execution_count": null,
      "metadata": {
        "id": "modSDsup9keG"
      },
      "outputs": [],
      "source": [
        "s4=s3.append(s1) # Stitch s1 to s3\n",
        "s4"
      ]
    },
    {
      "cell_type": "code",
      "execution_count": 10,
      "metadata": {
        "colab": {
          "base_uri": "https://localhost:8080/"
        },
        "id": "5WERom0A9keG",
        "outputId": "234b93b2-7c76-44c8-fe03-adc04cdbbc79"
      },
      "outputs": [
        {
          "output_type": "stream",
          "name": "stderr",
          "text": [
            "<ipython-input-10-68d3b012a07a>:1: FutureWarning: The series.append method is deprecated and will be removed from pandas in a future version. Use pandas.concat instead.\n",
            "  s4=s3.append(s1)\n"
          ]
        },
        {
          "output_type": "execute_result",
          "data": {
            "text/plain": [
              "a    1\n",
              "b    2\n",
              "c    3\n",
              "d    4\n",
              "e    5\n",
              "A    0\n",
              "B    1\n",
              "C    2\n",
              "D    3\n",
              "E    4\n",
              "dtype: int64"
            ]
          },
          "metadata": {},
          "execution_count": 10
        }
      ],
      "source": [
        "s4=s3.append(s1)\n",
        "s4"
      ]
    },
    {
      "cell_type": "markdown",
      "metadata": {
        "id": "r4ILZ6oB9keG"
      },
      "source": [
        "#### 8. `Series`: Delete element at the specified index "
      ]
    },
    {
      "cell_type": "code",
      "execution_count": null,
      "metadata": {
        "id": "sPiciEna9keH"
      },
      "outputs": [],
      "source": [
        "print(s4)\n",
        "s4=s4.drop('e') # Delete the value whose index is e  \n",
        "s4"
      ]
    },
    {
      "cell_type": "code",
      "execution_count": 11,
      "metadata": {
        "colab": {
          "base_uri": "https://localhost:8080/"
        },
        "id": "FMClF2PF9keH",
        "outputId": "79ff16d3-37e0-4ab6-e30a-3dee301367e4"
      },
      "outputs": [
        {
          "output_type": "stream",
          "name": "stdout",
          "text": [
            "a    1\n",
            "b    2\n",
            "c    3\n",
            "d    4\n",
            "e    5\n",
            "A    0\n",
            "B    1\n",
            "C    2\n",
            "D    3\n",
            "E    4\n",
            "dtype: int64\n"
          ]
        },
        {
          "output_type": "execute_result",
          "data": {
            "text/plain": [
              "a    1\n",
              "b    2\n",
              "c    3\n",
              "d    4\n",
              "A    0\n",
              "B    1\n",
              "C    2\n",
              "D    3\n",
              "E    4\n",
              "dtype: int64"
            ]
          },
          "metadata": {},
          "execution_count": 11
        }
      ],
      "source": [
        "print(s4)\n",
        "s4=s4.drop('e') \n",
        "s4"
      ]
    },
    {
      "cell_type": "markdown",
      "metadata": {
        "id": "7H4KG-889keH"
      },
      "source": [
        "#### 9. `Series`: Modify element at the specified index "
      ]
    },
    {
      "cell_type": "code",
      "execution_count": null,
      "metadata": {
        "id": "7wv1DPcG9keH"
      },
      "outputs": [],
      "source": [
        "s4['A']=6 # Modify the value whose index is A to 6\n",
        "s4"
      ]
    },
    {
      "cell_type": "code",
      "execution_count": 12,
      "metadata": {
        "colab": {
          "base_uri": "https://localhost:8080/"
        },
        "id": "KE80WCLa9keI",
        "outputId": "72b25961-2838-4da8-a5b2-15af72f11251"
      },
      "outputs": [
        {
          "output_type": "execute_result",
          "data": {
            "text/plain": [
              "a    1\n",
              "b    2\n",
              "c    3\n",
              "d    4\n",
              "A    6\n",
              "B    1\n",
              "C    2\n",
              "D    3\n",
              "E    4\n",
              "dtype: int64"
            ]
          },
          "metadata": {},
          "execution_count": 12
        }
      ],
      "source": [
        "s4['A']=6\n",
        "s4"
      ]
    },
    {
      "cell_type": "markdown",
      "metadata": {
        "id": "FfrSGTU29keI"
      },
      "source": [
        "#### 10. `Series`: Retrieve the element at the specified index "
      ]
    },
    {
      "cell_type": "code",
      "execution_count": null,
      "metadata": {
        "id": "26m44MZ99keI"
      },
      "outputs": [],
      "source": [
        "s4['B']"
      ]
    },
    {
      "cell_type": "code",
      "execution_count": 13,
      "metadata": {
        "colab": {
          "base_uri": "https://localhost:8080/"
        },
        "id": "g09pYXf69keI",
        "outputId": "39f2cbdd-27f3-400f-d760-5ee120282a47"
      },
      "outputs": [
        {
          "output_type": "execute_result",
          "data": {
            "text/plain": [
              "1"
            ]
          },
          "metadata": {},
          "execution_count": 13
        }
      ],
      "source": [
        "s4['B']"
      ]
    },
    {
      "cell_type": "markdown",
      "metadata": {
        "id": "-z7RfTvF9keJ"
      },
      "source": [
        "#### 11. `Series` slicing\n",
        "Access the first three data of `s4`:"
      ]
    },
    {
      "cell_type": "code",
      "execution_count": null,
      "metadata": {
        "id": "3F-rCrRv9keJ"
      },
      "outputs": [],
      "source": [
        "s4[:3]"
      ]
    },
    {
      "cell_type": "code",
      "execution_count": 14,
      "metadata": {
        "colab": {
          "base_uri": "https://localhost:8080/"
        },
        "id": "qGzHIMED9keJ",
        "outputId": "e5f28f41-6eb7-4923-819b-f76f1bed1159"
      },
      "outputs": [
        {
          "output_type": "execute_result",
          "data": {
            "text/plain": [
              "a    1\n",
              "b    2\n",
              "c    3\n",
              "dtype: int64"
            ]
          },
          "metadata": {},
          "execution_count": 14
        }
      ],
      "source": [
        "s4[:3]"
      ]
    },
    {
      "cell_type": "markdown",
      "metadata": {
        "id": "KoAZk9TC9keK"
      },
      "source": [
        "### Series Operations"
      ]
    },
    {
      "cell_type": "markdown",
      "metadata": {
        "id": "4qkZkNHD9keK"
      },
      "source": [
        "#### 12. Series Addition\n",
        "Series addition is calculated according to the index, and it would be filled with `NaN` (null value) if the indexes are different:"
      ]
    },
    {
      "cell_type": "code",
      "execution_count": null,
      "metadata": {
        "id": "_RBJNuMA9keK"
      },
      "outputs": [],
      "source": [
        "s4.add(s3)"
      ]
    },
    {
      "cell_type": "code",
      "execution_count": 15,
      "metadata": {
        "colab": {
          "base_uri": "https://localhost:8080/"
        },
        "id": "kJ7mH0CS9keK",
        "outputId": "81ecad9d-5ac4-4c80-c3a7-1399f56d6fdf"
      },
      "outputs": [
        {
          "output_type": "execute_result",
          "data": {
            "text/plain": [
              "A    NaN\n",
              "B    NaN\n",
              "C    NaN\n",
              "D    NaN\n",
              "E    NaN\n",
              "a    2.0\n",
              "b    4.0\n",
              "c    6.0\n",
              "d    8.0\n",
              "e    NaN\n",
              "dtype: float64"
            ]
          },
          "metadata": {},
          "execution_count": 15
        }
      ],
      "source": [
        "s4.add(s3)"
      ]
    },
    {
      "cell_type": "markdown",
      "metadata": {
        "id": "VuqYLnE79keL"
      },
      "source": [
        "#### 13. Series Subtraction\n",
        "Series subtraction is calculated according to the index, and it would be filled with `NaN` (null value) if the indexes are different:"
      ]
    },
    {
      "cell_type": "code",
      "execution_count": 16,
      "metadata": {
        "colab": {
          "base_uri": "https://localhost:8080/"
        },
        "id": "ybgEPbE49keL",
        "outputId": "bd6995e3-5ada-463c-e001-38952faa493e"
      },
      "outputs": [
        {
          "output_type": "execute_result",
          "data": {
            "text/plain": [
              "A    NaN\n",
              "B    NaN\n",
              "C    NaN\n",
              "D    NaN\n",
              "E    NaN\n",
              "a    0.0\n",
              "b    0.0\n",
              "c    0.0\n",
              "d    0.0\n",
              "e    NaN\n",
              "dtype: float64"
            ]
          },
          "metadata": {},
          "execution_count": 16
        }
      ],
      "source": [
        "s4.sub(s3)"
      ]
    },
    {
      "cell_type": "markdown",
      "metadata": {
        "id": "-eNgzGCi9keL"
      },
      "source": [
        "#### 14. Series Multiplication\n",
        "Series multiplication is calculated according to the index, and it would be filled with `NaN` (null value) if the indexes are different:\n"
      ]
    },
    {
      "cell_type": "code",
      "execution_count": 17,
      "metadata": {
        "colab": {
          "base_uri": "https://localhost:8080/"
        },
        "id": "5RmQaQ6B9keL",
        "outputId": "9d8c390f-aa0b-43a9-9d1a-59ac25cd8305"
      },
      "outputs": [
        {
          "output_type": "execute_result",
          "data": {
            "text/plain": [
              "A     NaN\n",
              "B     NaN\n",
              "C     NaN\n",
              "D     NaN\n",
              "E     NaN\n",
              "a     1.0\n",
              "b     4.0\n",
              "c     9.0\n",
              "d    16.0\n",
              "e     NaN\n",
              "dtype: float64"
            ]
          },
          "metadata": {},
          "execution_count": 17
        }
      ],
      "source": [
        "s4.mul(s3)"
      ]
    },
    {
      "cell_type": "markdown",
      "metadata": {
        "id": "aF5DTYuL9keM"
      },
      "source": [
        "#### 15. Series Division\n",
        "Series division is calculated according to the index, and it would be filled with `NaN` (null value) if the indexes are different:"
      ]
    },
    {
      "cell_type": "code",
      "execution_count": 18,
      "metadata": {
        "colab": {
          "base_uri": "https://localhost:8080/"
        },
        "id": "2fdWoJvS9keM",
        "outputId": "43221664-9688-4331-afde-94d15b91a6a3"
      },
      "outputs": [
        {
          "output_type": "execute_result",
          "data": {
            "text/plain": [
              "A    NaN\n",
              "B    NaN\n",
              "C    NaN\n",
              "D    NaN\n",
              "E    NaN\n",
              "a    1.0\n",
              "b    1.0\n",
              "c    1.0\n",
              "d    1.0\n",
              "e    NaN\n",
              "dtype: float64"
            ]
          },
          "metadata": {},
          "execution_count": 18
        }
      ],
      "source": [
        "s4.div(s3)"
      ]
    },
    {
      "cell_type": "markdown",
      "metadata": {
        "id": "eeW4gL7b9keM"
      },
      "source": [
        "#### 16. Series: Get the median"
      ]
    },
    {
      "cell_type": "code",
      "execution_count": null,
      "metadata": {
        "id": "E6z2HLff9keN"
      },
      "outputs": [],
      "source": [
        "s4.median()"
      ]
    },
    {
      "cell_type": "code",
      "execution_count": 19,
      "metadata": {
        "colab": {
          "base_uri": "https://localhost:8080/"
        },
        "id": "GyxW4jXh9keN",
        "outputId": "6339d654-bc0b-438e-d1f0-f859a5b2ef05"
      },
      "outputs": [
        {
          "output_type": "execute_result",
          "data": {
            "text/plain": [
              "3.0"
            ]
          },
          "metadata": {},
          "execution_count": 19
        }
      ],
      "source": [
        "s4.median()"
      ]
    },
    {
      "cell_type": "markdown",
      "metadata": {
        "id": "D9Vvfi7f9keN"
      },
      "source": [
        "#### 17. Series: Get the sum"
      ]
    },
    {
      "cell_type": "code",
      "execution_count": null,
      "metadata": {
        "id": "SoVotyg79keO"
      },
      "outputs": [],
      "source": [
        "s4.sum()"
      ]
    },
    {
      "cell_type": "code",
      "execution_count": 20,
      "metadata": {
        "colab": {
          "base_uri": "https://localhost:8080/"
        },
        "id": "KZG7f5Qo9keO",
        "outputId": "c7dc6ccc-98b2-4d73-d022-b9bb9d120f33"
      },
      "outputs": [
        {
          "output_type": "execute_result",
          "data": {
            "text/plain": [
              "26"
            ]
          },
          "metadata": {},
          "execution_count": 20
        }
      ],
      "source": [
        "s4.sum()"
      ]
    },
    {
      "cell_type": "markdown",
      "metadata": {
        "id": "AdDroS1N9keO"
      },
      "source": [
        "#### 18. Series: Get the maximum value"
      ]
    },
    {
      "cell_type": "code",
      "execution_count": null,
      "metadata": {
        "id": "qo9iEmD39keO"
      },
      "outputs": [],
      "source": [
        "s4.max()"
      ]
    },
    {
      "cell_type": "code",
      "execution_count": 21,
      "metadata": {
        "colab": {
          "base_uri": "https://localhost:8080/"
        },
        "id": "q5dWIffZ9keP",
        "outputId": "04d72ed4-6b69-4d64-da20-e7dd462b8379"
      },
      "outputs": [
        {
          "output_type": "execute_result",
          "data": {
            "text/plain": [
              "6"
            ]
          },
          "metadata": {},
          "execution_count": 21
        }
      ],
      "source": [
        "s4.max()"
      ]
    },
    {
      "cell_type": "markdown",
      "metadata": {
        "id": "q875Uh8h9keP"
      },
      "source": [
        "#### 19. Series: Get the minimum value"
      ]
    },
    {
      "cell_type": "code",
      "execution_count": null,
      "metadata": {
        "id": "dkY9g_Fo9keP"
      },
      "outputs": [],
      "source": [
        "s4.min()"
      ]
    },
    {
      "cell_type": "code",
      "execution_count": 22,
      "metadata": {
        "colab": {
          "base_uri": "https://localhost:8080/"
        },
        "id": "idfQoxep9keQ",
        "outputId": "7e6079b0-59ec-47d0-d12b-3f4f8fc75476"
      },
      "outputs": [
        {
          "output_type": "execute_result",
          "data": {
            "text/plain": [
              "1"
            ]
          },
          "metadata": {},
          "execution_count": 22
        }
      ],
      "source": [
        "s4.min()"
      ]
    },
    {
      "cell_type": "markdown",
      "metadata": {
        "id": "BhrLlxq09keQ"
      },
      "source": [
        "### Create `DataFrame`"
      ]
    },
    {
      "cell_type": "markdown",
      "metadata": {
        "id": "582LHu2i9keQ"
      },
      "source": [
        "Unlike `Series`, `DataFrame` can have multiple columns of data. In general, `DataFrame` is also commonly used."
      ]
    },
    {
      "cell_type": "markdown",
      "metadata": {
        "id": "zFpZ-N6-9keQ"
      },
      "source": [
        "#### 20. Create `DataFrame` with NumPy array"
      ]
    },
    {
      "cell_type": "code",
      "execution_count": null,
      "metadata": {
        "id": "IF1QJjdj9keR"
      },
      "outputs": [],
      "source": [
        "dates=pd.date_range('today',periods=6) # Define time sequence as index\n",
        "num_arr=np.random.randn(6,4) # Import numpy random array\n",
        "columns=['A','B','C','D'] # Use the table as the column name\n",
        "df1=pd.DataFrame(num_arr,index=dates,columns=columns)\n",
        "df1"
      ]
    },
    {
      "cell_type": "code",
      "execution_count": 23,
      "metadata": {
        "colab": {
          "base_uri": "https://localhost:8080/",
          "height": 238
        },
        "id": "LOND4kC79keR",
        "outputId": "291f4f6c-84ec-4178-8e67-86c304988347"
      },
      "outputs": [
        {
          "output_type": "execute_result",
          "data": {
            "text/plain": [
              "                                   A         B         C         D\n",
              "2023-04-07 21:01:51.081989  0.242947 -2.558171  0.230434  0.511556\n",
              "2023-04-08 21:01:51.081989  1.031627  0.674852 -0.736961 -0.814123\n",
              "2023-04-09 21:01:51.081989  0.156497  1.089977 -0.807071  0.610214\n",
              "2023-04-10 21:01:51.081989 -0.198697 -0.619245  0.445459 -0.001278\n",
              "2023-04-11 21:01:51.081989  1.019541  0.422861 -1.515674  1.415453\n",
              "2023-04-12 21:01:51.081989  0.520908  1.335959  0.051609 -0.384970"
            ],
            "text/html": [
              "\n",
              "  <div id=\"df-6ff38843-3202-47b0-9e56-679bf0902d04\">\n",
              "    <div class=\"colab-df-container\">\n",
              "      <div>\n",
              "<style scoped>\n",
              "    .dataframe tbody tr th:only-of-type {\n",
              "        vertical-align: middle;\n",
              "    }\n",
              "\n",
              "    .dataframe tbody tr th {\n",
              "        vertical-align: top;\n",
              "    }\n",
              "\n",
              "    .dataframe thead th {\n",
              "        text-align: right;\n",
              "    }\n",
              "</style>\n",
              "<table border=\"1\" class=\"dataframe\">\n",
              "  <thead>\n",
              "    <tr style=\"text-align: right;\">\n",
              "      <th></th>\n",
              "      <th>A</th>\n",
              "      <th>B</th>\n",
              "      <th>C</th>\n",
              "      <th>D</th>\n",
              "    </tr>\n",
              "  </thead>\n",
              "  <tbody>\n",
              "    <tr>\n",
              "      <th>2023-04-07 21:01:51.081989</th>\n",
              "      <td>0.242947</td>\n",
              "      <td>-2.558171</td>\n",
              "      <td>0.230434</td>\n",
              "      <td>0.511556</td>\n",
              "    </tr>\n",
              "    <tr>\n",
              "      <th>2023-04-08 21:01:51.081989</th>\n",
              "      <td>1.031627</td>\n",
              "      <td>0.674852</td>\n",
              "      <td>-0.736961</td>\n",
              "      <td>-0.814123</td>\n",
              "    </tr>\n",
              "    <tr>\n",
              "      <th>2023-04-09 21:01:51.081989</th>\n",
              "      <td>0.156497</td>\n",
              "      <td>1.089977</td>\n",
              "      <td>-0.807071</td>\n",
              "      <td>0.610214</td>\n",
              "    </tr>\n",
              "    <tr>\n",
              "      <th>2023-04-10 21:01:51.081989</th>\n",
              "      <td>-0.198697</td>\n",
              "      <td>-0.619245</td>\n",
              "      <td>0.445459</td>\n",
              "      <td>-0.001278</td>\n",
              "    </tr>\n",
              "    <tr>\n",
              "      <th>2023-04-11 21:01:51.081989</th>\n",
              "      <td>1.019541</td>\n",
              "      <td>0.422861</td>\n",
              "      <td>-1.515674</td>\n",
              "      <td>1.415453</td>\n",
              "    </tr>\n",
              "    <tr>\n",
              "      <th>2023-04-12 21:01:51.081989</th>\n",
              "      <td>0.520908</td>\n",
              "      <td>1.335959</td>\n",
              "      <td>0.051609</td>\n",
              "      <td>-0.384970</td>\n",
              "    </tr>\n",
              "  </tbody>\n",
              "</table>\n",
              "</div>\n",
              "      <button class=\"colab-df-convert\" onclick=\"convertToInteractive('df-6ff38843-3202-47b0-9e56-679bf0902d04')\"\n",
              "              title=\"Convert this dataframe to an interactive table.\"\n",
              "              style=\"display:none;\">\n",
              "        \n",
              "  <svg xmlns=\"http://www.w3.org/2000/svg\" height=\"24px\"viewBox=\"0 0 24 24\"\n",
              "       width=\"24px\">\n",
              "    <path d=\"M0 0h24v24H0V0z\" fill=\"none\"/>\n",
              "    <path d=\"M18.56 5.44l.94 2.06.94-2.06 2.06-.94-2.06-.94-.94-2.06-.94 2.06-2.06.94zm-11 1L8.5 8.5l.94-2.06 2.06-.94-2.06-.94L8.5 2.5l-.94 2.06-2.06.94zm10 10l.94 2.06.94-2.06 2.06-.94-2.06-.94-.94-2.06-.94 2.06-2.06.94z\"/><path d=\"M17.41 7.96l-1.37-1.37c-.4-.4-.92-.59-1.43-.59-.52 0-1.04.2-1.43.59L10.3 9.45l-7.72 7.72c-.78.78-.78 2.05 0 2.83L4 21.41c.39.39.9.59 1.41.59.51 0 1.02-.2 1.41-.59l7.78-7.78 2.81-2.81c.8-.78.8-2.07 0-2.86zM5.41 20L4 18.59l7.72-7.72 1.47 1.35L5.41 20z\"/>\n",
              "  </svg>\n",
              "      </button>\n",
              "      \n",
              "  <style>\n",
              "    .colab-df-container {\n",
              "      display:flex;\n",
              "      flex-wrap:wrap;\n",
              "      gap: 12px;\n",
              "    }\n",
              "\n",
              "    .colab-df-convert {\n",
              "      background-color: #E8F0FE;\n",
              "      border: none;\n",
              "      border-radius: 50%;\n",
              "      cursor: pointer;\n",
              "      display: none;\n",
              "      fill: #1967D2;\n",
              "      height: 32px;\n",
              "      padding: 0 0 0 0;\n",
              "      width: 32px;\n",
              "    }\n",
              "\n",
              "    .colab-df-convert:hover {\n",
              "      background-color: #E2EBFA;\n",
              "      box-shadow: 0px 1px 2px rgba(60, 64, 67, 0.3), 0px 1px 3px 1px rgba(60, 64, 67, 0.15);\n",
              "      fill: #174EA6;\n",
              "    }\n",
              "\n",
              "    [theme=dark] .colab-df-convert {\n",
              "      background-color: #3B4455;\n",
              "      fill: #D2E3FC;\n",
              "    }\n",
              "\n",
              "    [theme=dark] .colab-df-convert:hover {\n",
              "      background-color: #434B5C;\n",
              "      box-shadow: 0px 1px 3px 1px rgba(0, 0, 0, 0.15);\n",
              "      filter: drop-shadow(0px 1px 2px rgba(0, 0, 0, 0.3));\n",
              "      fill: #FFFFFF;\n",
              "    }\n",
              "  </style>\n",
              "\n",
              "      <script>\n",
              "        const buttonEl =\n",
              "          document.querySelector('#df-6ff38843-3202-47b0-9e56-679bf0902d04 button.colab-df-convert');\n",
              "        buttonEl.style.display =\n",
              "          google.colab.kernel.accessAllowed ? 'block' : 'none';\n",
              "\n",
              "        async function convertToInteractive(key) {\n",
              "          const element = document.querySelector('#df-6ff38843-3202-47b0-9e56-679bf0902d04');\n",
              "          const dataTable =\n",
              "            await google.colab.kernel.invokeFunction('convertToInteractive',\n",
              "                                                     [key], {});\n",
              "          if (!dataTable) return;\n",
              "\n",
              "          const docLinkHtml = 'Like what you see? Visit the ' +\n",
              "            '<a target=\"_blank\" href=https://colab.research.google.com/notebooks/data_table.ipynb>data table notebook</a>'\n",
              "            + ' to learn more about interactive tables.';\n",
              "          element.innerHTML = '';\n",
              "          dataTable['output_type'] = 'display_data';\n",
              "          await google.colab.output.renderOutput(dataTable, element);\n",
              "          const docLink = document.createElement('div');\n",
              "          docLink.innerHTML = docLinkHtml;\n",
              "          element.appendChild(docLink);\n",
              "        }\n",
              "      </script>\n",
              "    </div>\n",
              "  </div>\n",
              "  "
            ]
          },
          "metadata": {},
          "execution_count": 23
        }
      ],
      "source": [
        "dates=pd.date_range('today',periods=6)\n",
        "num_arr=np.random.randn(6,4) \n",
        "columns=['A','B','C','D']\n",
        "df1=pd.DataFrame(num_arr,index=dates,columns=columns)\n",
        "df1"
      ]
    },
    {
      "cell_type": "markdown",
      "metadata": {
        "id": "Lck5pnxZ9keR"
      },
      "source": [
        "#### 21. Create `DataFrame` with dictionary array"
      ]
    },
    {
      "cell_type": "code",
      "execution_count": null,
      "metadata": {
        "id": "Yx2aLXEW9keR"
      },
      "outputs": [],
      "source": [
        "data = {'animal': ['cat', 'cat', 'snake', 'dog', 'dog', 'cat', 'snake', 'cat', 'dog', 'dog'],\n",
        "        'age': [2.5, 3, 0.5, np.nan, 5, 2, 4.5, np.nan, 7, 3],\n",
        "        'visits': [1, 3, 2, 3, 2, 3, 1, 1, 2, 1],\n",
        "        'priority': ['yes', 'yes', 'no', 'yes', 'no', 'no', 'no', 'yes', 'no', 'no']}\n",
        "\n",
        "labels = ['a', 'b', 'c', 'd', 'e', 'f', 'g', 'h', 'i', 'j']\n",
        "df2 = pd.DataFrame(data, index=labels)\n",
        "df2"
      ]
    },
    {
      "cell_type": "code",
      "execution_count": 24,
      "metadata": {
        "colab": {
          "base_uri": "https://localhost:8080/",
          "height": 363
        },
        "id": "8ka4-iRD9keS",
        "outputId": "f4e1a63b-5056-473d-ae8f-efff3ed20590"
      },
      "outputs": [
        {
          "output_type": "execute_result",
          "data": {
            "text/plain": [
              "  animal  age  visits priority\n",
              "a    cat  2.5       1      yes\n",
              "b    cat  3.0       3      yes\n",
              "c  snake  0.5       2       no\n",
              "d    dog  NaN       3      yes\n",
              "e    dog  5.0       2       no\n",
              "f    cat  2.0       3       no\n",
              "g  snake  4.5       1       no\n",
              "h    cat  NaN       1      yes\n",
              "i    dog  7.0       2       no\n",
              "j    dog  3.0       1       no"
            ],
            "text/html": [
              "\n",
              "  <div id=\"df-bd1af0cc-ff63-4093-82ae-d36daa6111e8\">\n",
              "    <div class=\"colab-df-container\">\n",
              "      <div>\n",
              "<style scoped>\n",
              "    .dataframe tbody tr th:only-of-type {\n",
              "        vertical-align: middle;\n",
              "    }\n",
              "\n",
              "    .dataframe tbody tr th {\n",
              "        vertical-align: top;\n",
              "    }\n",
              "\n",
              "    .dataframe thead th {\n",
              "        text-align: right;\n",
              "    }\n",
              "</style>\n",
              "<table border=\"1\" class=\"dataframe\">\n",
              "  <thead>\n",
              "    <tr style=\"text-align: right;\">\n",
              "      <th></th>\n",
              "      <th>animal</th>\n",
              "      <th>age</th>\n",
              "      <th>visits</th>\n",
              "      <th>priority</th>\n",
              "    </tr>\n",
              "  </thead>\n",
              "  <tbody>\n",
              "    <tr>\n",
              "      <th>a</th>\n",
              "      <td>cat</td>\n",
              "      <td>2.5</td>\n",
              "      <td>1</td>\n",
              "      <td>yes</td>\n",
              "    </tr>\n",
              "    <tr>\n",
              "      <th>b</th>\n",
              "      <td>cat</td>\n",
              "      <td>3.0</td>\n",
              "      <td>3</td>\n",
              "      <td>yes</td>\n",
              "    </tr>\n",
              "    <tr>\n",
              "      <th>c</th>\n",
              "      <td>snake</td>\n",
              "      <td>0.5</td>\n",
              "      <td>2</td>\n",
              "      <td>no</td>\n",
              "    </tr>\n",
              "    <tr>\n",
              "      <th>d</th>\n",
              "      <td>dog</td>\n",
              "      <td>NaN</td>\n",
              "      <td>3</td>\n",
              "      <td>yes</td>\n",
              "    </tr>\n",
              "    <tr>\n",
              "      <th>e</th>\n",
              "      <td>dog</td>\n",
              "      <td>5.0</td>\n",
              "      <td>2</td>\n",
              "      <td>no</td>\n",
              "    </tr>\n",
              "    <tr>\n",
              "      <th>f</th>\n",
              "      <td>cat</td>\n",
              "      <td>2.0</td>\n",
              "      <td>3</td>\n",
              "      <td>no</td>\n",
              "    </tr>\n",
              "    <tr>\n",
              "      <th>g</th>\n",
              "      <td>snake</td>\n",
              "      <td>4.5</td>\n",
              "      <td>1</td>\n",
              "      <td>no</td>\n",
              "    </tr>\n",
              "    <tr>\n",
              "      <th>h</th>\n",
              "      <td>cat</td>\n",
              "      <td>NaN</td>\n",
              "      <td>1</td>\n",
              "      <td>yes</td>\n",
              "    </tr>\n",
              "    <tr>\n",
              "      <th>i</th>\n",
              "      <td>dog</td>\n",
              "      <td>7.0</td>\n",
              "      <td>2</td>\n",
              "      <td>no</td>\n",
              "    </tr>\n",
              "    <tr>\n",
              "      <th>j</th>\n",
              "      <td>dog</td>\n",
              "      <td>3.0</td>\n",
              "      <td>1</td>\n",
              "      <td>no</td>\n",
              "    </tr>\n",
              "  </tbody>\n",
              "</table>\n",
              "</div>\n",
              "      <button class=\"colab-df-convert\" onclick=\"convertToInteractive('df-bd1af0cc-ff63-4093-82ae-d36daa6111e8')\"\n",
              "              title=\"Convert this dataframe to an interactive table.\"\n",
              "              style=\"display:none;\">\n",
              "        \n",
              "  <svg xmlns=\"http://www.w3.org/2000/svg\" height=\"24px\"viewBox=\"0 0 24 24\"\n",
              "       width=\"24px\">\n",
              "    <path d=\"M0 0h24v24H0V0z\" fill=\"none\"/>\n",
              "    <path d=\"M18.56 5.44l.94 2.06.94-2.06 2.06-.94-2.06-.94-.94-2.06-.94 2.06-2.06.94zm-11 1L8.5 8.5l.94-2.06 2.06-.94-2.06-.94L8.5 2.5l-.94 2.06-2.06.94zm10 10l.94 2.06.94-2.06 2.06-.94-2.06-.94-.94-2.06-.94 2.06-2.06.94z\"/><path d=\"M17.41 7.96l-1.37-1.37c-.4-.4-.92-.59-1.43-.59-.52 0-1.04.2-1.43.59L10.3 9.45l-7.72 7.72c-.78.78-.78 2.05 0 2.83L4 21.41c.39.39.9.59 1.41.59.51 0 1.02-.2 1.41-.59l7.78-7.78 2.81-2.81c.8-.78.8-2.07 0-2.86zM5.41 20L4 18.59l7.72-7.72 1.47 1.35L5.41 20z\"/>\n",
              "  </svg>\n",
              "      </button>\n",
              "      \n",
              "  <style>\n",
              "    .colab-df-container {\n",
              "      display:flex;\n",
              "      flex-wrap:wrap;\n",
              "      gap: 12px;\n",
              "    }\n",
              "\n",
              "    .colab-df-convert {\n",
              "      background-color: #E8F0FE;\n",
              "      border: none;\n",
              "      border-radius: 50%;\n",
              "      cursor: pointer;\n",
              "      display: none;\n",
              "      fill: #1967D2;\n",
              "      height: 32px;\n",
              "      padding: 0 0 0 0;\n",
              "      width: 32px;\n",
              "    }\n",
              "\n",
              "    .colab-df-convert:hover {\n",
              "      background-color: #E2EBFA;\n",
              "      box-shadow: 0px 1px 2px rgba(60, 64, 67, 0.3), 0px 1px 3px 1px rgba(60, 64, 67, 0.15);\n",
              "      fill: #174EA6;\n",
              "    }\n",
              "\n",
              "    [theme=dark] .colab-df-convert {\n",
              "      background-color: #3B4455;\n",
              "      fill: #D2E3FC;\n",
              "    }\n",
              "\n",
              "    [theme=dark] .colab-df-convert:hover {\n",
              "      background-color: #434B5C;\n",
              "      box-shadow: 0px 1px 3px 1px rgba(0, 0, 0, 0.15);\n",
              "      filter: drop-shadow(0px 1px 2px rgba(0, 0, 0, 0.3));\n",
              "      fill: #FFFFFF;\n",
              "    }\n",
              "  </style>\n",
              "\n",
              "      <script>\n",
              "        const buttonEl =\n",
              "          document.querySelector('#df-bd1af0cc-ff63-4093-82ae-d36daa6111e8 button.colab-df-convert');\n",
              "        buttonEl.style.display =\n",
              "          google.colab.kernel.accessAllowed ? 'block' : 'none';\n",
              "\n",
              "        async function convertToInteractive(key) {\n",
              "          const element = document.querySelector('#df-bd1af0cc-ff63-4093-82ae-d36daa6111e8');\n",
              "          const dataTable =\n",
              "            await google.colab.kernel.invokeFunction('convertToInteractive',\n",
              "                                                     [key], {});\n",
              "          if (!dataTable) return;\n",
              "\n",
              "          const docLinkHtml = 'Like what you see? Visit the ' +\n",
              "            '<a target=\"_blank\" href=https://colab.research.google.com/notebooks/data_table.ipynb>data table notebook</a>'\n",
              "            + ' to learn more about interactive tables.';\n",
              "          element.innerHTML = '';\n",
              "          dataTable['output_type'] = 'display_data';\n",
              "          await google.colab.output.renderOutput(dataTable, element);\n",
              "          const docLink = document.createElement('div');\n",
              "          docLink.innerHTML = docLinkHtml;\n",
              "          element.appendChild(docLink);\n",
              "        }\n",
              "      </script>\n",
              "    </div>\n",
              "  </div>\n",
              "  "
            ]
          },
          "metadata": {},
          "execution_count": 24
        }
      ],
      "source": [
        "data = {'animal': ['cat', 'cat', 'snake', 'dog', 'dog', 'cat', 'snake', 'cat', 'dog', 'dog'],\n",
        "        'age': [2.5, 3, 0.5, np.nan, 5, 2, 4.5, np.nan, 7, 3],\n",
        "        'visits': [1, 3, 2, 3, 2, 3, 1, 1, 2, 1],\n",
        "        'priority': ['yes', 'yes', 'no', 'yes', 'no', 'no', 'no', 'yes', 'no', 'no']}\n",
        "\n",
        "labels = ['a', 'b', 'c', 'd', 'e', 'f', 'g', 'h', 'i', 'j']\n",
        "df2 = pd.DataFrame(data, index=labels)\n",
        "df2"
      ]
    },
    {
      "cell_type": "markdown",
      "metadata": {
        "id": "CxyxAdQZ9keS"
      },
      "source": [
        "#### 22. See the data type of `DataFrame`"
      ]
    },
    {
      "cell_type": "code",
      "execution_count": null,
      "metadata": {
        "id": "UrWnlPz_9keS"
      },
      "outputs": [],
      "source": [
        "df2.dtypes"
      ]
    },
    {
      "cell_type": "code",
      "execution_count": 25,
      "metadata": {
        "colab": {
          "base_uri": "https://localhost:8080/"
        },
        "id": "-qGKzXz59keT",
        "outputId": "32957763-1ade-4906-f798-5fa2a3f26a50"
      },
      "outputs": [
        {
          "output_type": "execute_result",
          "data": {
            "text/plain": [
              "animal       object\n",
              "age         float64\n",
              "visits        int64\n",
              "priority     object\n",
              "dtype: object"
            ]
          },
          "metadata": {},
          "execution_count": 25
        }
      ],
      "source": [
        "df2.dtypes"
      ]
    },
    {
      "cell_type": "markdown",
      "metadata": {
        "id": "bw22Xt9d9keT"
      },
      "source": [
        "### Basic Operations on `DataFrame`  "
      ]
    },
    {
      "cell_type": "markdown",
      "metadata": {
        "id": "NmVeu0hC9keT"
      },
      "source": [
        "#### 23. Preview the first five rows of `DataFrame` data\n",
        "\n",
        "This method is very useful for quickly understanding the structures of unfamiliar datasets:"
      ]
    },
    {
      "cell_type": "code",
      "execution_count": null,
      "metadata": {
        "id": "urs0m0El9keU"
      },
      "outputs": [],
      "source": [
        "df2.head() # It displays 5 lines by default. In the parentheses, you can specify the number of lines you want to preview as needed."
      ]
    },
    {
      "cell_type": "code",
      "execution_count": 26,
      "metadata": {
        "colab": {
          "base_uri": "https://localhost:8080/",
          "height": 206
        },
        "id": "9QrkYsjO9keU",
        "outputId": "ff33f02e-e558-452c-b701-d106d1501efb"
      },
      "outputs": [
        {
          "output_type": "execute_result",
          "data": {
            "text/plain": [
              "  animal  age  visits priority\n",
              "a    cat  2.5       1      yes\n",
              "b    cat  3.0       3      yes\n",
              "c  snake  0.5       2       no\n",
              "d    dog  NaN       3      yes\n",
              "e    dog  5.0       2       no"
            ],
            "text/html": [
              "\n",
              "  <div id=\"df-587609da-1ecd-442e-98d4-517e0800fcf6\">\n",
              "    <div class=\"colab-df-container\">\n",
              "      <div>\n",
              "<style scoped>\n",
              "    .dataframe tbody tr th:only-of-type {\n",
              "        vertical-align: middle;\n",
              "    }\n",
              "\n",
              "    .dataframe tbody tr th {\n",
              "        vertical-align: top;\n",
              "    }\n",
              "\n",
              "    .dataframe thead th {\n",
              "        text-align: right;\n",
              "    }\n",
              "</style>\n",
              "<table border=\"1\" class=\"dataframe\">\n",
              "  <thead>\n",
              "    <tr style=\"text-align: right;\">\n",
              "      <th></th>\n",
              "      <th>animal</th>\n",
              "      <th>age</th>\n",
              "      <th>visits</th>\n",
              "      <th>priority</th>\n",
              "    </tr>\n",
              "  </thead>\n",
              "  <tbody>\n",
              "    <tr>\n",
              "      <th>a</th>\n",
              "      <td>cat</td>\n",
              "      <td>2.5</td>\n",
              "      <td>1</td>\n",
              "      <td>yes</td>\n",
              "    </tr>\n",
              "    <tr>\n",
              "      <th>b</th>\n",
              "      <td>cat</td>\n",
              "      <td>3.0</td>\n",
              "      <td>3</td>\n",
              "      <td>yes</td>\n",
              "    </tr>\n",
              "    <tr>\n",
              "      <th>c</th>\n",
              "      <td>snake</td>\n",
              "      <td>0.5</td>\n",
              "      <td>2</td>\n",
              "      <td>no</td>\n",
              "    </tr>\n",
              "    <tr>\n",
              "      <th>d</th>\n",
              "      <td>dog</td>\n",
              "      <td>NaN</td>\n",
              "      <td>3</td>\n",
              "      <td>yes</td>\n",
              "    </tr>\n",
              "    <tr>\n",
              "      <th>e</th>\n",
              "      <td>dog</td>\n",
              "      <td>5.0</td>\n",
              "      <td>2</td>\n",
              "      <td>no</td>\n",
              "    </tr>\n",
              "  </tbody>\n",
              "</table>\n",
              "</div>\n",
              "      <button class=\"colab-df-convert\" onclick=\"convertToInteractive('df-587609da-1ecd-442e-98d4-517e0800fcf6')\"\n",
              "              title=\"Convert this dataframe to an interactive table.\"\n",
              "              style=\"display:none;\">\n",
              "        \n",
              "  <svg xmlns=\"http://www.w3.org/2000/svg\" height=\"24px\"viewBox=\"0 0 24 24\"\n",
              "       width=\"24px\">\n",
              "    <path d=\"M0 0h24v24H0V0z\" fill=\"none\"/>\n",
              "    <path d=\"M18.56 5.44l.94 2.06.94-2.06 2.06-.94-2.06-.94-.94-2.06-.94 2.06-2.06.94zm-11 1L8.5 8.5l.94-2.06 2.06-.94-2.06-.94L8.5 2.5l-.94 2.06-2.06.94zm10 10l.94 2.06.94-2.06 2.06-.94-2.06-.94-.94-2.06-.94 2.06-2.06.94z\"/><path d=\"M17.41 7.96l-1.37-1.37c-.4-.4-.92-.59-1.43-.59-.52 0-1.04.2-1.43.59L10.3 9.45l-7.72 7.72c-.78.78-.78 2.05 0 2.83L4 21.41c.39.39.9.59 1.41.59.51 0 1.02-.2 1.41-.59l7.78-7.78 2.81-2.81c.8-.78.8-2.07 0-2.86zM5.41 20L4 18.59l7.72-7.72 1.47 1.35L5.41 20z\"/>\n",
              "  </svg>\n",
              "      </button>\n",
              "      \n",
              "  <style>\n",
              "    .colab-df-container {\n",
              "      display:flex;\n",
              "      flex-wrap:wrap;\n",
              "      gap: 12px;\n",
              "    }\n",
              "\n",
              "    .colab-df-convert {\n",
              "      background-color: #E8F0FE;\n",
              "      border: none;\n",
              "      border-radius: 50%;\n",
              "      cursor: pointer;\n",
              "      display: none;\n",
              "      fill: #1967D2;\n",
              "      height: 32px;\n",
              "      padding: 0 0 0 0;\n",
              "      width: 32px;\n",
              "    }\n",
              "\n",
              "    .colab-df-convert:hover {\n",
              "      background-color: #E2EBFA;\n",
              "      box-shadow: 0px 1px 2px rgba(60, 64, 67, 0.3), 0px 1px 3px 1px rgba(60, 64, 67, 0.15);\n",
              "      fill: #174EA6;\n",
              "    }\n",
              "\n",
              "    [theme=dark] .colab-df-convert {\n",
              "      background-color: #3B4455;\n",
              "      fill: #D2E3FC;\n",
              "    }\n",
              "\n",
              "    [theme=dark] .colab-df-convert:hover {\n",
              "      background-color: #434B5C;\n",
              "      box-shadow: 0px 1px 3px 1px rgba(0, 0, 0, 0.15);\n",
              "      filter: drop-shadow(0px 1px 2px rgba(0, 0, 0, 0.3));\n",
              "      fill: #FFFFFF;\n",
              "    }\n",
              "  </style>\n",
              "\n",
              "      <script>\n",
              "        const buttonEl =\n",
              "          document.querySelector('#df-587609da-1ecd-442e-98d4-517e0800fcf6 button.colab-df-convert');\n",
              "        buttonEl.style.display =\n",
              "          google.colab.kernel.accessAllowed ? 'block' : 'none';\n",
              "\n",
              "        async function convertToInteractive(key) {\n",
              "          const element = document.querySelector('#df-587609da-1ecd-442e-98d4-517e0800fcf6');\n",
              "          const dataTable =\n",
              "            await google.colab.kernel.invokeFunction('convertToInteractive',\n",
              "                                                     [key], {});\n",
              "          if (!dataTable) return;\n",
              "\n",
              "          const docLinkHtml = 'Like what you see? Visit the ' +\n",
              "            '<a target=\"_blank\" href=https://colab.research.google.com/notebooks/data_table.ipynb>data table notebook</a>'\n",
              "            + ' to learn more about interactive tables.';\n",
              "          element.innerHTML = '';\n",
              "          dataTable['output_type'] = 'display_data';\n",
              "          await google.colab.output.renderOutput(dataTable, element);\n",
              "          const docLink = document.createElement('div');\n",
              "          docLink.innerHTML = docLinkHtml;\n",
              "          element.appendChild(docLink);\n",
              "        }\n",
              "      </script>\n",
              "    </div>\n",
              "  </div>\n",
              "  "
            ]
          },
          "metadata": {},
          "execution_count": 26
        }
      ],
      "source": [
        "df2.head()"
      ]
    },
    {
      "cell_type": "markdown",
      "metadata": {
        "id": "YKRfx4p59keU"
      },
      "source": [
        "#### 24. See the last `3` rows of `DataFrame` data"
      ]
    },
    {
      "cell_type": "code",
      "execution_count": null,
      "metadata": {
        "id": "pSqZYgbi9keU"
      },
      "outputs": [],
      "source": [
        "df2.tail(3)"
      ]
    },
    {
      "cell_type": "code",
      "execution_count": 27,
      "metadata": {
        "colab": {
          "base_uri": "https://localhost:8080/",
          "height": 143
        },
        "id": "wp2kaRZD9keV",
        "outputId": "75209f81-44e7-4f7e-90bd-3f763ac0ee34"
      },
      "outputs": [
        {
          "output_type": "execute_result",
          "data": {
            "text/plain": [
              "  animal  age  visits priority\n",
              "h    cat  NaN       1      yes\n",
              "i    dog  7.0       2       no\n",
              "j    dog  3.0       1       no"
            ],
            "text/html": [
              "\n",
              "  <div id=\"df-3da382ad-b9b2-482d-bbe8-33311f76224d\">\n",
              "    <div class=\"colab-df-container\">\n",
              "      <div>\n",
              "<style scoped>\n",
              "    .dataframe tbody tr th:only-of-type {\n",
              "        vertical-align: middle;\n",
              "    }\n",
              "\n",
              "    .dataframe tbody tr th {\n",
              "        vertical-align: top;\n",
              "    }\n",
              "\n",
              "    .dataframe thead th {\n",
              "        text-align: right;\n",
              "    }\n",
              "</style>\n",
              "<table border=\"1\" class=\"dataframe\">\n",
              "  <thead>\n",
              "    <tr style=\"text-align: right;\">\n",
              "      <th></th>\n",
              "      <th>animal</th>\n",
              "      <th>age</th>\n",
              "      <th>visits</th>\n",
              "      <th>priority</th>\n",
              "    </tr>\n",
              "  </thead>\n",
              "  <tbody>\n",
              "    <tr>\n",
              "      <th>h</th>\n",
              "      <td>cat</td>\n",
              "      <td>NaN</td>\n",
              "      <td>1</td>\n",
              "      <td>yes</td>\n",
              "    </tr>\n",
              "    <tr>\n",
              "      <th>i</th>\n",
              "      <td>dog</td>\n",
              "      <td>7.0</td>\n",
              "      <td>2</td>\n",
              "      <td>no</td>\n",
              "    </tr>\n",
              "    <tr>\n",
              "      <th>j</th>\n",
              "      <td>dog</td>\n",
              "      <td>3.0</td>\n",
              "      <td>1</td>\n",
              "      <td>no</td>\n",
              "    </tr>\n",
              "  </tbody>\n",
              "</table>\n",
              "</div>\n",
              "      <button class=\"colab-df-convert\" onclick=\"convertToInteractive('df-3da382ad-b9b2-482d-bbe8-33311f76224d')\"\n",
              "              title=\"Convert this dataframe to an interactive table.\"\n",
              "              style=\"display:none;\">\n",
              "        \n",
              "  <svg xmlns=\"http://www.w3.org/2000/svg\" height=\"24px\"viewBox=\"0 0 24 24\"\n",
              "       width=\"24px\">\n",
              "    <path d=\"M0 0h24v24H0V0z\" fill=\"none\"/>\n",
              "    <path d=\"M18.56 5.44l.94 2.06.94-2.06 2.06-.94-2.06-.94-.94-2.06-.94 2.06-2.06.94zm-11 1L8.5 8.5l.94-2.06 2.06-.94-2.06-.94L8.5 2.5l-.94 2.06-2.06.94zm10 10l.94 2.06.94-2.06 2.06-.94-2.06-.94-.94-2.06-.94 2.06-2.06.94z\"/><path d=\"M17.41 7.96l-1.37-1.37c-.4-.4-.92-.59-1.43-.59-.52 0-1.04.2-1.43.59L10.3 9.45l-7.72 7.72c-.78.78-.78 2.05 0 2.83L4 21.41c.39.39.9.59 1.41.59.51 0 1.02-.2 1.41-.59l7.78-7.78 2.81-2.81c.8-.78.8-2.07 0-2.86zM5.41 20L4 18.59l7.72-7.72 1.47 1.35L5.41 20z\"/>\n",
              "  </svg>\n",
              "      </button>\n",
              "      \n",
              "  <style>\n",
              "    .colab-df-container {\n",
              "      display:flex;\n",
              "      flex-wrap:wrap;\n",
              "      gap: 12px;\n",
              "    }\n",
              "\n",
              "    .colab-df-convert {\n",
              "      background-color: #E8F0FE;\n",
              "      border: none;\n",
              "      border-radius: 50%;\n",
              "      cursor: pointer;\n",
              "      display: none;\n",
              "      fill: #1967D2;\n",
              "      height: 32px;\n",
              "      padding: 0 0 0 0;\n",
              "      width: 32px;\n",
              "    }\n",
              "\n",
              "    .colab-df-convert:hover {\n",
              "      background-color: #E2EBFA;\n",
              "      box-shadow: 0px 1px 2px rgba(60, 64, 67, 0.3), 0px 1px 3px 1px rgba(60, 64, 67, 0.15);\n",
              "      fill: #174EA6;\n",
              "    }\n",
              "\n",
              "    [theme=dark] .colab-df-convert {\n",
              "      background-color: #3B4455;\n",
              "      fill: #D2E3FC;\n",
              "    }\n",
              "\n",
              "    [theme=dark] .colab-df-convert:hover {\n",
              "      background-color: #434B5C;\n",
              "      box-shadow: 0px 1px 3px 1px rgba(0, 0, 0, 0.15);\n",
              "      filter: drop-shadow(0px 1px 2px rgba(0, 0, 0, 0.3));\n",
              "      fill: #FFFFFF;\n",
              "    }\n",
              "  </style>\n",
              "\n",
              "      <script>\n",
              "        const buttonEl =\n",
              "          document.querySelector('#df-3da382ad-b9b2-482d-bbe8-33311f76224d button.colab-df-convert');\n",
              "        buttonEl.style.display =\n",
              "          google.colab.kernel.accessAllowed ? 'block' : 'none';\n",
              "\n",
              "        async function convertToInteractive(key) {\n",
              "          const element = document.querySelector('#df-3da382ad-b9b2-482d-bbe8-33311f76224d');\n",
              "          const dataTable =\n",
              "            await google.colab.kernel.invokeFunction('convertToInteractive',\n",
              "                                                     [key], {});\n",
              "          if (!dataTable) return;\n",
              "\n",
              "          const docLinkHtml = 'Like what you see? Visit the ' +\n",
              "            '<a target=\"_blank\" href=https://colab.research.google.com/notebooks/data_table.ipynb>data table notebook</a>'\n",
              "            + ' to learn more about interactive tables.';\n",
              "          element.innerHTML = '';\n",
              "          dataTable['output_type'] = 'display_data';\n",
              "          await google.colab.output.renderOutput(dataTable, element);\n",
              "          const docLink = document.createElement('div');\n",
              "          docLink.innerHTML = docLinkHtml;\n",
              "          element.appendChild(docLink);\n",
              "        }\n",
              "      </script>\n",
              "    </div>\n",
              "  </div>\n",
              "  "
            ]
          },
          "metadata": {},
          "execution_count": 27
        }
      ],
      "source": [
        "df2.tail(3)"
      ]
    },
    {
      "cell_type": "markdown",
      "metadata": {
        "id": "qgIsbBnr9keV"
      },
      "source": [
        "#### 25. See the index of  `DataFrame` "
      ]
    },
    {
      "cell_type": "code",
      "execution_count": null,
      "metadata": {
        "id": "FGN-AwVw9keV"
      },
      "outputs": [],
      "source": [
        "df2.index"
      ]
    },
    {
      "cell_type": "code",
      "execution_count": 28,
      "metadata": {
        "colab": {
          "base_uri": "https://localhost:8080/"
        },
        "id": "i48nqHuX9keW",
        "outputId": "a668f9c7-a845-484d-bb01-d2c7d196ebe1"
      },
      "outputs": [
        {
          "output_type": "execute_result",
          "data": {
            "text/plain": [
              "Index(['a', 'b', 'c', 'd', 'e', 'f', 'g', 'h', 'i', 'j'], dtype='object')"
            ]
          },
          "metadata": {},
          "execution_count": 28
        }
      ],
      "source": [
        "df2.index"
      ]
    },
    {
      "cell_type": "markdown",
      "metadata": {
        "id": "wcL4HeNi9keW"
      },
      "source": [
        "#### 26. See the column name of  `DataFrame`"
      ]
    },
    {
      "cell_type": "code",
      "execution_count": null,
      "metadata": {
        "id": "2XpUqHkL9keW"
      },
      "outputs": [],
      "source": [
        "df2.columns"
      ]
    },
    {
      "cell_type": "code",
      "execution_count": 29,
      "metadata": {
        "colab": {
          "base_uri": "https://localhost:8080/"
        },
        "id": "PH4GaOhU9keW",
        "outputId": "ef7b3711-106c-4530-87a4-314d77dac514"
      },
      "outputs": [
        {
          "output_type": "execute_result",
          "data": {
            "text/plain": [
              "Index(['animal', 'age', 'visits', 'priority'], dtype='object')"
            ]
          },
          "metadata": {},
          "execution_count": 29
        }
      ],
      "source": [
        "df2.columns"
      ]
    },
    {
      "cell_type": "markdown",
      "metadata": {
        "id": "zw8NSEQ59keW"
      },
      "source": [
        "#### 27. See the values of `DataFrame` "
      ]
    },
    {
      "cell_type": "code",
      "execution_count": null,
      "metadata": {
        "id": "IkpPgiFo9keX"
      },
      "outputs": [],
      "source": [
        "df2.values"
      ]
    },
    {
      "cell_type": "code",
      "execution_count": 30,
      "metadata": {
        "colab": {
          "base_uri": "https://localhost:8080/"
        },
        "id": "TEaiOSCu9keX",
        "outputId": "dafb3ccf-2b90-42db-e142-e3a3419b365d"
      },
      "outputs": [
        {
          "output_type": "execute_result",
          "data": {
            "text/plain": [
              "array([['cat', 2.5, 1, 'yes'],\n",
              "       ['cat', 3.0, 3, 'yes'],\n",
              "       ['snake', 0.5, 2, 'no'],\n",
              "       ['dog', nan, 3, 'yes'],\n",
              "       ['dog', 5.0, 2, 'no'],\n",
              "       ['cat', 2.0, 3, 'no'],\n",
              "       ['snake', 4.5, 1, 'no'],\n",
              "       ['cat', nan, 1, 'yes'],\n",
              "       ['dog', 7.0, 2, 'no'],\n",
              "       ['dog', 3.0, 1, 'no']], dtype=object)"
            ]
          },
          "metadata": {},
          "execution_count": 30
        }
      ],
      "source": [
        "df2.values"
      ]
    },
    {
      "cell_type": "markdown",
      "metadata": {
        "id": "39gRE8zG9keX"
      },
      "source": [
        "#### 28. See the statistical data of `DataFrame`"
      ]
    },
    {
      "cell_type": "code",
      "execution_count": null,
      "metadata": {
        "id": "glV1Tqp_9keX"
      },
      "outputs": [],
      "source": [
        "df2.describe()"
      ]
    },
    {
      "cell_type": "code",
      "execution_count": 31,
      "metadata": {
        "colab": {
          "base_uri": "https://localhost:8080/",
          "height": 300
        },
        "id": "mx8AxQCB9keY",
        "outputId": "c09d33cc-a065-4fea-9003-b55ab335f6cd"
      },
      "outputs": [
        {
          "output_type": "execute_result",
          "data": {
            "text/plain": [
              "            age     visits\n",
              "count  8.000000  10.000000\n",
              "mean   3.437500   1.900000\n",
              "std    2.007797   0.875595\n",
              "min    0.500000   1.000000\n",
              "25%    2.375000   1.000000\n",
              "50%    3.000000   2.000000\n",
              "75%    4.625000   2.750000\n",
              "max    7.000000   3.000000"
            ],
            "text/html": [
              "\n",
              "  <div id=\"df-881d9e16-8dcf-448e-89f6-969cfa1010fd\">\n",
              "    <div class=\"colab-df-container\">\n",
              "      <div>\n",
              "<style scoped>\n",
              "    .dataframe tbody tr th:only-of-type {\n",
              "        vertical-align: middle;\n",
              "    }\n",
              "\n",
              "    .dataframe tbody tr th {\n",
              "        vertical-align: top;\n",
              "    }\n",
              "\n",
              "    .dataframe thead th {\n",
              "        text-align: right;\n",
              "    }\n",
              "</style>\n",
              "<table border=\"1\" class=\"dataframe\">\n",
              "  <thead>\n",
              "    <tr style=\"text-align: right;\">\n",
              "      <th></th>\n",
              "      <th>age</th>\n",
              "      <th>visits</th>\n",
              "    </tr>\n",
              "  </thead>\n",
              "  <tbody>\n",
              "    <tr>\n",
              "      <th>count</th>\n",
              "      <td>8.000000</td>\n",
              "      <td>10.000000</td>\n",
              "    </tr>\n",
              "    <tr>\n",
              "      <th>mean</th>\n",
              "      <td>3.437500</td>\n",
              "      <td>1.900000</td>\n",
              "    </tr>\n",
              "    <tr>\n",
              "      <th>std</th>\n",
              "      <td>2.007797</td>\n",
              "      <td>0.875595</td>\n",
              "    </tr>\n",
              "    <tr>\n",
              "      <th>min</th>\n",
              "      <td>0.500000</td>\n",
              "      <td>1.000000</td>\n",
              "    </tr>\n",
              "    <tr>\n",
              "      <th>25%</th>\n",
              "      <td>2.375000</td>\n",
              "      <td>1.000000</td>\n",
              "    </tr>\n",
              "    <tr>\n",
              "      <th>50%</th>\n",
              "      <td>3.000000</td>\n",
              "      <td>2.000000</td>\n",
              "    </tr>\n",
              "    <tr>\n",
              "      <th>75%</th>\n",
              "      <td>4.625000</td>\n",
              "      <td>2.750000</td>\n",
              "    </tr>\n",
              "    <tr>\n",
              "      <th>max</th>\n",
              "      <td>7.000000</td>\n",
              "      <td>3.000000</td>\n",
              "    </tr>\n",
              "  </tbody>\n",
              "</table>\n",
              "</div>\n",
              "      <button class=\"colab-df-convert\" onclick=\"convertToInteractive('df-881d9e16-8dcf-448e-89f6-969cfa1010fd')\"\n",
              "              title=\"Convert this dataframe to an interactive table.\"\n",
              "              style=\"display:none;\">\n",
              "        \n",
              "  <svg xmlns=\"http://www.w3.org/2000/svg\" height=\"24px\"viewBox=\"0 0 24 24\"\n",
              "       width=\"24px\">\n",
              "    <path d=\"M0 0h24v24H0V0z\" fill=\"none\"/>\n",
              "    <path d=\"M18.56 5.44l.94 2.06.94-2.06 2.06-.94-2.06-.94-.94-2.06-.94 2.06-2.06.94zm-11 1L8.5 8.5l.94-2.06 2.06-.94-2.06-.94L8.5 2.5l-.94 2.06-2.06.94zm10 10l.94 2.06.94-2.06 2.06-.94-2.06-.94-.94-2.06-.94 2.06-2.06.94z\"/><path d=\"M17.41 7.96l-1.37-1.37c-.4-.4-.92-.59-1.43-.59-.52 0-1.04.2-1.43.59L10.3 9.45l-7.72 7.72c-.78.78-.78 2.05 0 2.83L4 21.41c.39.39.9.59 1.41.59.51 0 1.02-.2 1.41-.59l7.78-7.78 2.81-2.81c.8-.78.8-2.07 0-2.86zM5.41 20L4 18.59l7.72-7.72 1.47 1.35L5.41 20z\"/>\n",
              "  </svg>\n",
              "      </button>\n",
              "      \n",
              "  <style>\n",
              "    .colab-df-container {\n",
              "      display:flex;\n",
              "      flex-wrap:wrap;\n",
              "      gap: 12px;\n",
              "    }\n",
              "\n",
              "    .colab-df-convert {\n",
              "      background-color: #E8F0FE;\n",
              "      border: none;\n",
              "      border-radius: 50%;\n",
              "      cursor: pointer;\n",
              "      display: none;\n",
              "      fill: #1967D2;\n",
              "      height: 32px;\n",
              "      padding: 0 0 0 0;\n",
              "      width: 32px;\n",
              "    }\n",
              "\n",
              "    .colab-df-convert:hover {\n",
              "      background-color: #E2EBFA;\n",
              "      box-shadow: 0px 1px 2px rgba(60, 64, 67, 0.3), 0px 1px 3px 1px rgba(60, 64, 67, 0.15);\n",
              "      fill: #174EA6;\n",
              "    }\n",
              "\n",
              "    [theme=dark] .colab-df-convert {\n",
              "      background-color: #3B4455;\n",
              "      fill: #D2E3FC;\n",
              "    }\n",
              "\n",
              "    [theme=dark] .colab-df-convert:hover {\n",
              "      background-color: #434B5C;\n",
              "      box-shadow: 0px 1px 3px 1px rgba(0, 0, 0, 0.15);\n",
              "      filter: drop-shadow(0px 1px 2px rgba(0, 0, 0, 0.3));\n",
              "      fill: #FFFFFF;\n",
              "    }\n",
              "  </style>\n",
              "\n",
              "      <script>\n",
              "        const buttonEl =\n",
              "          document.querySelector('#df-881d9e16-8dcf-448e-89f6-969cfa1010fd button.colab-df-convert');\n",
              "        buttonEl.style.display =\n",
              "          google.colab.kernel.accessAllowed ? 'block' : 'none';\n",
              "\n",
              "        async function convertToInteractive(key) {\n",
              "          const element = document.querySelector('#df-881d9e16-8dcf-448e-89f6-969cfa1010fd');\n",
              "          const dataTable =\n",
              "            await google.colab.kernel.invokeFunction('convertToInteractive',\n",
              "                                                     [key], {});\n",
              "          if (!dataTable) return;\n",
              "\n",
              "          const docLinkHtml = 'Like what you see? Visit the ' +\n",
              "            '<a target=\"_blank\" href=https://colab.research.google.com/notebooks/data_table.ipynb>data table notebook</a>'\n",
              "            + ' to learn more about interactive tables.';\n",
              "          element.innerHTML = '';\n",
              "          dataTable['output_type'] = 'display_data';\n",
              "          await google.colab.output.renderOutput(dataTable, element);\n",
              "          const docLink = document.createElement('div');\n",
              "          docLink.innerHTML = docLinkHtml;\n",
              "          element.appendChild(docLink);\n",
              "        }\n",
              "      </script>\n",
              "    </div>\n",
              "  </div>\n",
              "  "
            ]
          },
          "metadata": {},
          "execution_count": 31
        }
      ],
      "source": [
        "df2.describe()"
      ]
    },
    {
      "cell_type": "markdown",
      "metadata": {
        "id": "VwCaqKgD9keY"
      },
      "source": [
        "#### 29. `DataFrame` transpose operation"
      ]
    },
    {
      "cell_type": "code",
      "execution_count": null,
      "metadata": {
        "id": "8KU1VKxS9keY"
      },
      "outputs": [],
      "source": [
        "df2.T"
      ]
    },
    {
      "cell_type": "code",
      "execution_count": 32,
      "metadata": {
        "colab": {
          "base_uri": "https://localhost:8080/",
          "height": 175
        },
        "id": "RVawRkTx9keY",
        "outputId": "97e33d2e-a4a7-4938-c9af-d2694bd5af3f"
      },
      "outputs": [
        {
          "output_type": "execute_result",
          "data": {
            "text/plain": [
              "            a    b      c    d    e    f      g    h    i    j\n",
              "animal    cat  cat  snake  dog  dog  cat  snake  cat  dog  dog\n",
              "age       2.5  3.0    0.5  NaN  5.0  2.0    4.5  NaN  7.0  3.0\n",
              "visits      1    3      2    3    2    3      1    1    2    1\n",
              "priority  yes  yes     no  yes   no   no     no  yes   no   no"
            ],
            "text/html": [
              "\n",
              "  <div id=\"df-e58134d7-9865-44bf-9d6b-a90f4de47802\">\n",
              "    <div class=\"colab-df-container\">\n",
              "      <div>\n",
              "<style scoped>\n",
              "    .dataframe tbody tr th:only-of-type {\n",
              "        vertical-align: middle;\n",
              "    }\n",
              "\n",
              "    .dataframe tbody tr th {\n",
              "        vertical-align: top;\n",
              "    }\n",
              "\n",
              "    .dataframe thead th {\n",
              "        text-align: right;\n",
              "    }\n",
              "</style>\n",
              "<table border=\"1\" class=\"dataframe\">\n",
              "  <thead>\n",
              "    <tr style=\"text-align: right;\">\n",
              "      <th></th>\n",
              "      <th>a</th>\n",
              "      <th>b</th>\n",
              "      <th>c</th>\n",
              "      <th>d</th>\n",
              "      <th>e</th>\n",
              "      <th>f</th>\n",
              "      <th>g</th>\n",
              "      <th>h</th>\n",
              "      <th>i</th>\n",
              "      <th>j</th>\n",
              "    </tr>\n",
              "  </thead>\n",
              "  <tbody>\n",
              "    <tr>\n",
              "      <th>animal</th>\n",
              "      <td>cat</td>\n",
              "      <td>cat</td>\n",
              "      <td>snake</td>\n",
              "      <td>dog</td>\n",
              "      <td>dog</td>\n",
              "      <td>cat</td>\n",
              "      <td>snake</td>\n",
              "      <td>cat</td>\n",
              "      <td>dog</td>\n",
              "      <td>dog</td>\n",
              "    </tr>\n",
              "    <tr>\n",
              "      <th>age</th>\n",
              "      <td>2.5</td>\n",
              "      <td>3.0</td>\n",
              "      <td>0.5</td>\n",
              "      <td>NaN</td>\n",
              "      <td>5.0</td>\n",
              "      <td>2.0</td>\n",
              "      <td>4.5</td>\n",
              "      <td>NaN</td>\n",
              "      <td>7.0</td>\n",
              "      <td>3.0</td>\n",
              "    </tr>\n",
              "    <tr>\n",
              "      <th>visits</th>\n",
              "      <td>1</td>\n",
              "      <td>3</td>\n",
              "      <td>2</td>\n",
              "      <td>3</td>\n",
              "      <td>2</td>\n",
              "      <td>3</td>\n",
              "      <td>1</td>\n",
              "      <td>1</td>\n",
              "      <td>2</td>\n",
              "      <td>1</td>\n",
              "    </tr>\n",
              "    <tr>\n",
              "      <th>priority</th>\n",
              "      <td>yes</td>\n",
              "      <td>yes</td>\n",
              "      <td>no</td>\n",
              "      <td>yes</td>\n",
              "      <td>no</td>\n",
              "      <td>no</td>\n",
              "      <td>no</td>\n",
              "      <td>yes</td>\n",
              "      <td>no</td>\n",
              "      <td>no</td>\n",
              "    </tr>\n",
              "  </tbody>\n",
              "</table>\n",
              "</div>\n",
              "      <button class=\"colab-df-convert\" onclick=\"convertToInteractive('df-e58134d7-9865-44bf-9d6b-a90f4de47802')\"\n",
              "              title=\"Convert this dataframe to an interactive table.\"\n",
              "              style=\"display:none;\">\n",
              "        \n",
              "  <svg xmlns=\"http://www.w3.org/2000/svg\" height=\"24px\"viewBox=\"0 0 24 24\"\n",
              "       width=\"24px\">\n",
              "    <path d=\"M0 0h24v24H0V0z\" fill=\"none\"/>\n",
              "    <path d=\"M18.56 5.44l.94 2.06.94-2.06 2.06-.94-2.06-.94-.94-2.06-.94 2.06-2.06.94zm-11 1L8.5 8.5l.94-2.06 2.06-.94-2.06-.94L8.5 2.5l-.94 2.06-2.06.94zm10 10l.94 2.06.94-2.06 2.06-.94-2.06-.94-.94-2.06-.94 2.06-2.06.94z\"/><path d=\"M17.41 7.96l-1.37-1.37c-.4-.4-.92-.59-1.43-.59-.52 0-1.04.2-1.43.59L10.3 9.45l-7.72 7.72c-.78.78-.78 2.05 0 2.83L4 21.41c.39.39.9.59 1.41.59.51 0 1.02-.2 1.41-.59l7.78-7.78 2.81-2.81c.8-.78.8-2.07 0-2.86zM5.41 20L4 18.59l7.72-7.72 1.47 1.35L5.41 20z\"/>\n",
              "  </svg>\n",
              "      </button>\n",
              "      \n",
              "  <style>\n",
              "    .colab-df-container {\n",
              "      display:flex;\n",
              "      flex-wrap:wrap;\n",
              "      gap: 12px;\n",
              "    }\n",
              "\n",
              "    .colab-df-convert {\n",
              "      background-color: #E8F0FE;\n",
              "      border: none;\n",
              "      border-radius: 50%;\n",
              "      cursor: pointer;\n",
              "      display: none;\n",
              "      fill: #1967D2;\n",
              "      height: 32px;\n",
              "      padding: 0 0 0 0;\n",
              "      width: 32px;\n",
              "    }\n",
              "\n",
              "    .colab-df-convert:hover {\n",
              "      background-color: #E2EBFA;\n",
              "      box-shadow: 0px 1px 2px rgba(60, 64, 67, 0.3), 0px 1px 3px 1px rgba(60, 64, 67, 0.15);\n",
              "      fill: #174EA6;\n",
              "    }\n",
              "\n",
              "    [theme=dark] .colab-df-convert {\n",
              "      background-color: #3B4455;\n",
              "      fill: #D2E3FC;\n",
              "    }\n",
              "\n",
              "    [theme=dark] .colab-df-convert:hover {\n",
              "      background-color: #434B5C;\n",
              "      box-shadow: 0px 1px 3px 1px rgba(0, 0, 0, 0.15);\n",
              "      filter: drop-shadow(0px 1px 2px rgba(0, 0, 0, 0.3));\n",
              "      fill: #FFFFFF;\n",
              "    }\n",
              "  </style>\n",
              "\n",
              "      <script>\n",
              "        const buttonEl =\n",
              "          document.querySelector('#df-e58134d7-9865-44bf-9d6b-a90f4de47802 button.colab-df-convert');\n",
              "        buttonEl.style.display =\n",
              "          google.colab.kernel.accessAllowed ? 'block' : 'none';\n",
              "\n",
              "        async function convertToInteractive(key) {\n",
              "          const element = document.querySelector('#df-e58134d7-9865-44bf-9d6b-a90f4de47802');\n",
              "          const dataTable =\n",
              "            await google.colab.kernel.invokeFunction('convertToInteractive',\n",
              "                                                     [key], {});\n",
              "          if (!dataTable) return;\n",
              "\n",
              "          const docLinkHtml = 'Like what you see? Visit the ' +\n",
              "            '<a target=\"_blank\" href=https://colab.research.google.com/notebooks/data_table.ipynb>data table notebook</a>'\n",
              "            + ' to learn more about interactive tables.';\n",
              "          element.innerHTML = '';\n",
              "          dataTable['output_type'] = 'display_data';\n",
              "          await google.colab.output.renderOutput(dataTable, element);\n",
              "          const docLink = document.createElement('div');\n",
              "          docLink.innerHTML = docLinkHtml;\n",
              "          element.appendChild(docLink);\n",
              "        }\n",
              "      </script>\n",
              "    </div>\n",
              "  </div>\n",
              "  "
            ]
          },
          "metadata": {},
          "execution_count": 32
        }
      ],
      "source": [
        "df2.T"
      ]
    },
    {
      "cell_type": "markdown",
      "metadata": {
        "id": "SQECQ6Pv9keZ"
      },
      "source": [
        "#### 30. Sort `DataFrame` by column"
      ]
    },
    {
      "cell_type": "code",
      "execution_count": null,
      "metadata": {
        "id": "nYptZiFU9keZ"
      },
      "outputs": [],
      "source": [
        "df2.sort_values(by='age') # Sorted by age in ascending order"
      ]
    },
    {
      "cell_type": "code",
      "execution_count": 33,
      "metadata": {
        "colab": {
          "base_uri": "https://localhost:8080/",
          "height": 363
        },
        "id": "yuToEy269keZ",
        "outputId": "00619bf6-de89-4626-e33e-0dcc1a466e07"
      },
      "outputs": [
        {
          "output_type": "execute_result",
          "data": {
            "text/plain": [
              "  animal  age  visits priority\n",
              "c  snake  0.5       2       no\n",
              "f    cat  2.0       3       no\n",
              "a    cat  2.5       1      yes\n",
              "b    cat  3.0       3      yes\n",
              "j    dog  3.0       1       no\n",
              "g  snake  4.5       1       no\n",
              "e    dog  5.0       2       no\n",
              "i    dog  7.0       2       no\n",
              "d    dog  NaN       3      yes\n",
              "h    cat  NaN       1      yes"
            ],
            "text/html": [
              "\n",
              "  <div id=\"df-3de206e1-83d9-441a-a1e9-f80812411c82\">\n",
              "    <div class=\"colab-df-container\">\n",
              "      <div>\n",
              "<style scoped>\n",
              "    .dataframe tbody tr th:only-of-type {\n",
              "        vertical-align: middle;\n",
              "    }\n",
              "\n",
              "    .dataframe tbody tr th {\n",
              "        vertical-align: top;\n",
              "    }\n",
              "\n",
              "    .dataframe thead th {\n",
              "        text-align: right;\n",
              "    }\n",
              "</style>\n",
              "<table border=\"1\" class=\"dataframe\">\n",
              "  <thead>\n",
              "    <tr style=\"text-align: right;\">\n",
              "      <th></th>\n",
              "      <th>animal</th>\n",
              "      <th>age</th>\n",
              "      <th>visits</th>\n",
              "      <th>priority</th>\n",
              "    </tr>\n",
              "  </thead>\n",
              "  <tbody>\n",
              "    <tr>\n",
              "      <th>c</th>\n",
              "      <td>snake</td>\n",
              "      <td>0.5</td>\n",
              "      <td>2</td>\n",
              "      <td>no</td>\n",
              "    </tr>\n",
              "    <tr>\n",
              "      <th>f</th>\n",
              "      <td>cat</td>\n",
              "      <td>2.0</td>\n",
              "      <td>3</td>\n",
              "      <td>no</td>\n",
              "    </tr>\n",
              "    <tr>\n",
              "      <th>a</th>\n",
              "      <td>cat</td>\n",
              "      <td>2.5</td>\n",
              "      <td>1</td>\n",
              "      <td>yes</td>\n",
              "    </tr>\n",
              "    <tr>\n",
              "      <th>b</th>\n",
              "      <td>cat</td>\n",
              "      <td>3.0</td>\n",
              "      <td>3</td>\n",
              "      <td>yes</td>\n",
              "    </tr>\n",
              "    <tr>\n",
              "      <th>j</th>\n",
              "      <td>dog</td>\n",
              "      <td>3.0</td>\n",
              "      <td>1</td>\n",
              "      <td>no</td>\n",
              "    </tr>\n",
              "    <tr>\n",
              "      <th>g</th>\n",
              "      <td>snake</td>\n",
              "      <td>4.5</td>\n",
              "      <td>1</td>\n",
              "      <td>no</td>\n",
              "    </tr>\n",
              "    <tr>\n",
              "      <th>e</th>\n",
              "      <td>dog</td>\n",
              "      <td>5.0</td>\n",
              "      <td>2</td>\n",
              "      <td>no</td>\n",
              "    </tr>\n",
              "    <tr>\n",
              "      <th>i</th>\n",
              "      <td>dog</td>\n",
              "      <td>7.0</td>\n",
              "      <td>2</td>\n",
              "      <td>no</td>\n",
              "    </tr>\n",
              "    <tr>\n",
              "      <th>d</th>\n",
              "      <td>dog</td>\n",
              "      <td>NaN</td>\n",
              "      <td>3</td>\n",
              "      <td>yes</td>\n",
              "    </tr>\n",
              "    <tr>\n",
              "      <th>h</th>\n",
              "      <td>cat</td>\n",
              "      <td>NaN</td>\n",
              "      <td>1</td>\n",
              "      <td>yes</td>\n",
              "    </tr>\n",
              "  </tbody>\n",
              "</table>\n",
              "</div>\n",
              "      <button class=\"colab-df-convert\" onclick=\"convertToInteractive('df-3de206e1-83d9-441a-a1e9-f80812411c82')\"\n",
              "              title=\"Convert this dataframe to an interactive table.\"\n",
              "              style=\"display:none;\">\n",
              "        \n",
              "  <svg xmlns=\"http://www.w3.org/2000/svg\" height=\"24px\"viewBox=\"0 0 24 24\"\n",
              "       width=\"24px\">\n",
              "    <path d=\"M0 0h24v24H0V0z\" fill=\"none\"/>\n",
              "    <path d=\"M18.56 5.44l.94 2.06.94-2.06 2.06-.94-2.06-.94-.94-2.06-.94 2.06-2.06.94zm-11 1L8.5 8.5l.94-2.06 2.06-.94-2.06-.94L8.5 2.5l-.94 2.06-2.06.94zm10 10l.94 2.06.94-2.06 2.06-.94-2.06-.94-.94-2.06-.94 2.06-2.06.94z\"/><path d=\"M17.41 7.96l-1.37-1.37c-.4-.4-.92-.59-1.43-.59-.52 0-1.04.2-1.43.59L10.3 9.45l-7.72 7.72c-.78.78-.78 2.05 0 2.83L4 21.41c.39.39.9.59 1.41.59.51 0 1.02-.2 1.41-.59l7.78-7.78 2.81-2.81c.8-.78.8-2.07 0-2.86zM5.41 20L4 18.59l7.72-7.72 1.47 1.35L5.41 20z\"/>\n",
              "  </svg>\n",
              "      </button>\n",
              "      \n",
              "  <style>\n",
              "    .colab-df-container {\n",
              "      display:flex;\n",
              "      flex-wrap:wrap;\n",
              "      gap: 12px;\n",
              "    }\n",
              "\n",
              "    .colab-df-convert {\n",
              "      background-color: #E8F0FE;\n",
              "      border: none;\n",
              "      border-radius: 50%;\n",
              "      cursor: pointer;\n",
              "      display: none;\n",
              "      fill: #1967D2;\n",
              "      height: 32px;\n",
              "      padding: 0 0 0 0;\n",
              "      width: 32px;\n",
              "    }\n",
              "\n",
              "    .colab-df-convert:hover {\n",
              "      background-color: #E2EBFA;\n",
              "      box-shadow: 0px 1px 2px rgba(60, 64, 67, 0.3), 0px 1px 3px 1px rgba(60, 64, 67, 0.15);\n",
              "      fill: #174EA6;\n",
              "    }\n",
              "\n",
              "    [theme=dark] .colab-df-convert {\n",
              "      background-color: #3B4455;\n",
              "      fill: #D2E3FC;\n",
              "    }\n",
              "\n",
              "    [theme=dark] .colab-df-convert:hover {\n",
              "      background-color: #434B5C;\n",
              "      box-shadow: 0px 1px 3px 1px rgba(0, 0, 0, 0.15);\n",
              "      filter: drop-shadow(0px 1px 2px rgba(0, 0, 0, 0.3));\n",
              "      fill: #FFFFFF;\n",
              "    }\n",
              "  </style>\n",
              "\n",
              "      <script>\n",
              "        const buttonEl =\n",
              "          document.querySelector('#df-3de206e1-83d9-441a-a1e9-f80812411c82 button.colab-df-convert');\n",
              "        buttonEl.style.display =\n",
              "          google.colab.kernel.accessAllowed ? 'block' : 'none';\n",
              "\n",
              "        async function convertToInteractive(key) {\n",
              "          const element = document.querySelector('#df-3de206e1-83d9-441a-a1e9-f80812411c82');\n",
              "          const dataTable =\n",
              "            await google.colab.kernel.invokeFunction('convertToInteractive',\n",
              "                                                     [key], {});\n",
              "          if (!dataTable) return;\n",
              "\n",
              "          const docLinkHtml = 'Like what you see? Visit the ' +\n",
              "            '<a target=\"_blank\" href=https://colab.research.google.com/notebooks/data_table.ipynb>data table notebook</a>'\n",
              "            + ' to learn more about interactive tables.';\n",
              "          element.innerHTML = '';\n",
              "          dataTable['output_type'] = 'display_data';\n",
              "          await google.colab.output.renderOutput(dataTable, element);\n",
              "          const docLink = document.createElement('div');\n",
              "          docLink.innerHTML = docLinkHtml;\n",
              "          element.appendChild(docLink);\n",
              "        }\n",
              "      </script>\n",
              "    </div>\n",
              "  </div>\n",
              "  "
            ]
          },
          "metadata": {},
          "execution_count": 33
        }
      ],
      "source": [
        "df2.sort_values(by='age')"
      ]
    },
    {
      "cell_type": "markdown",
      "metadata": {
        "id": "US4584Rh9keZ"
      },
      "source": [
        "#### 31. Slice the `DataFrame` data"
      ]
    },
    {
      "cell_type": "code",
      "execution_count": null,
      "metadata": {
        "id": "Yufj_Re49kea"
      },
      "outputs": [],
      "source": [
        "df2[1:3]"
      ]
    },
    {
      "cell_type": "code",
      "execution_count": 34,
      "metadata": {
        "colab": {
          "base_uri": "https://localhost:8080/",
          "height": 112
        },
        "id": "6Ap3WIOi9kea",
        "outputId": "9329ceeb-4cb7-401e-db26-8203d3f9b91f"
      },
      "outputs": [
        {
          "output_type": "execute_result",
          "data": {
            "text/plain": [
              "  animal  age  visits priority\n",
              "b    cat  3.0       3      yes\n",
              "c  snake  0.5       2       no"
            ],
            "text/html": [
              "\n",
              "  <div id=\"df-45f3bbd4-da8b-45fa-9c11-54db90902e19\">\n",
              "    <div class=\"colab-df-container\">\n",
              "      <div>\n",
              "<style scoped>\n",
              "    .dataframe tbody tr th:only-of-type {\n",
              "        vertical-align: middle;\n",
              "    }\n",
              "\n",
              "    .dataframe tbody tr th {\n",
              "        vertical-align: top;\n",
              "    }\n",
              "\n",
              "    .dataframe thead th {\n",
              "        text-align: right;\n",
              "    }\n",
              "</style>\n",
              "<table border=\"1\" class=\"dataframe\">\n",
              "  <thead>\n",
              "    <tr style=\"text-align: right;\">\n",
              "      <th></th>\n",
              "      <th>animal</th>\n",
              "      <th>age</th>\n",
              "      <th>visits</th>\n",
              "      <th>priority</th>\n",
              "    </tr>\n",
              "  </thead>\n",
              "  <tbody>\n",
              "    <tr>\n",
              "      <th>b</th>\n",
              "      <td>cat</td>\n",
              "      <td>3.0</td>\n",
              "      <td>3</td>\n",
              "      <td>yes</td>\n",
              "    </tr>\n",
              "    <tr>\n",
              "      <th>c</th>\n",
              "      <td>snake</td>\n",
              "      <td>0.5</td>\n",
              "      <td>2</td>\n",
              "      <td>no</td>\n",
              "    </tr>\n",
              "  </tbody>\n",
              "</table>\n",
              "</div>\n",
              "      <button class=\"colab-df-convert\" onclick=\"convertToInteractive('df-45f3bbd4-da8b-45fa-9c11-54db90902e19')\"\n",
              "              title=\"Convert this dataframe to an interactive table.\"\n",
              "              style=\"display:none;\">\n",
              "        \n",
              "  <svg xmlns=\"http://www.w3.org/2000/svg\" height=\"24px\"viewBox=\"0 0 24 24\"\n",
              "       width=\"24px\">\n",
              "    <path d=\"M0 0h24v24H0V0z\" fill=\"none\"/>\n",
              "    <path d=\"M18.56 5.44l.94 2.06.94-2.06 2.06-.94-2.06-.94-.94-2.06-.94 2.06-2.06.94zm-11 1L8.5 8.5l.94-2.06 2.06-.94-2.06-.94L8.5 2.5l-.94 2.06-2.06.94zm10 10l.94 2.06.94-2.06 2.06-.94-2.06-.94-.94-2.06-.94 2.06-2.06.94z\"/><path d=\"M17.41 7.96l-1.37-1.37c-.4-.4-.92-.59-1.43-.59-.52 0-1.04.2-1.43.59L10.3 9.45l-7.72 7.72c-.78.78-.78 2.05 0 2.83L4 21.41c.39.39.9.59 1.41.59.51 0 1.02-.2 1.41-.59l7.78-7.78 2.81-2.81c.8-.78.8-2.07 0-2.86zM5.41 20L4 18.59l7.72-7.72 1.47 1.35L5.41 20z\"/>\n",
              "  </svg>\n",
              "      </button>\n",
              "      \n",
              "  <style>\n",
              "    .colab-df-container {\n",
              "      display:flex;\n",
              "      flex-wrap:wrap;\n",
              "      gap: 12px;\n",
              "    }\n",
              "\n",
              "    .colab-df-convert {\n",
              "      background-color: #E8F0FE;\n",
              "      border: none;\n",
              "      border-radius: 50%;\n",
              "      cursor: pointer;\n",
              "      display: none;\n",
              "      fill: #1967D2;\n",
              "      height: 32px;\n",
              "      padding: 0 0 0 0;\n",
              "      width: 32px;\n",
              "    }\n",
              "\n",
              "    .colab-df-convert:hover {\n",
              "      background-color: #E2EBFA;\n",
              "      box-shadow: 0px 1px 2px rgba(60, 64, 67, 0.3), 0px 1px 3px 1px rgba(60, 64, 67, 0.15);\n",
              "      fill: #174EA6;\n",
              "    }\n",
              "\n",
              "    [theme=dark] .colab-df-convert {\n",
              "      background-color: #3B4455;\n",
              "      fill: #D2E3FC;\n",
              "    }\n",
              "\n",
              "    [theme=dark] .colab-df-convert:hover {\n",
              "      background-color: #434B5C;\n",
              "      box-shadow: 0px 1px 3px 1px rgba(0, 0, 0, 0.15);\n",
              "      filter: drop-shadow(0px 1px 2px rgba(0, 0, 0, 0.3));\n",
              "      fill: #FFFFFF;\n",
              "    }\n",
              "  </style>\n",
              "\n",
              "      <script>\n",
              "        const buttonEl =\n",
              "          document.querySelector('#df-45f3bbd4-da8b-45fa-9c11-54db90902e19 button.colab-df-convert');\n",
              "        buttonEl.style.display =\n",
              "          google.colab.kernel.accessAllowed ? 'block' : 'none';\n",
              "\n",
              "        async function convertToInteractive(key) {\n",
              "          const element = document.querySelector('#df-45f3bbd4-da8b-45fa-9c11-54db90902e19');\n",
              "          const dataTable =\n",
              "            await google.colab.kernel.invokeFunction('convertToInteractive',\n",
              "                                                     [key], {});\n",
              "          if (!dataTable) return;\n",
              "\n",
              "          const docLinkHtml = 'Like what you see? Visit the ' +\n",
              "            '<a target=\"_blank\" href=https://colab.research.google.com/notebooks/data_table.ipynb>data table notebook</a>'\n",
              "            + ' to learn more about interactive tables.';\n",
              "          element.innerHTML = '';\n",
              "          dataTable['output_type'] = 'display_data';\n",
              "          await google.colab.output.renderOutput(dataTable, element);\n",
              "          const docLink = document.createElement('div');\n",
              "          docLink.innerHTML = docLinkHtml;\n",
              "          element.appendChild(docLink);\n",
              "        }\n",
              "      </script>\n",
              "    </div>\n",
              "  </div>\n",
              "  "
            ]
          },
          "metadata": {},
          "execution_count": 34
        }
      ],
      "source": [
        "df2[1:3]"
      ]
    },
    {
      "cell_type": "markdown",
      "metadata": {
        "id": "wRZHJD8h9kea"
      },
      "source": [
        "#### 32. Query the `DataFrame` by tag (single column)"
      ]
    },
    {
      "cell_type": "code",
      "execution_count": null,
      "metadata": {
        "id": "25ZtHN_J9kea"
      },
      "outputs": [],
      "source": [
        "df2['age']"
      ]
    },
    {
      "cell_type": "code",
      "execution_count": 35,
      "metadata": {
        "colab": {
          "base_uri": "https://localhost:8080/"
        },
        "id": "OkroNiHh9keb",
        "outputId": "7c64e601-d510-4170-daa8-c06302ba498a"
      },
      "outputs": [
        {
          "output_type": "execute_result",
          "data": {
            "text/plain": [
              "a    2.5\n",
              "b    3.0\n",
              "c    0.5\n",
              "d    NaN\n",
              "e    5.0\n",
              "f    2.0\n",
              "g    4.5\n",
              "h    NaN\n",
              "i    7.0\n",
              "j    3.0\n",
              "Name: age, dtype: float64"
            ]
          },
          "metadata": {},
          "execution_count": 35
        }
      ],
      "source": [
        "df2['age']"
      ]
    },
    {
      "cell_type": "code",
      "execution_count": null,
      "metadata": {
        "id": "gdmIg6Xb9keb"
      },
      "outputs": [],
      "source": [
        "df2.age # Equivalent to df2['age']"
      ]
    },
    {
      "cell_type": "code",
      "execution_count": 36,
      "metadata": {
        "colab": {
          "base_uri": "https://localhost:8080/"
        },
        "id": "zY72SZks9keb",
        "outputId": "b293458e-f5c2-44d9-a680-d4b1e613f8be"
      },
      "outputs": [
        {
          "output_type": "execute_result",
          "data": {
            "text/plain": [
              "a    2.5\n",
              "b    3.0\n",
              "c    0.5\n",
              "d    NaN\n",
              "e    5.0\n",
              "f    2.0\n",
              "g    4.5\n",
              "h    NaN\n",
              "i    7.0\n",
              "j    3.0\n",
              "Name: age, dtype: float64"
            ]
          },
          "metadata": {},
          "execution_count": 36
        }
      ],
      "source": [
        "df2.age"
      ]
    },
    {
      "cell_type": "markdown",
      "metadata": {
        "id": "neVCq32Q9keb"
      },
      "source": [
        "#### 33. Query the `DataFrame` by tag (multiple columns)"
      ]
    },
    {
      "cell_type": "code",
      "execution_count": null,
      "metadata": {
        "id": "ko3NIvAs9kec"
      },
      "outputs": [],
      "source": [
        "df2[['age','animal']] # Import a list consisting of column names"
      ]
    },
    {
      "cell_type": "code",
      "execution_count": 37,
      "metadata": {
        "colab": {
          "base_uri": "https://localhost:8080/",
          "height": 363
        },
        "id": "hOgMXqnK9kec",
        "outputId": "b9ec118e-8e47-40ff-e8a3-7338042f67a4"
      },
      "outputs": [
        {
          "output_type": "execute_result",
          "data": {
            "text/plain": [
              "   age animal\n",
              "a  2.5    cat\n",
              "b  3.0    cat\n",
              "c  0.5  snake\n",
              "d  NaN    dog\n",
              "e  5.0    dog\n",
              "f  2.0    cat\n",
              "g  4.5  snake\n",
              "h  NaN    cat\n",
              "i  7.0    dog\n",
              "j  3.0    dog"
            ],
            "text/html": [
              "\n",
              "  <div id=\"df-5078ce94-4ff0-420d-b8eb-9c20fd42d65a\">\n",
              "    <div class=\"colab-df-container\">\n",
              "      <div>\n",
              "<style scoped>\n",
              "    .dataframe tbody tr th:only-of-type {\n",
              "        vertical-align: middle;\n",
              "    }\n",
              "\n",
              "    .dataframe tbody tr th {\n",
              "        vertical-align: top;\n",
              "    }\n",
              "\n",
              "    .dataframe thead th {\n",
              "        text-align: right;\n",
              "    }\n",
              "</style>\n",
              "<table border=\"1\" class=\"dataframe\">\n",
              "  <thead>\n",
              "    <tr style=\"text-align: right;\">\n",
              "      <th></th>\n",
              "      <th>age</th>\n",
              "      <th>animal</th>\n",
              "    </tr>\n",
              "  </thead>\n",
              "  <tbody>\n",
              "    <tr>\n",
              "      <th>a</th>\n",
              "      <td>2.5</td>\n",
              "      <td>cat</td>\n",
              "    </tr>\n",
              "    <tr>\n",
              "      <th>b</th>\n",
              "      <td>3.0</td>\n",
              "      <td>cat</td>\n",
              "    </tr>\n",
              "    <tr>\n",
              "      <th>c</th>\n",
              "      <td>0.5</td>\n",
              "      <td>snake</td>\n",
              "    </tr>\n",
              "    <tr>\n",
              "      <th>d</th>\n",
              "      <td>NaN</td>\n",
              "      <td>dog</td>\n",
              "    </tr>\n",
              "    <tr>\n",
              "      <th>e</th>\n",
              "      <td>5.0</td>\n",
              "      <td>dog</td>\n",
              "    </tr>\n",
              "    <tr>\n",
              "      <th>f</th>\n",
              "      <td>2.0</td>\n",
              "      <td>cat</td>\n",
              "    </tr>\n",
              "    <tr>\n",
              "      <th>g</th>\n",
              "      <td>4.5</td>\n",
              "      <td>snake</td>\n",
              "    </tr>\n",
              "    <tr>\n",
              "      <th>h</th>\n",
              "      <td>NaN</td>\n",
              "      <td>cat</td>\n",
              "    </tr>\n",
              "    <tr>\n",
              "      <th>i</th>\n",
              "      <td>7.0</td>\n",
              "      <td>dog</td>\n",
              "    </tr>\n",
              "    <tr>\n",
              "      <th>j</th>\n",
              "      <td>3.0</td>\n",
              "      <td>dog</td>\n",
              "    </tr>\n",
              "  </tbody>\n",
              "</table>\n",
              "</div>\n",
              "      <button class=\"colab-df-convert\" onclick=\"convertToInteractive('df-5078ce94-4ff0-420d-b8eb-9c20fd42d65a')\"\n",
              "              title=\"Convert this dataframe to an interactive table.\"\n",
              "              style=\"display:none;\">\n",
              "        \n",
              "  <svg xmlns=\"http://www.w3.org/2000/svg\" height=\"24px\"viewBox=\"0 0 24 24\"\n",
              "       width=\"24px\">\n",
              "    <path d=\"M0 0h24v24H0V0z\" fill=\"none\"/>\n",
              "    <path d=\"M18.56 5.44l.94 2.06.94-2.06 2.06-.94-2.06-.94-.94-2.06-.94 2.06-2.06.94zm-11 1L8.5 8.5l.94-2.06 2.06-.94-2.06-.94L8.5 2.5l-.94 2.06-2.06.94zm10 10l.94 2.06.94-2.06 2.06-.94-2.06-.94-.94-2.06-.94 2.06-2.06.94z\"/><path d=\"M17.41 7.96l-1.37-1.37c-.4-.4-.92-.59-1.43-.59-.52 0-1.04.2-1.43.59L10.3 9.45l-7.72 7.72c-.78.78-.78 2.05 0 2.83L4 21.41c.39.39.9.59 1.41.59.51 0 1.02-.2 1.41-.59l7.78-7.78 2.81-2.81c.8-.78.8-2.07 0-2.86zM5.41 20L4 18.59l7.72-7.72 1.47 1.35L5.41 20z\"/>\n",
              "  </svg>\n",
              "      </button>\n",
              "      \n",
              "  <style>\n",
              "    .colab-df-container {\n",
              "      display:flex;\n",
              "      flex-wrap:wrap;\n",
              "      gap: 12px;\n",
              "    }\n",
              "\n",
              "    .colab-df-convert {\n",
              "      background-color: #E8F0FE;\n",
              "      border: none;\n",
              "      border-radius: 50%;\n",
              "      cursor: pointer;\n",
              "      display: none;\n",
              "      fill: #1967D2;\n",
              "      height: 32px;\n",
              "      padding: 0 0 0 0;\n",
              "      width: 32px;\n",
              "    }\n",
              "\n",
              "    .colab-df-convert:hover {\n",
              "      background-color: #E2EBFA;\n",
              "      box-shadow: 0px 1px 2px rgba(60, 64, 67, 0.3), 0px 1px 3px 1px rgba(60, 64, 67, 0.15);\n",
              "      fill: #174EA6;\n",
              "    }\n",
              "\n",
              "    [theme=dark] .colab-df-convert {\n",
              "      background-color: #3B4455;\n",
              "      fill: #D2E3FC;\n",
              "    }\n",
              "\n",
              "    [theme=dark] .colab-df-convert:hover {\n",
              "      background-color: #434B5C;\n",
              "      box-shadow: 0px 1px 3px 1px rgba(0, 0, 0, 0.15);\n",
              "      filter: drop-shadow(0px 1px 2px rgba(0, 0, 0, 0.3));\n",
              "      fill: #FFFFFF;\n",
              "    }\n",
              "  </style>\n",
              "\n",
              "      <script>\n",
              "        const buttonEl =\n",
              "          document.querySelector('#df-5078ce94-4ff0-420d-b8eb-9c20fd42d65a button.colab-df-convert');\n",
              "        buttonEl.style.display =\n",
              "          google.colab.kernel.accessAllowed ? 'block' : 'none';\n",
              "\n",
              "        async function convertToInteractive(key) {\n",
              "          const element = document.querySelector('#df-5078ce94-4ff0-420d-b8eb-9c20fd42d65a');\n",
              "          const dataTable =\n",
              "            await google.colab.kernel.invokeFunction('convertToInteractive',\n",
              "                                                     [key], {});\n",
              "          if (!dataTable) return;\n",
              "\n",
              "          const docLinkHtml = 'Like what you see? Visit the ' +\n",
              "            '<a target=\"_blank\" href=https://colab.research.google.com/notebooks/data_table.ipynb>data table notebook</a>'\n",
              "            + ' to learn more about interactive tables.';\n",
              "          element.innerHTML = '';\n",
              "          dataTable['output_type'] = 'display_data';\n",
              "          await google.colab.output.renderOutput(dataTable, element);\n",
              "          const docLink = document.createElement('div');\n",
              "          docLink.innerHTML = docLinkHtml;\n",
              "          element.appendChild(docLink);\n",
              "        }\n",
              "      </script>\n",
              "    </div>\n",
              "  </div>\n",
              "  "
            ]
          },
          "metadata": {},
          "execution_count": 37
        }
      ],
      "source": [
        "df2[['age','animal']]"
      ]
    },
    {
      "cell_type": "markdown",
      "metadata": {
        "id": "GiBF3yjh9kec"
      },
      "source": [
        "#### 34. Query the `DataFrame` by location "
      ]
    },
    {
      "cell_type": "code",
      "execution_count": null,
      "metadata": {
        "id": "lU5lXhLS9kec"
      },
      "outputs": [],
      "source": [
        "df2.iloc[1:3] # Query rows 2，3"
      ]
    },
    {
      "cell_type": "code",
      "execution_count": 38,
      "metadata": {
        "colab": {
          "base_uri": "https://localhost:8080/",
          "height": 112
        },
        "id": "jfvTTMsO9ked",
        "outputId": "3eaab45b-fee1-4f52-fe82-8772c3782980"
      },
      "outputs": [
        {
          "output_type": "execute_result",
          "data": {
            "text/plain": [
              "  animal  age  visits priority\n",
              "b    cat  3.0       3      yes\n",
              "c  snake  0.5       2       no"
            ],
            "text/html": [
              "\n",
              "  <div id=\"df-6f9a2dc7-ff6b-470f-9ced-25663894b6ca\">\n",
              "    <div class=\"colab-df-container\">\n",
              "      <div>\n",
              "<style scoped>\n",
              "    .dataframe tbody tr th:only-of-type {\n",
              "        vertical-align: middle;\n",
              "    }\n",
              "\n",
              "    .dataframe tbody tr th {\n",
              "        vertical-align: top;\n",
              "    }\n",
              "\n",
              "    .dataframe thead th {\n",
              "        text-align: right;\n",
              "    }\n",
              "</style>\n",
              "<table border=\"1\" class=\"dataframe\">\n",
              "  <thead>\n",
              "    <tr style=\"text-align: right;\">\n",
              "      <th></th>\n",
              "      <th>animal</th>\n",
              "      <th>age</th>\n",
              "      <th>visits</th>\n",
              "      <th>priority</th>\n",
              "    </tr>\n",
              "  </thead>\n",
              "  <tbody>\n",
              "    <tr>\n",
              "      <th>b</th>\n",
              "      <td>cat</td>\n",
              "      <td>3.0</td>\n",
              "      <td>3</td>\n",
              "      <td>yes</td>\n",
              "    </tr>\n",
              "    <tr>\n",
              "      <th>c</th>\n",
              "      <td>snake</td>\n",
              "      <td>0.5</td>\n",
              "      <td>2</td>\n",
              "      <td>no</td>\n",
              "    </tr>\n",
              "  </tbody>\n",
              "</table>\n",
              "</div>\n",
              "      <button class=\"colab-df-convert\" onclick=\"convertToInteractive('df-6f9a2dc7-ff6b-470f-9ced-25663894b6ca')\"\n",
              "              title=\"Convert this dataframe to an interactive table.\"\n",
              "              style=\"display:none;\">\n",
              "        \n",
              "  <svg xmlns=\"http://www.w3.org/2000/svg\" height=\"24px\"viewBox=\"0 0 24 24\"\n",
              "       width=\"24px\">\n",
              "    <path d=\"M0 0h24v24H0V0z\" fill=\"none\"/>\n",
              "    <path d=\"M18.56 5.44l.94 2.06.94-2.06 2.06-.94-2.06-.94-.94-2.06-.94 2.06-2.06.94zm-11 1L8.5 8.5l.94-2.06 2.06-.94-2.06-.94L8.5 2.5l-.94 2.06-2.06.94zm10 10l.94 2.06.94-2.06 2.06-.94-2.06-.94-.94-2.06-.94 2.06-2.06.94z\"/><path d=\"M17.41 7.96l-1.37-1.37c-.4-.4-.92-.59-1.43-.59-.52 0-1.04.2-1.43.59L10.3 9.45l-7.72 7.72c-.78.78-.78 2.05 0 2.83L4 21.41c.39.39.9.59 1.41.59.51 0 1.02-.2 1.41-.59l7.78-7.78 2.81-2.81c.8-.78.8-2.07 0-2.86zM5.41 20L4 18.59l7.72-7.72 1.47 1.35L5.41 20z\"/>\n",
              "  </svg>\n",
              "      </button>\n",
              "      \n",
              "  <style>\n",
              "    .colab-df-container {\n",
              "      display:flex;\n",
              "      flex-wrap:wrap;\n",
              "      gap: 12px;\n",
              "    }\n",
              "\n",
              "    .colab-df-convert {\n",
              "      background-color: #E8F0FE;\n",
              "      border: none;\n",
              "      border-radius: 50%;\n",
              "      cursor: pointer;\n",
              "      display: none;\n",
              "      fill: #1967D2;\n",
              "      height: 32px;\n",
              "      padding: 0 0 0 0;\n",
              "      width: 32px;\n",
              "    }\n",
              "\n",
              "    .colab-df-convert:hover {\n",
              "      background-color: #E2EBFA;\n",
              "      box-shadow: 0px 1px 2px rgba(60, 64, 67, 0.3), 0px 1px 3px 1px rgba(60, 64, 67, 0.15);\n",
              "      fill: #174EA6;\n",
              "    }\n",
              "\n",
              "    [theme=dark] .colab-df-convert {\n",
              "      background-color: #3B4455;\n",
              "      fill: #D2E3FC;\n",
              "    }\n",
              "\n",
              "    [theme=dark] .colab-df-convert:hover {\n",
              "      background-color: #434B5C;\n",
              "      box-shadow: 0px 1px 3px 1px rgba(0, 0, 0, 0.15);\n",
              "      filter: drop-shadow(0px 1px 2px rgba(0, 0, 0, 0.3));\n",
              "      fill: #FFFFFF;\n",
              "    }\n",
              "  </style>\n",
              "\n",
              "      <script>\n",
              "        const buttonEl =\n",
              "          document.querySelector('#df-6f9a2dc7-ff6b-470f-9ced-25663894b6ca button.colab-df-convert');\n",
              "        buttonEl.style.display =\n",
              "          google.colab.kernel.accessAllowed ? 'block' : 'none';\n",
              "\n",
              "        async function convertToInteractive(key) {\n",
              "          const element = document.querySelector('#df-6f9a2dc7-ff6b-470f-9ced-25663894b6ca');\n",
              "          const dataTable =\n",
              "            await google.colab.kernel.invokeFunction('convertToInteractive',\n",
              "                                                     [key], {});\n",
              "          if (!dataTable) return;\n",
              "\n",
              "          const docLinkHtml = 'Like what you see? Visit the ' +\n",
              "            '<a target=\"_blank\" href=https://colab.research.google.com/notebooks/data_table.ipynb>data table notebook</a>'\n",
              "            + ' to learn more about interactive tables.';\n",
              "          element.innerHTML = '';\n",
              "          dataTable['output_type'] = 'display_data';\n",
              "          await google.colab.output.renderOutput(dataTable, element);\n",
              "          const docLink = document.createElement('div');\n",
              "          docLink.innerHTML = docLinkHtml;\n",
              "          element.appendChild(docLink);\n",
              "        }\n",
              "      </script>\n",
              "    </div>\n",
              "  </div>\n",
              "  "
            ]
          },
          "metadata": {},
          "execution_count": 38
        }
      ],
      "source": [
        "df2.iloc[1:3]"
      ]
    },
    {
      "cell_type": "markdown",
      "metadata": {
        "id": "SrtynZTY9ked"
      },
      "source": [
        "#### 35. Generate a Copy of `DataFrame` "
      ]
    },
    {
      "cell_type": "code",
      "execution_count": null,
      "metadata": {
        "id": "0WGOotws9ked"
      },
      "outputs": [],
      "source": [
        "# Generate the copy of DataFrame, making it convenient for datasets to be used by multiple different processes\n",
        "df3=df2.copy()\n",
        "df3"
      ]
    },
    {
      "cell_type": "code",
      "execution_count": 39,
      "metadata": {
        "colab": {
          "base_uri": "https://localhost:8080/",
          "height": 363
        },
        "id": "V5TDGWZ79kee",
        "outputId": "02d9d030-e8ba-4516-a1e5-5575e44fc6c8"
      },
      "outputs": [
        {
          "output_type": "execute_result",
          "data": {
            "text/plain": [
              "  animal  age  visits priority\n",
              "a    cat  2.5       1      yes\n",
              "b    cat  3.0       3      yes\n",
              "c  snake  0.5       2       no\n",
              "d    dog  NaN       3      yes\n",
              "e    dog  5.0       2       no\n",
              "f    cat  2.0       3       no\n",
              "g  snake  4.5       1       no\n",
              "h    cat  NaN       1      yes\n",
              "i    dog  7.0       2       no\n",
              "j    dog  3.0       1       no"
            ],
            "text/html": [
              "\n",
              "  <div id=\"df-54924042-7dc0-46e1-a8cc-59b6ca046a38\">\n",
              "    <div class=\"colab-df-container\">\n",
              "      <div>\n",
              "<style scoped>\n",
              "    .dataframe tbody tr th:only-of-type {\n",
              "        vertical-align: middle;\n",
              "    }\n",
              "\n",
              "    .dataframe tbody tr th {\n",
              "        vertical-align: top;\n",
              "    }\n",
              "\n",
              "    .dataframe thead th {\n",
              "        text-align: right;\n",
              "    }\n",
              "</style>\n",
              "<table border=\"1\" class=\"dataframe\">\n",
              "  <thead>\n",
              "    <tr style=\"text-align: right;\">\n",
              "      <th></th>\n",
              "      <th>animal</th>\n",
              "      <th>age</th>\n",
              "      <th>visits</th>\n",
              "      <th>priority</th>\n",
              "    </tr>\n",
              "  </thead>\n",
              "  <tbody>\n",
              "    <tr>\n",
              "      <th>a</th>\n",
              "      <td>cat</td>\n",
              "      <td>2.5</td>\n",
              "      <td>1</td>\n",
              "      <td>yes</td>\n",
              "    </tr>\n",
              "    <tr>\n",
              "      <th>b</th>\n",
              "      <td>cat</td>\n",
              "      <td>3.0</td>\n",
              "      <td>3</td>\n",
              "      <td>yes</td>\n",
              "    </tr>\n",
              "    <tr>\n",
              "      <th>c</th>\n",
              "      <td>snake</td>\n",
              "      <td>0.5</td>\n",
              "      <td>2</td>\n",
              "      <td>no</td>\n",
              "    </tr>\n",
              "    <tr>\n",
              "      <th>d</th>\n",
              "      <td>dog</td>\n",
              "      <td>NaN</td>\n",
              "      <td>3</td>\n",
              "      <td>yes</td>\n",
              "    </tr>\n",
              "    <tr>\n",
              "      <th>e</th>\n",
              "      <td>dog</td>\n",
              "      <td>5.0</td>\n",
              "      <td>2</td>\n",
              "      <td>no</td>\n",
              "    </tr>\n",
              "    <tr>\n",
              "      <th>f</th>\n",
              "      <td>cat</td>\n",
              "      <td>2.0</td>\n",
              "      <td>3</td>\n",
              "      <td>no</td>\n",
              "    </tr>\n",
              "    <tr>\n",
              "      <th>g</th>\n",
              "      <td>snake</td>\n",
              "      <td>4.5</td>\n",
              "      <td>1</td>\n",
              "      <td>no</td>\n",
              "    </tr>\n",
              "    <tr>\n",
              "      <th>h</th>\n",
              "      <td>cat</td>\n",
              "      <td>NaN</td>\n",
              "      <td>1</td>\n",
              "      <td>yes</td>\n",
              "    </tr>\n",
              "    <tr>\n",
              "      <th>i</th>\n",
              "      <td>dog</td>\n",
              "      <td>7.0</td>\n",
              "      <td>2</td>\n",
              "      <td>no</td>\n",
              "    </tr>\n",
              "    <tr>\n",
              "      <th>j</th>\n",
              "      <td>dog</td>\n",
              "      <td>3.0</td>\n",
              "      <td>1</td>\n",
              "      <td>no</td>\n",
              "    </tr>\n",
              "  </tbody>\n",
              "</table>\n",
              "</div>\n",
              "      <button class=\"colab-df-convert\" onclick=\"convertToInteractive('df-54924042-7dc0-46e1-a8cc-59b6ca046a38')\"\n",
              "              title=\"Convert this dataframe to an interactive table.\"\n",
              "              style=\"display:none;\">\n",
              "        \n",
              "  <svg xmlns=\"http://www.w3.org/2000/svg\" height=\"24px\"viewBox=\"0 0 24 24\"\n",
              "       width=\"24px\">\n",
              "    <path d=\"M0 0h24v24H0V0z\" fill=\"none\"/>\n",
              "    <path d=\"M18.56 5.44l.94 2.06.94-2.06 2.06-.94-2.06-.94-.94-2.06-.94 2.06-2.06.94zm-11 1L8.5 8.5l.94-2.06 2.06-.94-2.06-.94L8.5 2.5l-.94 2.06-2.06.94zm10 10l.94 2.06.94-2.06 2.06-.94-2.06-.94-.94-2.06-.94 2.06-2.06.94z\"/><path d=\"M17.41 7.96l-1.37-1.37c-.4-.4-.92-.59-1.43-.59-.52 0-1.04.2-1.43.59L10.3 9.45l-7.72 7.72c-.78.78-.78 2.05 0 2.83L4 21.41c.39.39.9.59 1.41.59.51 0 1.02-.2 1.41-.59l7.78-7.78 2.81-2.81c.8-.78.8-2.07 0-2.86zM5.41 20L4 18.59l7.72-7.72 1.47 1.35L5.41 20z\"/>\n",
              "  </svg>\n",
              "      </button>\n",
              "      \n",
              "  <style>\n",
              "    .colab-df-container {\n",
              "      display:flex;\n",
              "      flex-wrap:wrap;\n",
              "      gap: 12px;\n",
              "    }\n",
              "\n",
              "    .colab-df-convert {\n",
              "      background-color: #E8F0FE;\n",
              "      border: none;\n",
              "      border-radius: 50%;\n",
              "      cursor: pointer;\n",
              "      display: none;\n",
              "      fill: #1967D2;\n",
              "      height: 32px;\n",
              "      padding: 0 0 0 0;\n",
              "      width: 32px;\n",
              "    }\n",
              "\n",
              "    .colab-df-convert:hover {\n",
              "      background-color: #E2EBFA;\n",
              "      box-shadow: 0px 1px 2px rgba(60, 64, 67, 0.3), 0px 1px 3px 1px rgba(60, 64, 67, 0.15);\n",
              "      fill: #174EA6;\n",
              "    }\n",
              "\n",
              "    [theme=dark] .colab-df-convert {\n",
              "      background-color: #3B4455;\n",
              "      fill: #D2E3FC;\n",
              "    }\n",
              "\n",
              "    [theme=dark] .colab-df-convert:hover {\n",
              "      background-color: #434B5C;\n",
              "      box-shadow: 0px 1px 3px 1px rgba(0, 0, 0, 0.15);\n",
              "      filter: drop-shadow(0px 1px 2px rgba(0, 0, 0, 0.3));\n",
              "      fill: #FFFFFF;\n",
              "    }\n",
              "  </style>\n",
              "\n",
              "      <script>\n",
              "        const buttonEl =\n",
              "          document.querySelector('#df-54924042-7dc0-46e1-a8cc-59b6ca046a38 button.colab-df-convert');\n",
              "        buttonEl.style.display =\n",
              "          google.colab.kernel.accessAllowed ? 'block' : 'none';\n",
              "\n",
              "        async function convertToInteractive(key) {\n",
              "          const element = document.querySelector('#df-54924042-7dc0-46e1-a8cc-59b6ca046a38');\n",
              "          const dataTable =\n",
              "            await google.colab.kernel.invokeFunction('convertToInteractive',\n",
              "                                                     [key], {});\n",
              "          if (!dataTable) return;\n",
              "\n",
              "          const docLinkHtml = 'Like what you see? Visit the ' +\n",
              "            '<a target=\"_blank\" href=https://colab.research.google.com/notebooks/data_table.ipynb>data table notebook</a>'\n",
              "            + ' to learn more about interactive tables.';\n",
              "          element.innerHTML = '';\n",
              "          dataTable['output_type'] = 'display_data';\n",
              "          await google.colab.output.renderOutput(dataTable, element);\n",
              "          const docLink = document.createElement('div');\n",
              "          docLink.innerHTML = docLinkHtml;\n",
              "          element.appendChild(docLink);\n",
              "        }\n",
              "      </script>\n",
              "    </div>\n",
              "  </div>\n",
              "  "
            ]
          },
          "metadata": {},
          "execution_count": 39
        }
      ],
      "source": [
        "df3=df2.copy()\n",
        "df3"
      ]
    },
    {
      "cell_type": "markdown",
      "metadata": {
        "id": "3jecWgVq9kee"
      },
      "source": [
        "#### 36. Judge if `DataFrame` is empty"
      ]
    },
    {
      "cell_type": "code",
      "execution_count": null,
      "metadata": {
        "id": "TXWKTI2D9kee"
      },
      "outputs": [],
      "source": [
        "df3.isnull() # Return True if it's empty "
      ]
    },
    {
      "cell_type": "code",
      "execution_count": null,
      "metadata": {
        "id": "t_HRNEhT9kee"
      },
      "outputs": [],
      "source": []
    },
    {
      "cell_type": "markdown",
      "metadata": {
        "id": "d7EXZ2ie9kef"
      },
      "source": [
        "#### 37. Add column data "
      ]
    },
    {
      "cell_type": "code",
      "execution_count": null,
      "metadata": {
        "id": "89_-Huyp9kef"
      },
      "outputs": [],
      "source": [
        "num=pd.Series([0,1,2,3,4,5,6,7,8,9],index=df3.index)\n",
        "\n",
        "df3['No.']=num # Add a new data column named as 'No.'\n",
        "df3"
      ]
    },
    {
      "cell_type": "code",
      "execution_count": null,
      "metadata": {
        "id": "NUk5cwRs9kef"
      },
      "outputs": [],
      "source": []
    },
    {
      "cell_type": "markdown",
      "metadata": {
        "id": "74pXb7nB9kef"
      },
      "source": [
        "#### 38. Make changes based on the subscript value of the `DataFrame`"
      ]
    },
    {
      "cell_type": "code",
      "execution_count": null,
      "metadata": {
        "id": "drn0cYzs9keg"
      },
      "outputs": [],
      "source": [
        "# Modify the value corresponding to row 2 and column 1: 3.0 → 2.0\n",
        "df3.iat[1,0]=2 # The index number begins from 0, so here it's 1, 0\n",
        "df3"
      ]
    },
    {
      "cell_type": "markdown",
      "metadata": {
        "id": "VUjNYB2Y9keg"
      },
      "source": [
        "#### 39. Modify the data according to the label of the `DataFrame`"
      ]
    },
    {
      "cell_type": "code",
      "execution_count": null,
      "metadata": {
        "id": "K7rvR2Fg9keg"
      },
      "outputs": [],
      "source": [
        "df3.loc['f','age']=1.5\n",
        "df3"
      ]
    },
    {
      "cell_type": "markdown",
      "metadata": {
        "id": "PYZ0oztO9keh"
      },
      "source": [
        "#### 40. `DataFrame`: Get the average"
      ]
    },
    {
      "cell_type": "code",
      "execution_count": null,
      "metadata": {
        "id": "NUkorwQF9keh"
      },
      "outputs": [],
      "source": [
        "df3.mean()"
      ]
    },
    {
      "cell_type": "code",
      "execution_count": null,
      "metadata": {
        "id": "ZEyKoKsb9keh"
      },
      "outputs": [],
      "source": []
    },
    {
      "cell_type": "markdown",
      "metadata": {
        "id": "AET6V_LM9keh"
      },
      "source": [
        "#### 41. Do a summation operation on any column in the `DataFrame`"
      ]
    },
    {
      "cell_type": "code",
      "execution_count": null,
      "metadata": {
        "id": "gAzrmFvu9kei"
      },
      "outputs": [],
      "source": [
        "df3['visits'].sum()"
      ]
    },
    {
      "cell_type": "code",
      "execution_count": null,
      "metadata": {
        "id": "Z94v1XY09kei"
      },
      "outputs": [],
      "source": []
    },
    {
      "cell_type": "markdown",
      "metadata": {
        "id": "gWGUsnFB9kei"
      },
      "source": [
        "### String Operations"
      ]
    },
    {
      "cell_type": "markdown",
      "metadata": {
        "id": "fPYeykjA9kej"
      },
      "source": [
        "#### 42. Convert a string to lowercase letters"
      ]
    },
    {
      "cell_type": "code",
      "execution_count": null,
      "metadata": {
        "id": "eE5U-RcM9kek"
      },
      "outputs": [],
      "source": [
        "string = pd.Series(['A', 'B', 'C', 'Aaba', 'Baca', np.nan, 'CABA', 'dog', 'cat'])\n",
        "print(string)\n",
        "string.str.lower()"
      ]
    },
    {
      "cell_type": "code",
      "execution_count": null,
      "metadata": {
        "id": "-B4Rukpd9kek"
      },
      "outputs": [],
      "source": []
    },
    {
      "cell_type": "markdown",
      "metadata": {
        "id": "Lu_xSf6c9kek"
      },
      "source": [
        "#### 43. Convert a string to uppercase letters"
      ]
    },
    {
      "cell_type": "code",
      "execution_count": null,
      "metadata": {
        "id": "AK9NOqdz9kel"
      },
      "outputs": [],
      "source": [
        "string.str.upper()"
      ]
    },
    {
      "cell_type": "code",
      "execution_count": null,
      "metadata": {
        "id": "LP8pZCwB9kel"
      },
      "outputs": [],
      "source": []
    },
    {
      "cell_type": "markdown",
      "metadata": {
        "id": "4PqCb3uC9kel"
      },
      "source": [
        "### Operations for `DataFrame` missing values"
      ]
    },
    {
      "cell_type": "markdown",
      "metadata": {
        "id": "HpK4rBxW9kel"
      },
      "source": [
        "#### 44. Fill in missing values"
      ]
    },
    {
      "cell_type": "code",
      "execution_count": null,
      "metadata": {
        "id": "1MOY7aFQ9kem"
      },
      "outputs": [],
      "source": [
        "df4=df3.copy()\n",
        "print(df4)\n",
        "df4.fillna(value=3)"
      ]
    },
    {
      "cell_type": "code",
      "execution_count": null,
      "metadata": {
        "id": "m7jgAM9n9kem"
      },
      "outputs": [],
      "source": []
    },
    {
      "cell_type": "markdown",
      "metadata": {
        "id": "QxT05IdJ9kem"
      },
      "source": [
        "#### 45. Delete rows with missing values"
      ]
    },
    {
      "cell_type": "code",
      "execution_count": null,
      "metadata": {
        "id": "_xydxH5w9kem"
      },
      "outputs": [],
      "source": [
        "df5=df3.copy()\n",
        "print(df5)\n",
        "df5.dropna(how='any') # Any row with NaN will be deleted"
      ]
    },
    {
      "cell_type": "code",
      "execution_count": null,
      "metadata": {
        "id": "h2WGtXCI9ken"
      },
      "outputs": [],
      "source": []
    },
    {
      "cell_type": "markdown",
      "metadata": {
        "id": "RYg6aWVW9ken"
      },
      "source": [
        "#### 46. `DataFrame`: Align by specified column "
      ]
    },
    {
      "cell_type": "code",
      "execution_count": null,
      "metadata": {
        "id": "QiQEbKtD9ken"
      },
      "outputs": [],
      "source": [
        "left = pd.DataFrame({'key': ['foo1', 'foo2'], 'one': [1, 2]})\n",
        "right = pd.DataFrame({'key': ['foo2', 'foo3'], 'two': [4, 5]})\n",
        "\n",
        "print(left)\n",
        "print(right)\n",
        "\n",
        "# After aligning according to the key column, only foo2 is the same, so it ends up as a line\n",
        "pd.merge(left, right, on='key')"
      ]
    },
    {
      "cell_type": "code",
      "execution_count": null,
      "metadata": {
        "id": "Vn7vdVhz9ken"
      },
      "outputs": [],
      "source": []
    },
    {
      "cell_type": "markdown",
      "metadata": {
        "id": "MnpcPKtn9keo"
      },
      "source": [
        "### `DataFrame` File Operations "
      ]
    },
    {
      "cell_type": "markdown",
      "metadata": {
        "id": "RqydlVP89keo"
      },
      "source": [
        "#### 47. Write to CSV file"
      ]
    },
    {
      "cell_type": "code",
      "execution_count": null,
      "metadata": {
        "id": "hiGDWdRf9keo"
      },
      "outputs": [],
      "source": [
        "df3.to_csv('animal.csv')\n",
        "print(\"Success.\")"
      ]
    },
    {
      "cell_type": "code",
      "execution_count": null,
      "metadata": {
        "id": "tMn6jM8j9keo"
      },
      "outputs": [],
      "source": []
    },
    {
      "cell_type": "markdown",
      "metadata": {
        "id": "NPrZ0ANX9kep"
      },
      "source": [
        "#### 48. Read from CSV file"
      ]
    },
    {
      "cell_type": "code",
      "execution_count": null,
      "metadata": {
        "id": "EUSe-EXT9kep"
      },
      "outputs": [],
      "source": [
        "df_animal=pd.read_csv('animal.csv')\n",
        "df_animal"
      ]
    },
    {
      "cell_type": "code",
      "execution_count": null,
      "metadata": {
        "id": "V_dVAc0y9kep"
      },
      "outputs": [],
      "source": []
    },
    {
      "cell_type": "markdown",
      "metadata": {
        "id": "R7sNz18V9kep"
      },
      "source": [
        "#### 49. Write to Excel spreadsheet"
      ]
    },
    {
      "cell_type": "code",
      "execution_count": null,
      "metadata": {
        "id": "4e9tl1Wq9keq"
      },
      "outputs": [],
      "source": [
        "df3.to_excel('animal.xlsx', sheet_name='Sheet1')\n",
        "print(\"Success.\")"
      ]
    },
    {
      "cell_type": "code",
      "execution_count": null,
      "metadata": {
        "id": "ZqHw1JJQ9keq"
      },
      "outputs": [],
      "source": []
    },
    {
      "cell_type": "markdown",
      "metadata": {
        "id": "SKtp2R-N9keq"
      },
      "source": [
        "#### 50. Read from Excel spreadsheet  "
      ]
    },
    {
      "cell_type": "code",
      "execution_count": null,
      "metadata": {
        "id": "Us70-fm19keq"
      },
      "outputs": [],
      "source": [
        "pd.read_excel('animal.xlsx', 'Sheet1', index_col=None, na_values=['NA'])"
      ]
    },
    {
      "cell_type": "markdown",
      "metadata": {
        "id": "DNd1vMUJ9ker"
      },
      "source": [
        "---\n",
        "## <a id=\"2\">2. Advanced Part</a>"
      ]
    },
    {
      "cell_type": "markdown",
      "metadata": {
        "id": "T9jlJKoW9ker"
      },
      "source": [
        "### Index of Time Sequence"
      ]
    },
    {
      "cell_type": "markdown",
      "metadata": {
        "id": "8NXDU5X19ker"
      },
      "source": [
        "#### 51. Create a `Series` indexed by each day in 2018, and the values  are random numbers"
      ]
    },
    {
      "cell_type": "code",
      "execution_count": null,
      "metadata": {
        "id": "nnm3_9rG9ker"
      },
      "outputs": [],
      "source": [
        "dti = pd.date_range(start='2018-01-01', end='2018-12-31', freq='D') \n",
        "s = pd.Series(np.random.rand(len(dti)), index=dti)\n",
        "s"
      ]
    },
    {
      "cell_type": "code",
      "execution_count": null,
      "metadata": {
        "id": "zY-W9edw9kes"
      },
      "outputs": [],
      "source": []
    },
    {
      "cell_type": "markdown",
      "metadata": {
        "id": "4Bp-JMC29kes"
      },
      "source": [
        "#### 52. Get the sum of the corresponding values for each Wednesday in `s`"
      ]
    },
    {
      "cell_type": "code",
      "execution_count": null,
      "metadata": {
        "id": "CFfGyNv89kes"
      },
      "outputs": [],
      "source": [
        "# Monday begins from 0\n",
        "s[s.index.weekday == 2].sum()"
      ]
    },
    {
      "cell_type": "code",
      "execution_count": null,
      "metadata": {
        "id": "yfnnLkft9kes"
      },
      "outputs": [],
      "source": []
    },
    {
      "cell_type": "markdown",
      "metadata": {
        "id": "eiZRunAh9keu"
      },
      "source": [
        "#### 53. Get the average value of each month value in `s`"
      ]
    },
    {
      "cell_type": "code",
      "execution_count": null,
      "metadata": {
        "id": "zwSrTxZE9keu"
      },
      "outputs": [],
      "source": [
        "s.resample('M').mean()"
      ]
    },
    {
      "cell_type": "code",
      "execution_count": null,
      "metadata": {
        "id": "l6Vkks7Y9keu"
      },
      "outputs": [],
      "source": []
    },
    {
      "cell_type": "markdown",
      "metadata": {
        "id": "kShfHHqO9keu"
      },
      "source": [
        "#### 54. Convert the time unit in `Series` (second to minute) "
      ]
    },
    {
      "cell_type": "code",
      "execution_count": null,
      "metadata": {
        "id": "v07h2rPO9keu"
      },
      "outputs": [],
      "source": [
        "s = pd.date_range('today', periods=100, freq='S')\n",
        "\n",
        "ts = pd.Series(np.random.randint(0, 500, len(s)), index=s)\n",
        "\n",
        "ts.resample('Min').sum()"
      ]
    },
    {
      "cell_type": "code",
      "execution_count": null,
      "metadata": {
        "id": "WtKCOzoV9kev"
      },
      "outputs": [],
      "source": []
    },
    {
      "cell_type": "markdown",
      "metadata": {
        "id": "ZrO_nNqU9kev"
      },
      "source": [
        "#### 55. UTC"
      ]
    },
    {
      "cell_type": "code",
      "execution_count": null,
      "metadata": {
        "id": "4kOWxwdA9kev"
      },
      "outputs": [],
      "source": [
        "s = pd.date_range('today', periods=1, freq='D') # Get the current time\n",
        "ts = pd.Series(np.random.randn(len(s)), s) # Random value\n",
        "ts_utc = ts.tz_localize('UTC') # Convert to UTC time\n",
        "ts_utc"
      ]
    },
    {
      "cell_type": "code",
      "execution_count": null,
      "metadata": {
        "id": "bF9xYURc9kev"
      },
      "outputs": [],
      "source": []
    },
    {
      "cell_type": "markdown",
      "metadata": {
        "id": "lJOz493X9kew"
      },
      "source": [
        "#### 56. Convert to the time zone of Shanghai"
      ]
    },
    {
      "cell_type": "code",
      "execution_count": null,
      "metadata": {
        "id": "6WgnM7Rh9kew"
      },
      "outputs": [],
      "source": [
        "ts_utc.tz_convert('Asia/Shanghai')"
      ]
    },
    {
      "cell_type": "code",
      "execution_count": null,
      "metadata": {
        "id": "QLRG7ST49kew"
      },
      "outputs": [],
      "source": []
    },
    {
      "cell_type": "markdown",
      "metadata": {
        "id": "4iahdzTy9kew"
      },
      "source": [
        "#### 57. Conversion of different time representations"
      ]
    },
    {
      "cell_type": "code",
      "execution_count": null,
      "metadata": {
        "id": "z5HcDqgp9kew"
      },
      "outputs": [],
      "source": [
        "rng = pd.date_range('1/1/2018', periods=5, freq='M')\n",
        "ts = pd.Series(np.random.randn(len(rng)), index=rng)\n",
        "print (ts)\n",
        "ps = ts.to_period()\n",
        "print(ps)\n",
        "ps.to_timestamp()"
      ]
    },
    {
      "cell_type": "code",
      "execution_count": null,
      "metadata": {
        "id": "2t-PXGGg9kex"
      },
      "outputs": [],
      "source": []
    },
    {
      "cell_type": "markdown",
      "metadata": {
        "id": "gHFfMlbZ9kex"
      },
      "source": [
        "###  Series with Multiple Indexes [Optional]"
      ]
    },
    {
      "cell_type": "markdown",
      "metadata": {
        "id": "hfvLwWlF9kex"
      },
      "source": [
        "#### 58. Create the multiple index Series\n",
        "\n",
        "Construct a `Series` with multiple indexes, whose indexes are `letters = ['A', 'B', 'C']` and `numbers = list(range(10))`, and whose values are random numbers:"
      ]
    },
    {
      "cell_type": "code",
      "execution_count": null,
      "metadata": {
        "id": "fpPTz6_T9kex"
      },
      "outputs": [],
      "source": [
        "letters = ['A', 'B', 'C']\n",
        "numbers = list(range(10))\n",
        "\n",
        "mi = pd.MultiIndex.from_product([letters, numbers]) # Set multiple indexes\n",
        "s = pd.Series(np.random.rand(30), index=mi) # Random numbers  \n",
        "s"
      ]
    },
    {
      "cell_type": "code",
      "execution_count": null,
      "metadata": {
        "id": "e_fMdvyT9key"
      },
      "outputs": [],
      "source": []
    },
    {
      "cell_type": "markdown",
      "metadata": {
        "id": "HRazy1tG9key"
      },
      "source": [
        "#### 59. Query in the Series with multiple indexes"
      ]
    },
    {
      "cell_type": "code",
      "execution_count": null,
      "metadata": {
        "id": "0bIwMA9a9key"
      },
      "outputs": [],
      "source": [
        "# Query values whose indexes are 1, 3, 6 \n",
        "s.loc[:, [1, 3, 6]]"
      ]
    },
    {
      "cell_type": "code",
      "execution_count": null,
      "metadata": {
        "id": "2hyQQ66O9key"
      },
      "outputs": [],
      "source": []
    },
    {
      "cell_type": "markdown",
      "metadata": {
        "id": "O7TBsyNA9key"
      },
      "source": [
        "#### 60. Slice Series with multiple indexes "
      ]
    },
    {
      "cell_type": "code",
      "execution_count": null,
      "metadata": {
        "id": "veGywR9z9kez"
      },
      "outputs": [],
      "source": [
        "s.loc[pd.IndexSlice[:'B', 5:]]"
      ]
    },
    {
      "cell_type": "code",
      "execution_count": null,
      "metadata": {
        "id": "O2vioDuj9kez"
      },
      "outputs": [],
      "source": []
    },
    {
      "cell_type": "markdown",
      "metadata": {
        "id": "OsfexEXY9kez"
      },
      "source": [
        "### DataFrame with multiple indexes [optional]"
      ]
    },
    {
      "cell_type": "markdown",
      "metadata": {
        "id": "lAOw_m0f9kez"
      },
      "source": [
        "#### 61. Create DataFrame with multiple indexes \n",
        "Construct a `DataFrame` with multiple indexes, whose indexes are `letters = ['A', 'B']` and `numbers = list(range(6))`, and whose values are random numbers:"
      ]
    },
    {
      "cell_type": "code",
      "execution_count": null,
      "metadata": {
        "id": "34FIV3YU9ke0"
      },
      "outputs": [],
      "source": [
        "frame=pd.DataFrame(np.arange(12).reshape(6,2),\n",
        "                index=[list('AAABBB'),list('123123')],\n",
        "                columns=['hello','shiyanlou'])\n",
        "frame"
      ]
    },
    {
      "cell_type": "code",
      "execution_count": null,
      "metadata": {
        "id": "f_9PROeo9ke0"
      },
      "outputs": [],
      "source": []
    },
    {
      "cell_type": "markdown",
      "metadata": {
        "id": "p7K7YneA9ke0"
      },
      "source": [
        "#### 62. Set column names in multiple indexes"
      ]
    },
    {
      "cell_type": "code",
      "execution_count": null,
      "metadata": {
        "id": "LBBdqOeP9ke0"
      },
      "outputs": [],
      "source": [
        "frame.index.names=['first','second']\n",
        "frame"
      ]
    },
    {
      "cell_type": "code",
      "execution_count": null,
      "metadata": {
        "id": "56z2OSk49ke0"
      },
      "outputs": [],
      "source": []
    },
    {
      "cell_type": "markdown",
      "metadata": {
        "id": "7_6bnYkq9ke1"
      },
      "source": [
        "#### 63. Group summation of DataFrame with multiple indexes"
      ]
    },
    {
      "cell_type": "code",
      "execution_count": null,
      "metadata": {
        "id": "Rh8BKDij9ke1"
      },
      "outputs": [],
      "source": [
        "frame.groupby('first').sum()"
      ]
    },
    {
      "cell_type": "code",
      "execution_count": null,
      "metadata": {
        "id": "KhVxNpGa9ke1"
      },
      "outputs": [],
      "source": []
    },
    {
      "cell_type": "markdown",
      "metadata": {
        "id": "uL0PuMUU9ke1"
      },
      "source": [
        "#### 64. DataFrame: Convert column and row names"
      ]
    },
    {
      "cell_type": "code",
      "execution_count": null,
      "metadata": {
        "id": "e5o6Ybd29ke2"
      },
      "outputs": [],
      "source": [
        "print(frame)\n",
        "frame.stack()"
      ]
    },
    {
      "cell_type": "code",
      "execution_count": null,
      "metadata": {
        "id": "_lFonQBr9ke2"
      },
      "outputs": [],
      "source": []
    },
    {
      "cell_type": "markdown",
      "metadata": {
        "id": "JttS7Avh9ke2"
      },
      "source": [
        "#### 65. DataFrame: Convert index names"
      ]
    },
    {
      "cell_type": "code",
      "execution_count": null,
      "metadata": {
        "id": "ylCcTEDM9ke2"
      },
      "outputs": [],
      "source": [
        "print(frame)\n",
        "frame.unstack()"
      ]
    },
    {
      "cell_type": "code",
      "execution_count": null,
      "metadata": {
        "id": "CW85rzIb9ke2"
      },
      "outputs": [],
      "source": []
    },
    {
      "cell_type": "markdown",
      "metadata": {
        "id": "h-ROKvNf9ke3"
      },
      "source": [
        "#### 66. DataFrame Conditional Query"
      ]
    },
    {
      "cell_type": "code",
      "execution_count": null,
      "metadata": {
        "id": "Phg0b6eC9ke3"
      },
      "outputs": [],
      "source": [
        "# Example data\n",
        "\n",
        "data = {'animal': ['cat', 'cat', 'snake', 'dog', 'dog', 'cat', 'snake', 'cat', 'dog', 'dog'],\n",
        "        'age': [2.5, 3, 0.5, np.nan, 5, 2, 4.5, np.nan, 7, 3],\n",
        "        'visits': [1, 3, 2, 3, 2, 3, 1, 1, 2, 1],\n",
        "        'priority': ['yes', 'yes', 'no', 'yes', 'no', 'no', 'no', 'yes', 'no', 'no']}\n",
        "\n",
        "labels = ['a', 'b', 'c', 'd', 'e', 'f', 'g', 'h', 'i', 'j']\n",
        "df = pd.DataFrame(data, index=labels)"
      ]
    },
    {
      "cell_type": "markdown",
      "metadata": {
        "id": "u9x127d79ke3"
      },
      "source": [
        "Query the information about `age` > `3`:"
      ]
    },
    {
      "cell_type": "code",
      "execution_count": null,
      "metadata": {
        "id": "P6JT-Nie9ke3"
      },
      "outputs": [],
      "source": [
        "df[df['age'] > 3]"
      ]
    },
    {
      "cell_type": "code",
      "execution_count": null,
      "metadata": {
        "id": "G7O2bi5P9ke4"
      },
      "outputs": [],
      "source": []
    },
    {
      "cell_type": "markdown",
      "metadata": {
        "id": "f3nnVT9X9ke4"
      },
      "source": [
        "#### 67. Slice according to the indexes of row and column"
      ]
    },
    {
      "cell_type": "code",
      "execution_count": null,
      "metadata": {
        "id": "0JNOl4fF9ke4"
      },
      "outputs": [],
      "source": [
        "df.iloc[2:4, 1:3]"
      ]
    },
    {
      "cell_type": "code",
      "execution_count": null,
      "metadata": {
        "id": "AG3LjMEH9ke4"
      },
      "outputs": [],
      "source": []
    },
    {
      "cell_type": "markdown",
      "metadata": {
        "id": "U0iw63wL9ke4"
      },
      "source": [
        "#### 68. DataFrame: Query with multiple conditions \n",
        "Query data of `age<3` and `cat`:"
      ]
    },
    {
      "cell_type": "code",
      "execution_count": null,
      "metadata": {
        "id": "s0EPBnTX9ke5"
      },
      "outputs": [],
      "source": [
        "df = pd.DataFrame(data, index=labels)\n",
        "\n",
        "df[(df['animal'] == 'cat') & (df['age'] < 3)]"
      ]
    },
    {
      "cell_type": "code",
      "execution_count": null,
      "metadata": {
        "id": "5qIp88tK9ke5"
      },
      "outputs": [],
      "source": []
    },
    {
      "cell_type": "markdown",
      "metadata": {
        "id": "qCGOUtjZ9ke5"
      },
      "source": [
        "#### 69. DataFrame: Query by keyword"
      ]
    },
    {
      "cell_type": "code",
      "execution_count": null,
      "metadata": {
        "id": "8BWWJGD99ke5"
      },
      "outputs": [],
      "source": [
        "df3[df3['animal'].isin(['cat', 'dog'])]"
      ]
    },
    {
      "cell_type": "code",
      "execution_count": null,
      "metadata": {
        "id": "aFmTjGPX9ke6"
      },
      "outputs": [],
      "source": []
    },
    {
      "cell_type": "markdown",
      "metadata": {
        "id": "kiLO2sDW9ke6"
      },
      "source": [
        "#### 70. DataFrame: Query labels and column names"
      ]
    },
    {
      "cell_type": "code",
      "execution_count": null,
      "metadata": {
        "id": "CeUrm8A99ke7"
      },
      "outputs": [],
      "source": [
        "df.loc[df2.index[[3, 4, 8]], ['animal', 'age']]"
      ]
    },
    {
      "cell_type": "code",
      "execution_count": null,
      "metadata": {
        "id": "6HRXX-Wf9ke7"
      },
      "outputs": [],
      "source": []
    },
    {
      "cell_type": "markdown",
      "metadata": {
        "id": "5LUPZozY9ke7"
      },
      "source": [
        "#### 71. DataFrame: Multiple conditional sorting \n",
        "\n",
        "Sort `age` in descending order, and sort `visits` in ascending order:"
      ]
    },
    {
      "cell_type": "code",
      "execution_count": null,
      "metadata": {
        "id": "obisU-Af9ke7"
      },
      "outputs": [],
      "source": [
        "df.sort_values(by=['age', 'visits'], ascending=[False, True])"
      ]
    },
    {
      "cell_type": "code",
      "execution_count": null,
      "metadata": {
        "id": "fHSBu_9E9ke7"
      },
      "outputs": [],
      "source": []
    },
    {
      "cell_type": "markdown",
      "metadata": {
        "id": "ISKh3tJn9ke8"
      },
      "source": [
        "#### 72.DataFrame: Multi-value replacement\n",
        "\n",
        "Replace the `yes` value of the `priority` column with `True`, and the `no` value with `False`:"
      ]
    },
    {
      "cell_type": "code",
      "execution_count": null,
      "metadata": {
        "id": "H_8x9Sfh9ke8"
      },
      "outputs": [],
      "source": [
        "df['priority'].map({'yes': True, 'no': False})"
      ]
    },
    {
      "cell_type": "code",
      "execution_count": null,
      "metadata": {
        "id": "6RWKeLie9ke8"
      },
      "outputs": [],
      "source": []
    },
    {
      "cell_type": "markdown",
      "metadata": {
        "id": "tFsqNUB39ke8"
      },
      "source": [
        "#### 73. DataFrame: Group summation"
      ]
    },
    {
      "cell_type": "code",
      "execution_count": null,
      "metadata": {
        "id": "X7d3iqNU9ke8"
      },
      "outputs": [],
      "source": [
        "df4.groupby('animal').sum()"
      ]
    },
    {
      "cell_type": "code",
      "execution_count": null,
      "metadata": {
        "id": "0kCPDR_M9ke8"
      },
      "outputs": [],
      "source": []
    },
    {
      "cell_type": "markdown",
      "metadata": {
        "id": "IcdhwuhV9ke8"
      },
      "source": [
        "#### 74.Use table to stitch multiple data frames"
      ]
    },
    {
      "cell_type": "code",
      "execution_count": null,
      "metadata": {
        "id": "gor-C0kJ9ke8"
      },
      "outputs": [],
      "source": [
        "temp_df1 = pd.DataFrame(np.random.randn(5, 4)) # Generate DataFrame 1, consisting of random numbers\n",
        "temp_df2 = pd.DataFrame(np.random.randn(5, 4)) # Generate DataFrame 2, consisting of random numbers\n",
        "temp_df3 = pd.DataFrame(np.random.randn(5, 4)) # Generate DataFrame 3, consisting of random numbers\n",
        "\n",
        "print(temp_df1)\n",
        "print(temp_df2)\n",
        "print(temp_df3)\n",
        "\n",
        "pieces = [temp_df1,temp_df2,temp_df3]\n",
        "pd.concat(pieces)"
      ]
    },
    {
      "cell_type": "code",
      "execution_count": null,
      "metadata": {
        "id": "hAanmXWL9ke8"
      },
      "outputs": [],
      "source": []
    },
    {
      "cell_type": "markdown",
      "metadata": {
        "id": "D4pw5vzC9ke8"
      },
      "source": [
        "#### 75. Find the column with the smallest  summation in the DataFrame table"
      ]
    },
    {
      "cell_type": "code",
      "execution_count": null,
      "metadata": {
        "id": "7zitKSLS9ke8"
      },
      "outputs": [],
      "source": [
        "df = pd.DataFrame(np.random.random(size=(5, 10)), columns=list('abcdefghij'))\n",
        "print(df)\n",
        "df.sum().idxmin()  # idxmax(), idxmin() are the indexes of the maximum and minimum returned by Series function"
      ]
    },
    {
      "cell_type": "code",
      "execution_count": null,
      "metadata": {
        "id": "JBttfkoz9ke8"
      },
      "outputs": [],
      "source": []
    },
    {
      "cell_type": "markdown",
      "metadata": {
        "id": "2zkCq3pz9ke8"
      },
      "source": [
        "#### 76. Each element of the DataFrame subtracts the average of each line"
      ]
    },
    {
      "cell_type": "code",
      "execution_count": null,
      "metadata": {
        "id": "_HuVdgu79ke8"
      },
      "outputs": [],
      "source": [
        "df = pd.DataFrame(np.random.random(size=(5, 3)))\n",
        "print(df)\n",
        "df.sub(df.mean(axis=1), axis=0)"
      ]
    },
    {
      "cell_type": "code",
      "execution_count": null,
      "metadata": {
        "id": "24KVlikc9ke8"
      },
      "outputs": [],
      "source": []
    },
    {
      "cell_type": "markdown",
      "metadata": {
        "id": "ABS_bg7w9ke8"
      },
      "source": [
        "#### 77. DataFrame grouping, and get the sum of the biggest three numbers of each group"
      ]
    },
    {
      "cell_type": "code",
      "execution_count": null,
      "metadata": {
        "id": "X3bAl0f29ke8"
      },
      "outputs": [],
      "source": [
        "df = pd.DataFrame({'A': list('aaabbcaabcccbbc'), \n",
        "                   'B': [12,345,3,1,45,14,4,52,54,23,235,21,57,3,87]})\n",
        "print(df)\n",
        "df.groupby('A')['B'].nlargest(3).sum(level=0)"
      ]
    },
    {
      "cell_type": "code",
      "execution_count": null,
      "metadata": {
        "id": "MXIAg-sp9ke8"
      },
      "outputs": [],
      "source": []
    },
    {
      "cell_type": "markdown",
      "metadata": {
        "id": "qWAcQekH9ke8"
      },
      "source": [
        "### Pivot table [Optional]\n",
        "When analyzing large data, in order to better explore the relationships between data features without destroying the original data, you can use the `pivot_table`."
      ]
    },
    {
      "cell_type": "markdown",
      "metadata": {
        "id": "1YC5utnZ9ke8"
      },
      "source": [
        "#### 78. Create pivot table \n",
        "Create a new table to aggregate the `A`, `B` and `C` columns as indexes:"
      ]
    },
    {
      "cell_type": "code",
      "execution_count": null,
      "metadata": {
        "id": "1uhgb1xe9ke8"
      },
      "outputs": [],
      "source": [
        "df = pd.DataFrame({'A' : ['one', 'one', 'two', 'three'] * 3,\n",
        "                'B' : ['A', 'B', 'C'] * 4,\n",
        "                'C' : ['foo', 'foo', 'foo', 'bar', 'bar', 'bar'] * 2,\n",
        "                'D' : np.random.randn(12),\n",
        "                'E' : np.random.randn(12)})\n",
        "\n",
        "print(df)\n",
        "\n",
        "pd.pivot_table(df, index=['A', 'B'])"
      ]
    },
    {
      "cell_type": "code",
      "execution_count": null,
      "metadata": {
        "id": "YdqBLtY89ke8"
      },
      "outputs": [],
      "source": []
    },
    {
      "cell_type": "markdown",
      "metadata": {
        "id": "BMaGJMEy9ke8"
      },
      "source": [
        "#### 79.  Pivot table: Aggregates by specified row\n",
        "Aggregate the `D` column of the DataFrame and aggregate it according to the `A` and `B` columns. The aggregation method is the default one (get the average value):"
      ]
    },
    {
      "cell_type": "code",
      "execution_count": null,
      "metadata": {
        "id": "SDajdqC19ke8"
      },
      "outputs": [],
      "source": [
        "pd.pivot_table(df,values=['D'],index=['A', 'B'])"
      ]
    },
    {
      "cell_type": "code",
      "execution_count": null,
      "metadata": {
        "id": "MPtzxYFx9ke8"
      },
      "outputs": [],
      "source": []
    },
    {
      "cell_type": "markdown",
      "metadata": {
        "id": "6ulEbuA49ke8"
      },
      "source": [
        "#### 80. Pivot table: Aggregation definition\n",
        "In the previous question, when the `D` column is aggregated, the default averaging method is used. If you want to use more methods, you can implement it in `aggfunc`:"
      ]
    },
    {
      "cell_type": "code",
      "execution_count": null,
      "metadata": {
        "id": "vkelzT-T9ke8"
      },
      "outputs": [],
      "source": [
        "pd.pivot_table(df,values=['D'],index=['A', 'B'],aggfunc=[np.sum, len])"
      ]
    },
    {
      "cell_type": "code",
      "execution_count": null,
      "metadata": {
        "id": "4fiYFYbr9ke8"
      },
      "outputs": [],
      "source": []
    },
    {
      "cell_type": "markdown",
      "metadata": {
        "id": "jpFaDaj69ke8"
      },
      "source": [
        "#### 81. Pivot table: Use additional columns for auxiliary segmentation \n",
        "When the `D` column is aggregated according to the `A` and `B` columns, if you care about the effect of the `C` column on the `D` column, you can add the columns\\` values for analysis:"
      ]
    },
    {
      "cell_type": "code",
      "execution_count": null,
      "metadata": {
        "id": "PKz1rF8y9ke8"
      },
      "outputs": [],
      "source": [
        "pd.pivot_table(df,values=['D'],index=['A', 'B'],columns=['C'],aggfunc=np.sum)"
      ]
    },
    {
      "cell_type": "code",
      "execution_count": null,
      "metadata": {
        "id": "no7g6E-Q9ke8"
      },
      "outputs": [],
      "source": []
    },
    {
      "cell_type": "markdown",
      "metadata": {
        "id": "CE9XegUN9ke8"
      },
      "source": [
        "#### 82. Process default value in pivot table\n",
        "In the pivot table, due to different aggregation methods, the corresponding missing combination will be the default value, and you can add `fill_value` to process the default value:"
      ]
    },
    {
      "cell_type": "code",
      "execution_count": null,
      "metadata": {
        "id": "1noo0Slp9ke8"
      },
      "outputs": [],
      "source": [
        "pd.pivot_table(df,values=['D'],index=['A', 'B'],columns=['C'],aggfunc=np.sum,fill_value=0)"
      ]
    },
    {
      "cell_type": "code",
      "execution_count": null,
      "metadata": {
        "id": "wDpSQ8DI9ke8"
      },
      "outputs": [],
      "source": []
    },
    {
      "cell_type": "markdown",
      "metadata": {
        "id": "B9fZTXx39ke8"
      },
      "source": [
        "### Absolute Type [Optional]\n",
        "\n",
        "In the form of the data, it mainly includes the **quantity type** and the **nature type**. The quantity type indicates that the data countable range is _variable_. The nature type representation range has been determined to be _unchangeable_, and the absolute type data is one type of the nature type data."
      ]
    },
    {
      "cell_type": "markdown",
      "metadata": {
        "id": "t_yB6vLf9ke8"
      },
      "source": [
        "#### 83. Define absolute type data"
      ]
    },
    {
      "cell_type": "code",
      "execution_count": null,
      "metadata": {
        "id": "ttY5UmuW9ke8"
      },
      "outputs": [],
      "source": [
        "df = pd.DataFrame({\"id\":[1,2,3,4,5,6], \"raw_grade\":['a', 'b', 'b', 'a', 'a', 'e']})\n",
        "df[\"grade\"] = df[\"raw_grade\"].astype(\"category\")\n",
        "df"
      ]
    },
    {
      "cell_type": "code",
      "execution_count": null,
      "metadata": {
        "id": "wNXFKyvO9ke8"
      },
      "outputs": [],
      "source": []
    },
    {
      "cell_type": "markdown",
      "metadata": {
        "id": "4uDaxtlF9ke8"
      },
      "source": [
        "#### 84. Rename absolute type data "
      ]
    },
    {
      "cell_type": "code",
      "execution_count": null,
      "metadata": {
        "id": "NiMp-2Ue9ke8"
      },
      "outputs": [],
      "source": [
        "df[\"grade\"].cat.categories = [\"very good\", \"good\", \"very bad\"]\n",
        "df"
      ]
    },
    {
      "cell_type": "code",
      "execution_count": null,
      "metadata": {
        "id": "luwefKdS9ke8"
      },
      "outputs": [],
      "source": []
    },
    {
      "cell_type": "markdown",
      "metadata": {
        "id": "P19l1iNF9ke8"
      },
      "source": [
        "#### 85. Re-sort absolute type data and supplement the corresponding default values"
      ]
    },
    {
      "cell_type": "code",
      "execution_count": null,
      "metadata": {
        "id": "1Nt4u-iw9ke8"
      },
      "outputs": [],
      "source": [
        "df[\"grade\"] = df[\"grade\"].cat.set_categories([\"very bad\", \"bad\", \"medium\", \"good\", \"very good\"])\n",
        "df"
      ]
    },
    {
      "cell_type": "code",
      "execution_count": null,
      "metadata": {
        "id": "eqb5WuL89ke8"
      },
      "outputs": [],
      "source": []
    },
    {
      "cell_type": "markdown",
      "metadata": {
        "id": "-uhqIhD09ke8"
      },
      "source": [
        "#### 86. Sort the absolute type data "
      ]
    },
    {
      "cell_type": "code",
      "execution_count": null,
      "metadata": {
        "id": "w7RUGm8s9ke8"
      },
      "outputs": [],
      "source": [
        "df.sort_values(by=\"grade\")"
      ]
    },
    {
      "cell_type": "code",
      "execution_count": null,
      "metadata": {
        "id": "cNRTx0QY9ke8"
      },
      "outputs": [],
      "source": []
    },
    {
      "cell_type": "markdown",
      "metadata": {
        "id": "ADpnU1Li9ke8"
      },
      "source": [
        "#### 87. Group the absolute type data  "
      ]
    },
    {
      "cell_type": "code",
      "execution_count": null,
      "metadata": {
        "id": "nAxHzDHw9ke8"
      },
      "outputs": [],
      "source": [
        "df.groupby(\"grade\").size()"
      ]
    },
    {
      "cell_type": "code",
      "execution_count": null,
      "metadata": {
        "id": "5al11lbq9ke8"
      },
      "outputs": [],
      "source": []
    },
    {
      "cell_type": "markdown",
      "metadata": {
        "id": "jdjcgJes9ke8"
      },
      "source": [
        "### Data Cleaning [Optional]\n",
        "Usually the data we get does not meet the data requirements we ultimately process, including many defaults and bad data, which requires us to clean the data."
      ]
    },
    {
      "cell_type": "markdown",
      "metadata": {
        "id": "AhA2dwwq9ke8"
      },
      "source": [
        "#### 88. Fitting default value  \n",
        "There is a missing value in `FlightNumber`, where the value is incremented by `10`. Add the corresponding default value to make the data complete, and make the data type `int`:"
      ]
    },
    {
      "cell_type": "code",
      "execution_count": null,
      "metadata": {
        "id": "b79qIv_G9ke8"
      },
      "outputs": [],
      "source": [
        "df = pd.DataFrame({'From_To': ['LoNDon_paris', 'MAdrid_miLAN', 'londON_StockhOlm', \n",
        "                               'Budapest_PaRis', 'Brussels_londOn'],\n",
        "              'FlightNumber': [10045, np.nan, 10065, np.nan, 10085],\n",
        "              'RecentDelays': [[23, 47], [], [24, 43, 87], [13], [67, 32]],\n",
        "                   'Airline': ['KLM(!)', '<Air France> (12)', '(British Airways. )', \n",
        "                               '12. Air France', '\"Swiss Air\"']})\n",
        "df['FlightNumber'] = df['FlightNumber'].interpolate().astype(int)\n",
        "df"
      ]
    },
    {
      "cell_type": "code",
      "execution_count": null,
      "metadata": {
        "id": "j92muqvf9kfL"
      },
      "outputs": [],
      "source": []
    },
    {
      "cell_type": "markdown",
      "metadata": {
        "id": "YF_tCX839kfL"
      },
      "source": [
        "#### 89. Split data column  \n",
        "`From_to` should be two separated columns `From` and `To`, and `From_to` will be split into two columns separated by `_` to create a new table:"
      ]
    },
    {
      "cell_type": "code",
      "execution_count": null,
      "metadata": {
        "id": "6zwZf3EU9kfL"
      },
      "outputs": [],
      "source": [
        "temp = df.From_To.str.split('_', expand=True)\n",
        "temp.columns = ['From', 'To']\n",
        "temp"
      ]
    },
    {
      "cell_type": "code",
      "execution_count": null,
      "metadata": {
        "id": "9xqmShNE9kfL"
      },
      "outputs": [],
      "source": []
    },
    {
      "cell_type": "markdown",
      "metadata": {
        "id": "MNoLAS1u9kfL"
      },
      "source": [
        "#### 90. Standardization of characters\n",
        "The names of the locations are not standardized, so the data needs to be standardized. e.g., `londON` should be `London`:"
      ]
    },
    {
      "cell_type": "code",
      "execution_count": null,
      "metadata": {
        "id": "WAaCrSxj9kfL"
      },
      "outputs": [],
      "source": [
        "temp['From'] = temp['From'].str.capitalize()\n",
        "temp['To'] = temp['To'].str.capitalize()"
      ]
    },
    {
      "cell_type": "code",
      "execution_count": null,
      "metadata": {
        "id": "tjH6rv-A9kfL"
      },
      "outputs": [],
      "source": []
    },
    {
      "cell_type": "markdown",
      "metadata": {
        "id": "f1C1qjyx9kfL"
      },
      "source": [
        "#### 91. Delete bad data and add organized data\n",
        "Delete the initial `From_to` column and add the sorted `From` and `To` columns:"
      ]
    },
    {
      "cell_type": "code",
      "execution_count": null,
      "metadata": {
        "scrolled": true,
        "id": "ahHCiQvg9kfL"
      },
      "outputs": [],
      "source": [
        "df = df.drop('From_To', axis=1)\n",
        "df = df.join(temp)\n",
        "print(df)"
      ]
    },
    {
      "cell_type": "code",
      "execution_count": null,
      "metadata": {
        "id": "PfRl-vKn9kfL"
      },
      "outputs": [],
      "source": []
    },
    {
      "cell_type": "markdown",
      "metadata": {
        "id": "lhJcssBC9kfL"
      },
      "source": [
        "#### 92. Remove extra characters\n",
        "As in the `airline` column, many data have many other characters which would have big effects on the later data analysis. These data need to be corrected:"
      ]
    },
    {
      "cell_type": "code",
      "execution_count": null,
      "metadata": {
        "id": "h3I8J7nq9kfL"
      },
      "outputs": [],
      "source": [
        "df['Airline'] = df['Airline'].str.extract('([a-zA-Z\\s]+)', expand=False).str.strip()\n",
        "df"
      ]
    },
    {
      "cell_type": "code",
      "execution_count": null,
      "metadata": {
        "id": "QfXTo8hh9kfL"
      },
      "outputs": [],
      "source": []
    },
    {
      "cell_type": "markdown",
      "metadata": {
        "id": "NyzYgq5I9kfL"
      },
      "source": [
        "#### 93. Format Specification\n",
        "The way of recording in `RecentDelays` is a table type. Due to its different length, this will cause a lot of trouble for later data analysis. Here the table of `RecentDelays` is taken apart and the same position element in the list is taken out as a column. If it is null, replace it with `NaN`:"
      ]
    },
    {
      "cell_type": "code",
      "execution_count": null,
      "metadata": {
        "id": "wNr7pjyS9kfL"
      },
      "outputs": [],
      "source": [
        "delays = df['RecentDelays'].apply(pd.Series)\n",
        "\n",
        "delays.columns = ['delay_{}'.format(n) for n in range(1, len(delays.columns)+1)]\n",
        "\n",
        "df = df.drop('RecentDelays', axis=1).join(delays)\n",
        "df"
      ]
    },
    {
      "cell_type": "code",
      "execution_count": null,
      "metadata": {
        "id": "javP-xvw9kfL"
      },
      "outputs": [],
      "source": []
    },
    {
      "cell_type": "markdown",
      "metadata": {
        "id": "6Z_4yd2T9kfL"
      },
      "source": [
        "### Data Preprocessing [Optional]"
      ]
    },
    {
      "cell_type": "markdown",
      "metadata": {
        "id": "atc9cr5k9kfL"
      },
      "source": [
        "#### 94. Information interval division\n",
        "Here're the Maths scores of some students in the class, as shown below:\n",
        "```python\n",
        "df=pd.DataFrame({'name':['Alice','Bob','Candy','Dany','Ella','Frank','Grace','Jenny'],'grades':[58,83,79,65,93,45,61,88]})\n",
        "```\n",
        "But we are more concerned about whether the students have passed the test. The passing condition is `>60`:"
      ]
    },
    {
      "cell_type": "code",
      "execution_count": null,
      "metadata": {
        "id": "7lZD5NSJ9kfL"
      },
      "outputs": [],
      "source": [
        "df=pd.DataFrame({'name':['Alice','Bob','Candy','Dany','Ella','Frank','Grace','Jenny'],'grades':[58,83,79,65,93,45,61,88]})\n",
        "\n",
        "def choice(x):\n",
        "    if x>60:\n",
        "        return 1\n",
        "    else:\n",
        "        return 0\n",
        "\n",
        "df.grades=pd.Series(map(lambda x:choice(x),df.grades))\n",
        "df"
      ]
    },
    {
      "cell_type": "code",
      "execution_count": null,
      "metadata": {
        "id": "NQDT6FC-9kfL"
      },
      "outputs": [],
      "source": []
    },
    {
      "cell_type": "markdown",
      "metadata": {
        "id": "joWSSY179kfL"
      },
      "source": [
        "#### 95. Remove repeated data \n",
        "Here is a DataFrame data with the column of `A`:\n",
        "```python\n",
        "df = pd.DataFrame({'A': [1, 2, 2, 3, 4, 5, 5, 5, 6, 7, 7]})\n",
        "```\n",
        "How to remove the repeated data?"
      ]
    },
    {
      "cell_type": "code",
      "execution_count": null,
      "metadata": {
        "id": "mHMiKSqm9kfL"
      },
      "outputs": [],
      "source": [
        "df = pd.DataFrame({'A': [1, 2, 2, 3, 4, 5, 5, 5, 6, 7, 7]})\n",
        "df.loc[df['A'].shift() != df['A']]"
      ]
    },
    {
      "cell_type": "code",
      "execution_count": null,
      "metadata": {
        "id": "_71xHeM29kfL"
      },
      "outputs": [],
      "source": []
    },
    {
      "cell_type": "markdown",
      "metadata": {
        "id": "tvZOBYxw9kfL"
      },
      "source": [
        "#### 96. Data normalization\n",
        "\n",
        "Sometimes, the data difference across columns in a DataFrame is too big and the data needs to be normalized.\n",
        "For such cases, **Max-Min normalization** is a simple and common solution. The formula is as follows:\n",
        "\n",
        "$$Y=\\frac{X-X_{min}}{X_{max}-X_{min}}$$"
      ]
    },
    {
      "cell_type": "code",
      "execution_count": null,
      "metadata": {
        "id": "J3OYorpC9kfL"
      },
      "outputs": [],
      "source": [
        "def normalization(df):\n",
        "    numerator=df.sub(df.min())\n",
        "    denominator=(df.max()).sub(df.min())\n",
        "    Y=numerator.div(denominator)\n",
        "    return Y\n",
        "df = pd.DataFrame(np.random.random(size=(5, 3)))\n",
        "print(df)\n",
        "normalization(df)"
      ]
    },
    {
      "cell_type": "code",
      "execution_count": null,
      "metadata": {
        "id": "vRFMv0Ok9kfL"
      },
      "outputs": [],
      "source": []
    },
    {
      "cell_type": "markdown",
      "metadata": {
        "id": "1dvLP-rM9kfL"
      },
      "source": [
        "### Pandas Drawing\n",
        "In order to better understand the information contained in the data, the most intuitive way is to draw it into a graph."
      ]
    },
    {
      "cell_type": "markdown",
      "metadata": {
        "id": "etIFcDNa9kfL"
      },
      "source": [
        "#### 97. `Series` visualization"
      ]
    },
    {
      "cell_type": "code",
      "execution_count": null,
      "metadata": {
        "id": "UhZTjUFh9kfL"
      },
      "outputs": [],
      "source": [
        "%matplotlib inline\n",
        "ts = pd.Series(np.random.randn(100), index=pd.date_range('today', periods=100))\n",
        "ts = ts.cumsum()\n",
        "ts.plot()"
      ]
    },
    {
      "cell_type": "code",
      "execution_count": null,
      "metadata": {
        "id": "Nn6lDQXp9kfL"
      },
      "outputs": [],
      "source": []
    },
    {
      "cell_type": "markdown",
      "metadata": {
        "id": "T5iK6o5F9kfL"
      },
      "source": [
        "#### 98. `DataFrame` line chart"
      ]
    },
    {
      "cell_type": "code",
      "execution_count": null,
      "metadata": {
        "id": "Z9E6-x_s9kfL"
      },
      "outputs": [],
      "source": [
        "df = pd.DataFrame(np.random.randn(100, 4), index=ts.index,\n",
        "                  columns=['A', 'B', 'C', 'D'])\n",
        "df = df.cumsum()\n",
        "df.plot()"
      ]
    },
    {
      "cell_type": "code",
      "execution_count": null,
      "metadata": {
        "id": "ikossKUq9kfL"
      },
      "outputs": [],
      "source": []
    },
    {
      "cell_type": "markdown",
      "metadata": {
        "id": "RSLZSlgA9kfL"
      },
      "source": [
        "#### 99. `DataFrame` scatter plot"
      ]
    },
    {
      "cell_type": "code",
      "execution_count": null,
      "metadata": {
        "id": "Qez8RGvV9kfL"
      },
      "outputs": [],
      "source": [
        "df = pd.DataFrame({\"xs\":[1,5,2,8,1], \"ys\":[4,2,1,9,6]})\n",
        "df = df.cumsum()\n",
        "df.plot.scatter(\"xs\",\"ys\",color='red',marker=\"*\")"
      ]
    },
    {
      "cell_type": "code",
      "execution_count": null,
      "metadata": {
        "id": "G3hsHBXR9kfL"
      },
      "outputs": [],
      "source": []
    },
    {
      "cell_type": "markdown",
      "metadata": {
        "id": "M1r7l5KL9kfL"
      },
      "source": [
        "#### 100. `DataFrame` column chart"
      ]
    },
    {
      "cell_type": "code",
      "execution_count": null,
      "metadata": {
        "id": "7it4-R5Q9kfL"
      },
      "outputs": [],
      "source": [
        "df = pd.DataFrame({\"revenue\":[57,68,63,71,72,90,80,62,59,51,47,52],\n",
        "                   \"advertising\":[2.1,1.9,2.7,3.0,3.6,3.2,2.7,2.4,1.8,1.6,1.3,1.9],\n",
        "                   \"month\":range(12)\n",
        "                  })\n",
        "\n",
        "ax = df.plot.bar(\"month\", \"revenue\", color = \"yellow\")\n",
        "df.plot(\"month\", \"advertising\", secondary_y = True, ax = ax)"
      ]
    },
    {
      "cell_type": "code",
      "execution_count": null,
      "metadata": {
        "id": "fCsdUaVa9kfL"
      },
      "outputs": [],
      "source": []
    },
    {
      "cell_type": "markdown",
      "metadata": {
        "id": "h92BiESJ9kfL"
      },
      "source": [
        "## <a id = \"3\">3. Summary</a>\n",
        "\n",
        "If you have done the above 100 exercises yourself, I believe that you have improved your proficiency in the Pandas module. We recommend that you review these exercises regularly, and you will be more familiar with the module. \n",
        "The main points covered in this experiment are:\n",
        "- Creating `Series`\n",
        "- Basic operations on `Series`\n",
        "- Creating `DataFrame`\n",
        "- Basic operations on `DataFrame`\n",
        "- File-related operations on `DataFrame`\n",
        "- `Series`, `DataFrame` and multiple indexes\n",
        "- Pivot table\n",
        "- Data cleaning\n",
        "- Data preprocessing\n",
        "- Visualization"
      ]
    },
    {
      "cell_type": "markdown",
      "metadata": {
        "id": "DxEccok69kfL"
      },
      "source": [
        "___"
      ]
    },
    {
      "cell_type": "markdown",
      "metadata": {
        "id": "RIvpYq889kfL"
      },
      "source": [
        "<div style=\"color: #999;font-size: 12px;font-style: italic;\">©️ The content is authorized by the author and published by LabEx. Reproduction, downloading and illegal dissemination without permission are prohibited. A small number of exercises in the experiment were compiled from: [100 pandas puzzles](https://github.com/ajcr/100-pandas-puzzles).</div>"
      ]
    }
  ],
  "metadata": {
    "kernelspec": {
      "display_name": "Python 3",
      "language": "python",
      "name": "python3"
    },
    "language_info": {
      "codemirror_mode": {
        "name": "ipython",
        "version": 3
      },
      "file_extension": ".py",
      "mimetype": "text/x-python",
      "name": "python",
      "nbconvert_exporter": "python",
      "pygments_lexer": "ipython3",
      "version": "3.7.6"
    },
    "colab": {
      "provenance": []
    }
  },
  "nbformat": 4,
  "nbformat_minor": 0
}