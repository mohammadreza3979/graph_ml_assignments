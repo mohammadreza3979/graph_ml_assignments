{
  "cells": [
    {
      "metadata": {
        "id": "MeZFfzXxE3KD"
      },
      "cell_type": "markdown",
      "source": [
        "# <font color='brown'>100 NumPy Exercises</font>"
      ]
    },
    {
      "metadata": {
        "id": "6iOsS8JzE3KK"
      },
      "cell_type": "markdown",
      "source": [
        "## Introduction"
      ]
    },
    {
      "metadata": {
        "id": "GXQTnwagE3KL"
      },
      "cell_type": "markdown",
      "source": [
        "![numpylogo.png](attachment:numpylogo.png)\n",
        "\n",
        "**NumPy** is an extension library for Python language, supporting operations of a large number of high-dimensional arrays and matrices. In addition, it also provides a large number of mathematical function libraries for array operations. Machine learning involves a lot of transformations and operations on arrays, which makes NumPy one of the essential tools.\n",
        "\n",
        "**100 NumPy Exercises** is divided into _basic part_ and _advanced part_, each with 50 exercises. The basic part of the exercise helps you familiarize yourself with the use of NumPy's common methods and the advanced part focuses on the combined application of the NumPy methods.\n",
        "\n",
        "If you already have a foundation for NumPy before you take the course, you can review it in the following cells. If you are unfamiliar with NumPy, make sure you **manually** practice in the blank cells below each example cell."
      ]
    },
    {
      "metadata": {
        "id": "rU-_16VKE3KM"
      },
      "cell_type": "markdown",
      "source": [
        "### Knowledge Points\n",
        "\n",
        "The main points covered in this experiment are:\n",
        "- Creating an array\n",
        "- Array operation\n",
        "- Mathematical functions\n",
        "- Array slices and indexes\n",
        "- Array shape operations\n",
        "- Array sorting\n",
        "- Array statistics"
      ]
    },
    {
      "metadata": {
        "id": "r7SAVCLHE3KN"
      },
      "cell_type": "markdown",
      "source": [
        "### Environment\n",
        "\n",
        "- Python 3.6\n",
        "- NumPy 1.14.2"
      ]
    },
    {
      "metadata": {
        "id": "4radi6BrE3KO"
      },
      "cell_type": "markdown",
      "source": [
        "### Catalog Index\n",
        "\n",
        "- <a href=\"#1\">1. Basic Part</a>\n",
        "- <a href=\"#2\">2. Advanced Part</a>\n",
        "- <a href=\"#3\">3. Summary</a>"
      ]
    },
    {
      "metadata": {
        "id": "nIZDzpZnE3KO"
      },
      "cell_type": "markdown",
      "source": [
        "---"
      ]
    },
    {
      "metadata": {
        "id": "tFrUmFfqE3KP"
      },
      "cell_type": "markdown",
      "source": [
        "## <a id = \"1\">1. Basic Part</a>"
      ]
    },
    {
      "metadata": {
        "id": "Wjho5lkBE3KP"
      },
      "cell_type": "markdown",
      "source": [
        "### Import NumPy"
      ]
    },
    {
      "metadata": {
        "id": "iKf3y2c1E3KQ"
      },
      "cell_type": "markdown",
      "source": [
        "#### 1. Import NumPy\n",
        "Before practicing **NumPy**, first you need to import the `numpy` module, and the convention is abbreviated as `np`:"
      ]
    },
    {
      "metadata": {
        "trusted": true,
        "id": "xFxOHw5KE3KR"
      },
      "cell_type": "code",
      "source": [
        "import numpy as np"
      ],
      "execution_count": null,
      "outputs": []
    },
    {
      "metadata": {
        "trusted": true,
        "id": "eCU-4TDFE3KS"
      },
      "cell_type": "code",
      "source": [
        "\n",
        "import numpy as np"
      ],
      "execution_count": 1,
      "outputs": []
    },
    {
      "metadata": {
        "id": "sfKQzFU9E3KT"
      },
      "cell_type": "markdown",
      "source": [
        "#### 2. View NumPy version  "
      ]
    },
    {
      "metadata": {
        "trusted": true,
        "id": "Vg8OnyZOE3KT"
      },
      "cell_type": "code",
      "source": [
        "print(np.__version__)"
      ],
      "execution_count": null,
      "outputs": []
    },
    {
      "metadata": {
        "trusted": true,
        "id": "D-bm5wTbE3KU",
        "outputId": "21f406e2-c276-4fc7-8125-3f6f1dceda08",
        "colab": {
          "base_uri": "https://localhost:8080/"
        }
      },
      "cell_type": "code",
      "source": [
        "print(np.__version__)"
      ],
      "execution_count": 2,
      "outputs": [
        {
          "output_type": "stream",
          "name": "stdout",
          "text": [
            "1.22.4\n"
          ]
        }
      ]
    },
    {
      "metadata": {
        "id": "vX5uMoZJE3KU"
      },
      "cell_type": "markdown",
      "source": [
        "### Create an Array"
      ]
    },
    {
      "metadata": {
        "id": "WbIVT_MeE3KU"
      },
      "cell_type": "markdown",
      "source": [
        "The main object of **NumPy** is the multidimensional array `ndarray`. In NumPy, `dimensions` are called `axes`, and the number of axes is called `rank`.\n",
        "\n",
        "For example, the array below is an array of rank 1, because it has only one axis and the length of the axis is 3:\n",
        "```\n",
        "[1, 2, 3]\n",
        "```\n",
        "\n",
        "For another example, the rank of this array is 2. The first dimension length is 2 and the second dimension length is 3:\n",
        "\n",
        "```\n",
        "[[1., 2., 3.],\n",
        " [4., 5., 6.]]\n",
        "```"
      ]
    },
    {
      "metadata": {
        "id": "96wXwGBzE3KV"
      },
      "cell_type": "markdown",
      "source": [
        "#### 3. Create a one-dimensional array from a list\n",
        "\n",
        "**Note:** `numpy.array` is not the same as the Python standard library `array.array`. The former is more powerful, which is one of the important reasons why we learn `Numpy`:"
      ]
    },
    {
      "metadata": {
        "trusted": true,
        "id": "bvMClht-E3KV"
      },
      "cell_type": "code",
      "source": [
        "np.array([1,2,3])"
      ],
      "execution_count": null,
      "outputs": []
    },
    {
      "metadata": {
        "trusted": true,
        "id": "CauglGnbE3KW",
        "outputId": "c7799535-ff41-448a-b33f-aa819aa338c5",
        "colab": {
          "base_uri": "https://localhost:8080/"
        }
      },
      "cell_type": "code",
      "source": [
        "np.array([1,2,3])"
      ],
      "execution_count": 3,
      "outputs": [
        {
          "output_type": "execute_result",
          "data": {
            "text/plain": [
              "array([1, 2, 3])"
            ]
          },
          "metadata": {},
          "execution_count": 3
        }
      ]
    },
    {
      "metadata": {
        "id": "owA_dlRQE3KW"
      },
      "cell_type": "markdown",
      "source": [
        "#### 4. Create a two-dimensional array from a list"
      ]
    },
    {
      "metadata": {
        "trusted": true,
        "id": "l2t2M94PE3KW"
      },
      "cell_type": "code",
      "source": [
        "np.array([(1,2,3),(4,5,6)])"
      ],
      "execution_count": null,
      "outputs": []
    },
    {
      "metadata": {
        "trusted": true,
        "id": "DOjphjJyE3KX",
        "outputId": "0ef0b774-1366-46c7-ae73-082598dbca62",
        "colab": {
          "base_uri": "https://localhost:8080/"
        }
      },
      "cell_type": "code",
      "source": [
        "np.array([(1,2,3),(4,5,6)])"
      ],
      "execution_count": 4,
      "outputs": [
        {
          "output_type": "execute_result",
          "data": {
            "text/plain": [
              "array([[1, 2, 3],\n",
              "       [4, 5, 6]])"
            ]
          },
          "metadata": {},
          "execution_count": 4
        }
      ]
    },
    {
      "metadata": {
        "id": "PlsMsbJAE3KY"
      },
      "cell_type": "markdown",
      "source": [
        "#### 5. Create a two-dimensional array full of `0`"
      ]
    },
    {
      "metadata": {
        "trusted": true,
        "id": "apxuy2MhE3KY"
      },
      "cell_type": "code",
      "source": [
        "np.zeros((3,3))"
      ],
      "execution_count": null,
      "outputs": []
    },
    {
      "metadata": {
        "trusted": true,
        "id": "skNWj9ivE3KY",
        "outputId": "bc4a18da-2211-485e-ff4a-5e6a5551c377",
        "colab": {
          "base_uri": "https://localhost:8080/"
        }
      },
      "cell_type": "code",
      "source": [
        "np.zeros((3,3))"
      ],
      "execution_count": 5,
      "outputs": [
        {
          "output_type": "execute_result",
          "data": {
            "text/plain": [
              "array([[0., 0., 0.],\n",
              "       [0., 0., 0.],\n",
              "       [0., 0., 0.]])"
            ]
          },
          "metadata": {},
          "execution_count": 5
        }
      ]
    },
    {
      "metadata": {
        "id": "vn80FP7rE3KY"
      },
      "cell_type": "markdown",
      "source": [
        "#### 6. Create a three-dimensional array full of `1`"
      ]
    },
    {
      "metadata": {
        "trusted": true,
        "id": "0dKMlKOHE3KZ"
      },
      "cell_type": "code",
      "source": [
        "np.ones((2,3,4))"
      ],
      "execution_count": null,
      "outputs": []
    },
    {
      "metadata": {
        "trusted": true,
        "id": "kC4_eGqkE3KZ",
        "outputId": "0429197f-70e1-4f42-f759-24816a487e6c",
        "colab": {
          "base_uri": "https://localhost:8080/"
        }
      },
      "cell_type": "code",
      "source": [
        "np.ones((2,3,4))"
      ],
      "execution_count": 6,
      "outputs": [
        {
          "output_type": "execute_result",
          "data": {
            "text/plain": [
              "array([[[1., 1., 1., 1.],\n",
              "        [1., 1., 1., 1.],\n",
              "        [1., 1., 1., 1.]],\n",
              "\n",
              "       [[1., 1., 1., 1.],\n",
              "        [1., 1., 1., 1.],\n",
              "        [1., 1., 1., 1.]]])"
            ]
          },
          "metadata": {},
          "execution_count": 6
        }
      ]
    },
    {
      "metadata": {
        "id": "g_SFyZ3aE3KZ"
      },
      "cell_type": "markdown",
      "source": [
        "Note: Please think about the dimensional relationships of the above 4 arrays."
      ]
    },
    {
      "metadata": {
        "id": "lPQQ56eSE3Ka"
      },
      "cell_type": "markdown",
      "source": [
        "#### 7. Create a one-dimensional arithmetic progression array"
      ]
    },
    {
      "metadata": {
        "scrolled": true,
        "trusted": true,
        "id": "iOXsaJWUE3Ka"
      },
      "cell_type": "code",
      "source": [
        "np.arange(5)"
      ],
      "execution_count": null,
      "outputs": []
    },
    {
      "metadata": {
        "trusted": true,
        "id": "du9Nlq8JE3Ka",
        "outputId": "e4492128-ac67-466d-c8ea-7f388a184d0d",
        "colab": {
          "base_uri": "https://localhost:8080/"
        }
      },
      "cell_type": "code",
      "source": [
        "np.arange(5)"
      ],
      "execution_count": 7,
      "outputs": [
        {
          "output_type": "execute_result",
          "data": {
            "text/plain": [
              "array([0, 1, 2, 3, 4])"
            ]
          },
          "metadata": {},
          "execution_count": 7
        }
      ]
    },
    {
      "metadata": {
        "id": "GBictjhmE3Kb"
      },
      "cell_type": "markdown",
      "source": [
        "#### 8. Create a two-Dimensional arithmetic progression array"
      ]
    },
    {
      "metadata": {
        "scrolled": true,
        "trusted": true,
        "id": "6ZbtyT22E3Kb"
      },
      "cell_type": "code",
      "source": [
        "np.arange(6).reshape(2,3)"
      ],
      "execution_count": null,
      "outputs": []
    },
    {
      "metadata": {
        "trusted": true,
        "id": "IbPjSY-aE3Kb",
        "outputId": "441fd0c5-f6ad-4e22-e4a4-86532eb2e624",
        "colab": {
          "base_uri": "https://localhost:8080/"
        }
      },
      "cell_type": "code",
      "source": [
        "np.arange(6).reshape(2,3)"
      ],
      "execution_count": 8,
      "outputs": [
        {
          "output_type": "execute_result",
          "data": {
            "text/plain": [
              "array([[0, 1, 2],\n",
              "       [3, 4, 5]])"
            ]
          },
          "metadata": {},
          "execution_count": 8
        }
      ]
    },
    {
      "metadata": {
        "id": "8dbhmzW8E3Kc"
      },
      "cell_type": "markdown",
      "source": [
        "#### 9. Create a unit matrix (two-dimensional array)"
      ]
    },
    {
      "metadata": {
        "scrolled": true,
        "trusted": true,
        "id": "f3jWdfDAE3Kc"
      },
      "cell_type": "code",
      "source": [
        "np.eye(3)"
      ],
      "execution_count": null,
      "outputs": []
    },
    {
      "metadata": {
        "trusted": true,
        "id": "0CmahB_0E3Kd",
        "outputId": "5effe743-4bc1-49a1-89d9-d38c2a2de7b2",
        "colab": {
          "base_uri": "https://localhost:8080/"
        }
      },
      "cell_type": "code",
      "source": [
        "np.eye(3)"
      ],
      "execution_count": 9,
      "outputs": [
        {
          "output_type": "execute_result",
          "data": {
            "text/plain": [
              "array([[1., 0., 0.],\n",
              "       [0., 1., 0.],\n",
              "       [0., 0., 1.]])"
            ]
          },
          "metadata": {},
          "execution_count": 9
        }
      ]
    },
    {
      "metadata": {
        "id": "JOn5U4ebE3Kd"
      },
      "cell_type": "markdown",
      "source": [
        "#### 10. Create equally spaced one-dimensional array"
      ]
    },
    {
      "metadata": {
        "trusted": true,
        "id": "U6T5AXc0E3Kd"
      },
      "cell_type": "code",
      "source": [
        "np.linspace(1, 10, num=6)"
      ],
      "execution_count": null,
      "outputs": []
    },
    {
      "metadata": {
        "trusted": true,
        "id": "sVitbdjKE3Ke",
        "outputId": "9edfab12-df27-4aa1-e444-462f2c576458",
        "colab": {
          "base_uri": "https://localhost:8080/"
        }
      },
      "cell_type": "code",
      "source": [
        "np.linspace(1, 10, num=6)"
      ],
      "execution_count": 10,
      "outputs": [
        {
          "output_type": "execute_result",
          "data": {
            "text/plain": [
              "array([ 1. ,  2.8,  4.6,  6.4,  8.2, 10. ])"
            ]
          },
          "metadata": {},
          "execution_count": 10
        }
      ]
    },
    {
      "metadata": {
        "id": "26o0aZWnE3Ke"
      },
      "cell_type": "markdown",
      "source": [
        "#### 11. Create two-dimensional random array "
      ]
    },
    {
      "metadata": {
        "scrolled": true,
        "trusted": true,
        "id": "nujZJ5sDE3Ke"
      },
      "cell_type": "code",
      "source": [
        "np.random.rand(2,3)"
      ],
      "execution_count": null,
      "outputs": []
    },
    {
      "metadata": {
        "trusted": true,
        "id": "k-nV8UacE3Ke",
        "outputId": "25c55415-6486-4862-e9a4-90a93b626714",
        "colab": {
          "base_uri": "https://localhost:8080/"
        }
      },
      "cell_type": "code",
      "source": [
        "np.random.rand(2,3)"
      ],
      "execution_count": 11,
      "outputs": [
        {
          "output_type": "execute_result",
          "data": {
            "text/plain": [
              "array([[0.29994737, 0.05586861, 0.00665447],\n",
              "       [0.91388502, 0.72045488, 0.95604927]])"
            ]
          },
          "metadata": {},
          "execution_count": 11
        }
      ]
    },
    {
      "metadata": {
        "id": "3bW3WcHjE3Kf"
      },
      "cell_type": "markdown",
      "source": [
        "#### 12. Create two-dimensional random integer array (value < 5)"
      ]
    },
    {
      "metadata": {
        "scrolled": true,
        "trusted": true,
        "id": "ftpdhpjyE3Kf"
      },
      "cell_type": "code",
      "source": [
        "np.random.randint(5, size=(2,3))"
      ],
      "execution_count": null,
      "outputs": []
    },
    {
      "metadata": {
        "trusted": true,
        "id": "MLq7WilYE3Kf",
        "outputId": "90571958-aed8-474a-f5e5-b9a62b0fbc93",
        "colab": {
          "base_uri": "https://localhost:8080/"
        }
      },
      "cell_type": "code",
      "source": [
        "np.random.randint(5, size=(2,3))"
      ],
      "execution_count": 12,
      "outputs": [
        {
          "output_type": "execute_result",
          "data": {
            "text/plain": [
              "array([[4, 0, 2],\n",
              "       [3, 3, 2]])"
            ]
          },
          "metadata": {},
          "execution_count": 12
        }
      ]
    },
    {
      "metadata": {
        "id": "fxnU2iStE3Kf"
      },
      "cell_type": "markdown",
      "source": [
        "#### 13. Create an array based on a custom function"
      ]
    },
    {
      "metadata": {
        "trusted": true,
        "id": "y1JLqo5NE3Kg"
      },
      "cell_type": "code",
      "source": [
        "np.fromfunction(lambda i, j: i + j, (3, 3))"
      ],
      "execution_count": null,
      "outputs": []
    },
    {
      "metadata": {
        "trusted": true,
        "id": "tddCsFZDE3Kg",
        "outputId": "e78680a3-de31-4796-b884-afead764f295",
        "colab": {
          "base_uri": "https://localhost:8080/"
        }
      },
      "cell_type": "code",
      "source": [
        "np.fromfunction(lambda i, j: i + j, (3, 3))"
      ],
      "execution_count": 13,
      "outputs": [
        {
          "output_type": "execute_result",
          "data": {
            "text/plain": [
              "array([[0., 1., 2.],\n",
              "       [1., 2., 3.],\n",
              "       [2., 3., 4.]])"
            ]
          },
          "metadata": {},
          "execution_count": 13
        }
      ]
    },
    {
      "metadata": {
        "id": "O9CqiWRwE3Kg"
      },
      "cell_type": "markdown",
      "source": [
        "### Array Operations"
      ]
    },
    {
      "metadata": {
        "id": "sm_PWH09E3Kg"
      },
      "cell_type": "markdown",
      "source": [
        "#### Generate a one-dimensional example array"
      ]
    },
    {
      "metadata": {
        "trusted": true,
        "id": "4jjFGnirE3Kh"
      },
      "cell_type": "code",
      "source": [
        "a = np.array([10,20,30,40,50])\n",
        "b = np.arange(1,6)\n",
        "a,b"
      ],
      "execution_count": null,
      "outputs": []
    },
    {
      "metadata": {
        "trusted": true,
        "id": "1tqLq3BvE3Kh",
        "outputId": "12a1d3ec-5485-4e39-ab78-11d53cedeb7a",
        "colab": {
          "base_uri": "https://localhost:8080/"
        }
      },
      "cell_type": "code",
      "source": [
        "a = np.array([10,20,30,40,50])\n",
        "b = np.arange(1,6)\n",
        "a,b"
      ],
      "execution_count": 14,
      "outputs": [
        {
          "output_type": "execute_result",
          "data": {
            "text/plain": [
              "(array([10, 20, 30, 40, 50]), array([1, 2, 3, 4, 5]))"
            ]
          },
          "metadata": {},
          "execution_count": 14
        }
      ]
    },
    {
      "metadata": {
        "id": "OM-usGP-E3Kh"
      },
      "cell_type": "markdown",
      "source": [
        "#### 14. One-dimensional array addition\n"
      ]
    },
    {
      "metadata": {
        "scrolled": true,
        "trusted": true,
        "id": "I8Of42CRE3Kh"
      },
      "cell_type": "code",
      "source": [
        "a + b"
      ],
      "execution_count": null,
      "outputs": []
    },
    {
      "metadata": {
        "trusted": true,
        "id": "6dN2vkRIE3Ki",
        "outputId": "c2e44d6a-4e5d-4985-f5ae-4c3056c90d03",
        "colab": {
          "base_uri": "https://localhost:8080/"
        }
      },
      "cell_type": "code",
      "source": [
        "a + b"
      ],
      "execution_count": 15,
      "outputs": [
        {
          "output_type": "execute_result",
          "data": {
            "text/plain": [
              "array([11, 22, 33, 44, 55])"
            ]
          },
          "metadata": {},
          "execution_count": 15
        }
      ]
    },
    {
      "metadata": {
        "id": "6puC8zcqE3Ki"
      },
      "cell_type": "markdown",
      "source": [
        "#### 15. One-dimensional array subtraction"
      ]
    },
    {
      "metadata": {
        "trusted": true,
        "id": "aOCSYQ-IE3Ki"
      },
      "cell_type": "code",
      "source": [
        "a - b"
      ],
      "execution_count": null,
      "outputs": []
    },
    {
      "metadata": {
        "trusted": true,
        "id": "UQW9NXOFE3Ki",
        "outputId": "54199d20-f98e-46bd-c2fd-a383564ab784",
        "colab": {
          "base_uri": "https://localhost:8080/"
        }
      },
      "cell_type": "code",
      "source": [
        "a - b"
      ],
      "execution_count": 16,
      "outputs": [
        {
          "output_type": "execute_result",
          "data": {
            "text/plain": [
              "array([ 9, 18, 27, 36, 45])"
            ]
          },
          "metadata": {},
          "execution_count": 16
        }
      ]
    },
    {
      "metadata": {
        "id": "reIUZm2sE3Kj"
      },
      "cell_type": "markdown",
      "source": [
        "#### 16. One-dimensional array multiplication"
      ]
    },
    {
      "metadata": {
        "trusted": true,
        "id": "ASPaBHiaE3Kj"
      },
      "cell_type": "code",
      "source": [
        "a * b"
      ],
      "execution_count": null,
      "outputs": []
    },
    {
      "metadata": {
        "trusted": true,
        "id": "2LF9OR0mE3Kj",
        "outputId": "b710cb88-cb8e-4539-ef5c-3911d3bff4d5",
        "colab": {
          "base_uri": "https://localhost:8080/"
        }
      },
      "cell_type": "code",
      "source": [
        "a * b"
      ],
      "execution_count": 17,
      "outputs": [
        {
          "output_type": "execute_result",
          "data": {
            "text/plain": [
              "array([ 10,  40,  90, 160, 250])"
            ]
          },
          "metadata": {},
          "execution_count": 17
        }
      ]
    },
    {
      "metadata": {
        "id": "tM8k0Lc1E3Kj"
      },
      "cell_type": "markdown",
      "source": [
        "#### 17. One-dimensional array division"
      ]
    },
    {
      "metadata": {
        "scrolled": false,
        "trusted": true,
        "id": "nqDM1kqeE3Kk"
      },
      "cell_type": "code",
      "source": [
        "a / b"
      ],
      "execution_count": null,
      "outputs": []
    },
    {
      "metadata": {
        "trusted": true,
        "id": "b3sASDGfE3Kk",
        "outputId": "a0f2b5cd-1d01-437c-df61-8273cce73f6d",
        "colab": {
          "base_uri": "https://localhost:8080/"
        }
      },
      "cell_type": "code",
      "source": [
        "a / b"
      ],
      "execution_count": 18,
      "outputs": [
        {
          "output_type": "execute_result",
          "data": {
            "text/plain": [
              "array([10., 10., 10., 10., 10.])"
            ]
          },
          "metadata": {},
          "execution_count": 18
        }
      ]
    },
    {
      "metadata": {
        "id": "zXTC1hbdE3Kk"
      },
      "cell_type": "markdown",
      "source": [
        "#### Generate a two-dimensional example array (can be seen as a matrix)"
      ]
    },
    {
      "metadata": {
        "trusted": true,
        "id": "yV3JqC5NE3Kk"
      },
      "cell_type": "code",
      "source": [
        "A = np.array([[1,2],\n",
        "           [3,4]])\n",
        "B = np.array([[5,6],\n",
        "           [7,8]])\n",
        "A, B"
      ],
      "execution_count": null,
      "outputs": []
    },
    {
      "metadata": {
        "trusted": true,
        "id": "f9lXEWfVE3Kl",
        "outputId": "d0015abf-cbb0-41b9-aa0a-b91c8e6e2610",
        "colab": {
          "base_uri": "https://localhost:8080/"
        }
      },
      "cell_type": "code",
      "source": [
        "A = np.array([[1,2],\n",
        "           [3,4]])\n",
        "B = np.array([[5,6],\n",
        "           [7,8]])\n",
        "A, B"
      ],
      "execution_count": 19,
      "outputs": [
        {
          "output_type": "execute_result",
          "data": {
            "text/plain": [
              "(array([[1, 2],\n",
              "        [3, 4]]),\n",
              " array([[5, 6],\n",
              "        [7, 8]]))"
            ]
          },
          "metadata": {},
          "execution_count": 19
        }
      ]
    },
    {
      "metadata": {
        "id": "QrqINnIRE3Kl"
      },
      "cell_type": "markdown",
      "source": [
        "#### 18. Matrix addition"
      ]
    },
    {
      "metadata": {
        "scrolled": true,
        "trusted": true,
        "id": "22FUAafXE3Kl"
      },
      "cell_type": "code",
      "source": [
        "A + B"
      ],
      "execution_count": null,
      "outputs": []
    },
    {
      "metadata": {
        "trusted": true,
        "id": "Z59ldIXyE3Km",
        "outputId": "c2155a9b-9e9c-4e25-fbe7-ef3858eb5091",
        "colab": {
          "base_uri": "https://localhost:8080/"
        }
      },
      "cell_type": "code",
      "source": [
        "A + B"
      ],
      "execution_count": 20,
      "outputs": [
        {
          "output_type": "execute_result",
          "data": {
            "text/plain": [
              "array([[ 6,  8],\n",
              "       [10, 12]])"
            ]
          },
          "metadata": {},
          "execution_count": 20
        }
      ]
    },
    {
      "metadata": {
        "id": "Bi7cY67XE3Km"
      },
      "cell_type": "markdown",
      "source": [
        "#### 19. Matrix subtraction"
      ]
    },
    {
      "metadata": {
        "scrolled": true,
        "trusted": true,
        "id": "C1uBjX2sE3Ko"
      },
      "cell_type": "code",
      "source": [
        "A - B"
      ],
      "execution_count": null,
      "outputs": []
    },
    {
      "metadata": {
        "trusted": true,
        "id": "B6m7Hph3E3Ko",
        "outputId": "bb3ac1a1-33ed-4c52-e0c5-c5800600767a",
        "colab": {
          "base_uri": "https://localhost:8080/"
        }
      },
      "cell_type": "code",
      "source": [
        "A - B"
      ],
      "execution_count": 21,
      "outputs": [
        {
          "output_type": "execute_result",
          "data": {
            "text/plain": [
              "array([[-4, -4],\n",
              "       [-4, -4]])"
            ]
          },
          "metadata": {},
          "execution_count": 21
        }
      ]
    },
    {
      "metadata": {
        "id": "uMeMLlt1E3Ko"
      },
      "cell_type": "markdown",
      "source": [
        "#### 20. Multiplication between matrix elements"
      ]
    },
    {
      "metadata": {
        "scrolled": true,
        "trusted": true,
        "id": "rE0gvqrJE3Kp"
      },
      "cell_type": "code",
      "source": [
        "A * B"
      ],
      "execution_count": null,
      "outputs": []
    },
    {
      "metadata": {
        "trusted": true,
        "id": "gmcntmWpE3Kp",
        "outputId": "35122d2c-ed7e-4004-e831-a8500a653299",
        "colab": {
          "base_uri": "https://localhost:8080/"
        }
      },
      "cell_type": "code",
      "source": [
        "A * B"
      ],
      "execution_count": 22,
      "outputs": [
        {
          "output_type": "execute_result",
          "data": {
            "text/plain": [
              "array([[ 5, 12],\n",
              "       [21, 32]])"
            ]
          },
          "metadata": {},
          "execution_count": 22
        }
      ]
    },
    {
      "metadata": {
        "id": "0VTFepkCE3Kp"
      },
      "cell_type": "markdown",
      "source": [
        "#### 21. Matrix multiplication (Note the difference between 21 and 20)"
      ]
    },
    {
      "metadata": {
        "trusted": true,
        "id": "b2PAZtQ_E3Kp"
      },
      "cell_type": "code",
      "source": [
        "np.dot(A, B)"
      ],
      "execution_count": null,
      "outputs": []
    },
    {
      "metadata": {
        "trusted": true,
        "id": "Hcy1bq5vE3Kq",
        "outputId": "096ba950-1985-4c36-c0ee-8b2d9199ab87",
        "colab": {
          "base_uri": "https://localhost:8080/"
        }
      },
      "cell_type": "code",
      "source": [
        "np.dot(A, B)"
      ],
      "execution_count": 23,
      "outputs": [
        {
          "output_type": "execute_result",
          "data": {
            "text/plain": [
              "array([[19, 22],\n",
              "       [43, 50]])"
            ]
          },
          "metadata": {},
          "execution_count": 23
        }
      ]
    },
    {
      "metadata": {
        "trusted": true,
        "id": "viydvUoDE3Kq"
      },
      "cell_type": "code",
      "source": [
        "# If you use np.mat to accurately define a two-dimensional array as a matrix, you can use * to complete the matrix multiplication.\n",
        "np.mat(A) * np.mat(B)"
      ],
      "execution_count": null,
      "outputs": []
    },
    {
      "metadata": {
        "trusted": true,
        "id": "EWX8zwzZE3Kq",
        "outputId": "36cebfe7-baca-452e-bd58-3db662a99111",
        "colab": {
          "base_uri": "https://localhost:8080/"
        }
      },
      "cell_type": "code",
      "source": [
        "np.mat(A) * np.mat(B)"
      ],
      "execution_count": 24,
      "outputs": [
        {
          "output_type": "execute_result",
          "data": {
            "text/plain": [
              "matrix([[19, 22],\n",
              "        [43, 50]])"
            ]
          },
          "metadata": {},
          "execution_count": 24
        }
      ]
    },
    {
      "metadata": {
        "id": "C0oz-dVuE3Kq"
      },
      "cell_type": "markdown",
      "source": [
        "#### 22. Multiplication between matrix and number"
      ]
    },
    {
      "metadata": {
        "trusted": true,
        "id": "YNTHKZeCE3Kr"
      },
      "cell_type": "code",
      "source": [
        "2 * A"
      ],
      "execution_count": null,
      "outputs": []
    },
    {
      "metadata": {
        "trusted": true,
        "id": "SkVsOzUeE3Kr",
        "outputId": "ea3a4b53-ed46-4fb4-d422-a1b5e5777830",
        "colab": {
          "base_uri": "https://localhost:8080/"
        }
      },
      "cell_type": "code",
      "source": [
        "2*A"
      ],
      "execution_count": 25,
      "outputs": [
        {
          "output_type": "execute_result",
          "data": {
            "text/plain": [
              "array([[2, 4],\n",
              "       [6, 8]])"
            ]
          },
          "metadata": {},
          "execution_count": 25
        }
      ]
    },
    {
      "metadata": {
        "id": "Gu-SuT81E3Kr"
      },
      "cell_type": "markdown",
      "source": [
        "#### 23. Transpose of matrix"
      ]
    },
    {
      "metadata": {
        "trusted": true,
        "id": "Xc5252lAE3Ks"
      },
      "cell_type": "code",
      "source": [
        "A.T"
      ],
      "execution_count": null,
      "outputs": []
    },
    {
      "metadata": {
        "trusted": true,
        "id": "Ojra4jyME3Ks",
        "outputId": "6dd38597-5925-4b81-fb99-0594dfafd999",
        "colab": {
          "base_uri": "https://localhost:8080/"
        }
      },
      "cell_type": "code",
      "source": [
        "A.T"
      ],
      "execution_count": 26,
      "outputs": [
        {
          "output_type": "execute_result",
          "data": {
            "text/plain": [
              "array([[1, 3],\n",
              "       [2, 4]])"
            ]
          },
          "metadata": {},
          "execution_count": 26
        }
      ]
    },
    {
      "metadata": {
        "id": "5h0BigGqE3Ks"
      },
      "cell_type": "markdown",
      "source": [
        "#### 24. Matrix inversion"
      ]
    },
    {
      "metadata": {
        "trusted": true,
        "id": "PfL1fjoAE3Ks"
      },
      "cell_type": "code",
      "source": [
        "np.linalg.inv(A)"
      ],
      "execution_count": null,
      "outputs": []
    },
    {
      "metadata": {
        "trusted": true,
        "id": "1Llph8VbE3Ks",
        "outputId": "38f842e6-5b71-4e81-a4b5-241e206107ec",
        "colab": {
          "base_uri": "https://localhost:8080/"
        }
      },
      "cell_type": "code",
      "source": [
        "np.linalg.inv(A)"
      ],
      "execution_count": 27,
      "outputs": [
        {
          "output_type": "execute_result",
          "data": {
            "text/plain": [
              "array([[-2. ,  1. ],\n",
              "       [ 1.5, -0.5]])"
            ]
          },
          "metadata": {},
          "execution_count": 27
        }
      ]
    },
    {
      "metadata": {
        "id": "sh5ZjGLQE3Kt"
      },
      "cell_type": "markdown",
      "source": [
        "### Mathematical Functions"
      ]
    },
    {
      "metadata": {
        "id": "pCuSg0I5E3Kt"
      },
      "cell_type": "markdown",
      "source": [
        "#### 25. Trigonometric functions"
      ]
    },
    {
      "metadata": {
        "trusted": true,
        "id": "0wxCRh2zE3Kt"
      },
      "cell_type": "code",
      "source": [
        "print(a)\n",
        "\n",
        "np.sin(a)"
      ],
      "execution_count": null,
      "outputs": []
    },
    {
      "metadata": {
        "trusted": true,
        "id": "LU6z6MhGE3Kt",
        "outputId": "7d31166a-d230-400c-b968-b602abd25933",
        "colab": {
          "base_uri": "https://localhost:8080/"
        }
      },
      "cell_type": "code",
      "source": [
        "print(a)\n",
        "\n",
        "np.sin(a)"
      ],
      "execution_count": 28,
      "outputs": [
        {
          "output_type": "stream",
          "name": "stdout",
          "text": [
            "[10 20 30 40 50]\n"
          ]
        },
        {
          "output_type": "execute_result",
          "data": {
            "text/plain": [
              "array([-0.54402111,  0.91294525, -0.98803162,  0.74511316, -0.26237485])"
            ]
          },
          "metadata": {},
          "execution_count": 28
        }
      ]
    },
    {
      "metadata": {
        "id": "RmsIw3waE3Ku"
      },
      "cell_type": "markdown",
      "source": [
        "#### 26. Exponential function based on natural logarithm function"
      ]
    },
    {
      "metadata": {
        "trusted": true,
        "id": "YZraAXFwE3Ku"
      },
      "cell_type": "code",
      "source": [
        "np.exp(a)"
      ],
      "execution_count": null,
      "outputs": []
    },
    {
      "metadata": {
        "trusted": true,
        "id": "ZE6b4BGDE3Ku",
        "outputId": "7e9073bd-4e5f-4472-db71-48fc0b8bb714",
        "colab": {
          "base_uri": "https://localhost:8080/"
        }
      },
      "cell_type": "code",
      "source": [
        "np.exp(a)"
      ],
      "execution_count": 29,
      "outputs": [
        {
          "output_type": "execute_result",
          "data": {
            "text/plain": [
              "array([2.20264658e+04, 4.85165195e+08, 1.06864746e+13, 2.35385267e+17,\n",
              "       5.18470553e+21])"
            ]
          },
          "metadata": {},
          "execution_count": 29
        }
      ]
    },
    {
      "metadata": {
        "id": "zGuKg2B3E3Ku"
      },
      "cell_type": "markdown",
      "source": [
        "#### 27. Square root of the array (extraction of square root)"
      ]
    },
    {
      "metadata": {
        "scrolled": true,
        "trusted": true,
        "id": "z3SEKeEuE3Kv"
      },
      "cell_type": "code",
      "source": [
        "np.sqrt(a)"
      ],
      "execution_count": null,
      "outputs": []
    },
    {
      "metadata": {
        "trusted": true,
        "id": "j2HVpFcrE3Kv",
        "outputId": "1388519f-da58-4d5b-9e44-6834d1024d57",
        "colab": {
          "base_uri": "https://localhost:8080/"
        }
      },
      "cell_type": "code",
      "source": [
        "np.sqrt(a)"
      ],
      "execution_count": 30,
      "outputs": [
        {
          "output_type": "execute_result",
          "data": {
            "text/plain": [
              "array([3.16227766, 4.47213595, 5.47722558, 6.32455532, 7.07106781])"
            ]
          },
          "metadata": {},
          "execution_count": 30
        }
      ]
    },
    {
      "metadata": {
        "id": "057m2S-rE3Kv"
      },
      "cell_type": "markdown",
      "source": [
        "#### 28. Square root of the array（cube）"
      ]
    },
    {
      "metadata": {
        "scrolled": true,
        "trusted": true,
        "id": "O3hNVYZwE3Kw"
      },
      "cell_type": "code",
      "source": [
        "np.power(a, 3)"
      ],
      "execution_count": null,
      "outputs": []
    },
    {
      "metadata": {
        "trusted": true,
        "id": "3UTVeHUvE3Kw",
        "outputId": "92e1f394-255e-465a-88d3-d3a542c79b5e",
        "colab": {
          "base_uri": "https://localhost:8080/"
        }
      },
      "cell_type": "code",
      "source": [
        "np.power(a, 3)"
      ],
      "execution_count": 31,
      "outputs": [
        {
          "output_type": "execute_result",
          "data": {
            "text/plain": [
              "array([  1000,   8000,  27000,  64000, 125000])"
            ]
          },
          "metadata": {},
          "execution_count": 31
        }
      ]
    },
    {
      "metadata": {
        "id": "YExb0BwJE3Kw"
      },
      "cell_type": "markdown",
      "source": [
        "### Array Slices and Indexes"
      ]
    },
    {
      "metadata": {
        "id": "shDcRFlJE3Kx"
      },
      "cell_type": "markdown",
      "source": [
        "#### 29. One-dimensional array index"
      ]
    },
    {
      "metadata": {
        "trusted": true,
        "id": "I7CsGV4KE3Kx"
      },
      "cell_type": "code",
      "source": [
        "a = np.array([1, 2, 3, 4, 5])\n",
        "a[0], a[-1]"
      ],
      "execution_count": null,
      "outputs": []
    },
    {
      "metadata": {
        "trusted": true,
        "id": "RBLUCerPE3Kx",
        "outputId": "bd52c065-12eb-464f-abee-5a4f027e8cf1",
        "colab": {
          "base_uri": "https://localhost:8080/"
        }
      },
      "cell_type": "code",
      "source": [
        "a = np.array([1, 2, 3, 4, 5])\n",
        "a[0], a[-1]"
      ],
      "execution_count": 32,
      "outputs": [
        {
          "output_type": "execute_result",
          "data": {
            "text/plain": [
              "(1, 5)"
            ]
          },
          "metadata": {},
          "execution_count": 32
        }
      ]
    },
    {
      "metadata": {
        "id": "AWG6JrU4E3Kx"
      },
      "cell_type": "markdown",
      "source": [
        "#### 30. One-dimensional array slice"
      ]
    },
    {
      "metadata": {
        "scrolled": true,
        "trusted": true,
        "id": "vNbuJ29eE3Ky"
      },
      "cell_type": "code",
      "source": [
        "a[0:2], a[:-1]"
      ],
      "execution_count": null,
      "outputs": []
    },
    {
      "metadata": {
        "trusted": true,
        "id": "YaQhpLKnE3Ky",
        "outputId": "05cfd862-112a-402c-f22d-fe76e72d82d2",
        "colab": {
          "base_uri": "https://localhost:8080/"
        }
      },
      "cell_type": "code",
      "source": [
        "a[0:2], a[:-1]"
      ],
      "execution_count": 33,
      "outputs": [
        {
          "output_type": "execute_result",
          "data": {
            "text/plain": [
              "(array([1, 2]), array([1, 2, 3, 4]))"
            ]
          },
          "metadata": {},
          "execution_count": 33
        }
      ]
    },
    {
      "metadata": {
        "id": "jtsT5qx4E3Ky"
      },
      "cell_type": "markdown",
      "source": [
        "#### 31. Two-dimensional array index"
      ]
    },
    {
      "metadata": {
        "scrolled": false,
        "trusted": true,
        "id": "DD7ZqnNGE3Kz"
      },
      "cell_type": "code",
      "source": [
        "a = np.array([(1,2,3),(4,5,6),(7,8,9)])\n",
        "a[0], a[-1]"
      ],
      "execution_count": null,
      "outputs": []
    },
    {
      "metadata": {
        "trusted": true,
        "id": "XlDl0gMzE3Kz",
        "outputId": "37ae0538-e7bf-4bc2-866a-2d3c5fc0de15",
        "colab": {
          "base_uri": "https://localhost:8080/"
        }
      },
      "cell_type": "code",
      "source": [
        "a = np.array([(1,2,3),(4,5,6),(7,8,9)])\n",
        "a[0], a[-1]"
      ],
      "execution_count": 34,
      "outputs": [
        {
          "output_type": "execute_result",
          "data": {
            "text/plain": [
              "(array([1, 2, 3]), array([7, 8, 9]))"
            ]
          },
          "metadata": {},
          "execution_count": 34
        }
      ]
    },
    {
      "metadata": {
        "id": "4_BbhRTvE3Kz"
      },
      "cell_type": "markdown",
      "source": [
        "#### 32. Two-dimensional array slice (use the second column)"
      ]
    },
    {
      "metadata": {
        "scrolled": true,
        "trusted": true,
        "id": "K9x914B4E3K0"
      },
      "cell_type": "code",
      "source": [
        "print(a)\n",
        "\n",
        "a[:, 1]"
      ],
      "execution_count": null,
      "outputs": []
    },
    {
      "metadata": {
        "trusted": true,
        "id": "r5Yfx6cwE3K0",
        "outputId": "10623ddb-4002-427e-808c-1e23396df406",
        "colab": {
          "base_uri": "https://localhost:8080/"
        }
      },
      "cell_type": "code",
      "source": [
        "print(a)\n",
        "\n",
        "a[:, 1]"
      ],
      "execution_count": 35,
      "outputs": [
        {
          "output_type": "stream",
          "name": "stdout",
          "text": [
            "[[1 2 3]\n",
            " [4 5 6]\n",
            " [7 8 9]]\n"
          ]
        },
        {
          "output_type": "execute_result",
          "data": {
            "text/plain": [
              "array([2, 5, 8])"
            ]
          },
          "metadata": {},
          "execution_count": 35
        }
      ]
    },
    {
      "metadata": {
        "id": "J0kDzq0YE3K0"
      },
      "cell_type": "markdown",
      "source": [
        "#### 33. Two-dimensional array slice (use the second, third columns)"
      ]
    },
    {
      "metadata": {
        "scrolled": true,
        "trusted": true,
        "id": "JwA5Up1YE3K0"
      },
      "cell_type": "code",
      "source": [
        "a[1:3, :]"
      ],
      "execution_count": null,
      "outputs": []
    },
    {
      "metadata": {
        "trusted": true,
        "id": "qp3wqm_rE3K0"
      },
      "cell_type": "code",
      "source": [],
      "execution_count": null,
      "outputs": []
    },
    {
      "metadata": {
        "id": "Gxnh4vi8E3K1"
      },
      "cell_type": "markdown",
      "source": [
        "### Array Shape Operations"
      ]
    },
    {
      "metadata": {
        "id": "Cq1o6QQJE3K1"
      },
      "cell_type": "markdown",
      "source": [
        "#### Generate a two-dimensional example array"
      ]
    },
    {
      "metadata": {
        "scrolled": true,
        "trusted": true,
        "id": "9svEBpZZE3K1"
      },
      "cell_type": "code",
      "source": [
        "a = np.random.random((3, 2))\n",
        "a"
      ],
      "execution_count": null,
      "outputs": []
    },
    {
      "metadata": {
        "trusted": true,
        "id": "YOyiebxWE3K1"
      },
      "cell_type": "code",
      "source": [],
      "execution_count": null,
      "outputs": []
    },
    {
      "metadata": {
        "id": "2Iwv_t_IE3K2"
      },
      "cell_type": "markdown",
      "source": [
        "#### 34. Check out array shape"
      ]
    },
    {
      "metadata": {
        "scrolled": true,
        "trusted": true,
        "id": "CarIySYQE3K2"
      },
      "cell_type": "code",
      "source": [
        "a.shape"
      ],
      "execution_count": null,
      "outputs": []
    },
    {
      "metadata": {
        "trusted": true,
        "id": "bGqlDjr1E3K2"
      },
      "cell_type": "code",
      "source": [],
      "execution_count": null,
      "outputs": []
    },
    {
      "metadata": {
        "id": "RsOyEqqVE3K2"
      },
      "cell_type": "markdown",
      "source": [
        "#### 35. Change array shape (without changing the origin array)"
      ]
    },
    {
      "metadata": {
        "trusted": true,
        "id": "ieyo5QAHE3K3"
      },
      "cell_type": "code",
      "source": [
        "# reshape doesn't change the original array\n",
        "a.reshape(2, 3)"
      ],
      "execution_count": null,
      "outputs": []
    },
    {
      "metadata": {
        "trusted": true,
        "id": "9m6FDOwoE3K3"
      },
      "cell_type": "code",
      "source": [],
      "execution_count": null,
      "outputs": []
    },
    {
      "metadata": {
        "scrolled": true,
        "trusted": true,
        "id": "K3nxvjF5E3K3"
      },
      "cell_type": "code",
      "source": [
        "a"
      ],
      "execution_count": null,
      "outputs": []
    },
    {
      "metadata": {
        "trusted": true,
        "id": "dz5lXXSUE3K3"
      },
      "cell_type": "code",
      "source": [],
      "execution_count": null,
      "outputs": []
    },
    {
      "metadata": {
        "id": "I1hxRYpcE3K3"
      },
      "cell_type": "markdown",
      "source": [
        "#### 36. Change array shape（change the origin array）"
      ]
    },
    {
      "metadata": {
        "trusted": true,
        "id": "7IrIVEQQE3K4"
      },
      "cell_type": "code",
      "source": [
        "# resize changes the original array\n",
        "a.resize(2, 3) "
      ],
      "execution_count": null,
      "outputs": []
    },
    {
      "metadata": {
        "trusted": true,
        "id": "UZMxGGPWE3K4"
      },
      "cell_type": "code",
      "source": [],
      "execution_count": null,
      "outputs": []
    },
    {
      "metadata": {
        "scrolled": true,
        "trusted": true,
        "id": "54_943rkE3K4"
      },
      "cell_type": "code",
      "source": [
        "a"
      ],
      "execution_count": null,
      "outputs": []
    },
    {
      "metadata": {
        "trusted": true,
        "id": "LecKTjM4E3K4"
      },
      "cell_type": "code",
      "source": [],
      "execution_count": null,
      "outputs": []
    },
    {
      "metadata": {
        "id": "xS0mtqGuE3K5"
      },
      "cell_type": "markdown",
      "source": [
        "#### 37. Ravel array"
      ]
    },
    {
      "metadata": {
        "trusted": true,
        "id": "Z2A0IMn8E3K5"
      },
      "cell_type": "code",
      "source": [
        "a.ravel()"
      ],
      "execution_count": null,
      "outputs": []
    },
    {
      "metadata": {
        "trusted": true,
        "id": "mgZ_nBx7E3K5"
      },
      "cell_type": "code",
      "source": [],
      "execution_count": null,
      "outputs": []
    },
    {
      "metadata": {
        "id": "5z6njeLfE3K6"
      },
      "cell_type": "markdown",
      "source": [
        "#### 38. Vertically splice arrays"
      ]
    },
    {
      "metadata": {
        "trusted": true,
        "id": "5y6gf_LkE3K6"
      },
      "cell_type": "code",
      "source": [
        "# Generate the example arrays\n",
        "a = np.random.randint(10, size=(3, 3))\n",
        "b = np.random.randint(10, size=(3, 3))\n",
        "\n",
        "a, b"
      ],
      "execution_count": null,
      "outputs": []
    },
    {
      "metadata": {
        "trusted": true,
        "id": "UAm5WXYtE3K7"
      },
      "cell_type": "code",
      "source": [],
      "execution_count": null,
      "outputs": []
    },
    {
      "metadata": {
        "trusted": true,
        "id": "-kMJCl0zE3K7"
      },
      "cell_type": "code",
      "source": [
        "np.vstack((a, b))"
      ],
      "execution_count": null,
      "outputs": []
    },
    {
      "metadata": {
        "trusted": true,
        "id": "ZB5ECTvLE3K7"
      },
      "cell_type": "code",
      "source": [],
      "execution_count": null,
      "outputs": []
    },
    {
      "metadata": {
        "id": "DpzPlNVCE3K7"
      },
      "cell_type": "markdown",
      "source": [
        "#### 39. Horizontally splice arrays"
      ]
    },
    {
      "metadata": {
        "scrolled": true,
        "trusted": true,
        "id": "XJrrsdNhE3K7"
      },
      "cell_type": "code",
      "source": [
        "np.hstack((a, b))"
      ],
      "execution_count": null,
      "outputs": []
    },
    {
      "metadata": {
        "trusted": true,
        "id": "JWFivrsIE3K8"
      },
      "cell_type": "code",
      "source": [],
      "execution_count": null,
      "outputs": []
    },
    {
      "metadata": {
        "id": "lLEZcid9E3K8"
      },
      "cell_type": "markdown",
      "source": [
        "#### 40. Split array along the horizontal axis"
      ]
    },
    {
      "metadata": {
        "scrolled": true,
        "trusted": true,
        "id": "1ukiMv-BE3K8"
      },
      "cell_type": "code",
      "source": [
        "np.hsplit(a, 3)"
      ],
      "execution_count": null,
      "outputs": []
    },
    {
      "metadata": {
        "trusted": true,
        "id": "02kBflgYE3K8"
      },
      "cell_type": "code",
      "source": [],
      "execution_count": null,
      "outputs": []
    },
    {
      "metadata": {
        "id": "a0X5QZm9E3K9"
      },
      "cell_type": "markdown",
      "source": [
        "#### 41. Split array along the vertical axis"
      ]
    },
    {
      "metadata": {
        "scrolled": true,
        "trusted": true,
        "id": "2OWzEpBgE3K9"
      },
      "cell_type": "code",
      "source": [
        "np.vsplit(a, 3)"
      ],
      "execution_count": null,
      "outputs": []
    },
    {
      "metadata": {
        "trusted": true,
        "id": "CRRHQKHAE3K9"
      },
      "cell_type": "code",
      "source": [],
      "execution_count": null,
      "outputs": []
    },
    {
      "metadata": {
        "id": "BLdkJSCdE3K9"
      },
      "cell_type": "markdown",
      "source": [
        "### Array Sorting"
      ]
    },
    {
      "metadata": {
        "scrolled": true,
        "trusted": true,
        "id": "oKVMQnOTE3K9"
      },
      "cell_type": "code",
      "source": [
        "# Generate example array\n",
        "a = np.array(([1,4,3],[6,2,9],[4,7,2]))\n",
        "a"
      ],
      "execution_count": null,
      "outputs": []
    },
    {
      "metadata": {
        "trusted": true,
        "id": "nMOQovdhE3K-"
      },
      "cell_type": "code",
      "source": [],
      "execution_count": null,
      "outputs": []
    },
    {
      "metadata": {
        "id": "LJqs3lCNE3K-"
      },
      "cell_type": "markdown",
      "source": [
        "#### 42. Return the maximum value of each column "
      ]
    },
    {
      "metadata": {
        "trusted": true,
        "id": "gSIWju0ME3K-"
      },
      "cell_type": "code",
      "source": [
        "np.max(a, axis=0)"
      ],
      "execution_count": null,
      "outputs": []
    },
    {
      "metadata": {
        "trusted": true,
        "id": "IX2jv1DSE3K-"
      },
      "cell_type": "code",
      "source": [],
      "execution_count": null,
      "outputs": []
    },
    {
      "metadata": {
        "id": "n07oZxnNE3K_"
      },
      "cell_type": "markdown",
      "source": [
        "#### 43. Return the minimum value of each column "
      ]
    },
    {
      "metadata": {
        "scrolled": true,
        "trusted": true,
        "id": "OHWQDvs4E3K_"
      },
      "cell_type": "code",
      "source": [
        "np.min(a, axis=1)"
      ],
      "execution_count": null,
      "outputs": []
    },
    {
      "metadata": {
        "trusted": true,
        "id": "QIp5XYiTE3K_"
      },
      "cell_type": "code",
      "source": [],
      "execution_count": null,
      "outputs": []
    },
    {
      "metadata": {
        "id": "qkmbeQDPE3K_"
      },
      "cell_type": "markdown",
      "source": [
        "#### 44. Return the index of the max value of each column"
      ]
    },
    {
      "metadata": {
        "scrolled": true,
        "trusted": true,
        "id": "5Q8I6TcWE3K_"
      },
      "cell_type": "code",
      "source": [
        "np.argmax(a, axis=0)"
      ],
      "execution_count": null,
      "outputs": []
    },
    {
      "metadata": {
        "trusted": true,
        "id": "QLDE8s_vE3LA"
      },
      "cell_type": "code",
      "source": [],
      "execution_count": null,
      "outputs": []
    },
    {
      "metadata": {
        "id": "e9wczqLjE3LA"
      },
      "cell_type": "markdown",
      "source": [
        "#### 45. Return the index of the min value of each column"
      ]
    },
    {
      "metadata": {
        "trusted": true,
        "id": "JhWdsQvYE3LA"
      },
      "cell_type": "code",
      "source": [
        "np.argmin(a, axis=1)"
      ],
      "execution_count": null,
      "outputs": []
    },
    {
      "metadata": {
        "trusted": true,
        "id": "VX_U9QwKE3LA"
      },
      "cell_type": "code",
      "source": [],
      "execution_count": null,
      "outputs": []
    },
    {
      "metadata": {
        "id": "0ma8OjpwE3LB"
      },
      "cell_type": "markdown",
      "source": [
        "### Array Statistics"
      ]
    },
    {
      "metadata": {
        "id": "4xyOP_UxE3LB"
      },
      "cell_type": "markdown",
      "source": [
        "#### 46. Statistics of the median of each column of the array"
      ]
    },
    {
      "metadata": {
        "scrolled": true,
        "trusted": true,
        "id": "8FqhGMgJE3LB"
      },
      "cell_type": "code",
      "source": [
        "# Keep using array a\n",
        "np.median(a, axis=0)"
      ],
      "execution_count": null,
      "outputs": []
    },
    {
      "metadata": {
        "trusted": true,
        "id": "b46kxRVhE3LB"
      },
      "cell_type": "code",
      "source": [],
      "execution_count": null,
      "outputs": []
    },
    {
      "metadata": {
        "id": "qHIvq_n4E3LC"
      },
      "cell_type": "markdown",
      "source": [
        "#### 47. Statistics of the arithmetic mean value of each row of the array"
      ]
    },
    {
      "metadata": {
        "trusted": true,
        "id": "J6IgfnJbE3LC"
      },
      "cell_type": "code",
      "source": [
        "np.mean(a, axis=1)"
      ],
      "execution_count": null,
      "outputs": []
    },
    {
      "metadata": {
        "trusted": true,
        "id": "uscmlFfME3LC"
      },
      "cell_type": "code",
      "source": [],
      "execution_count": null,
      "outputs": []
    },
    {
      "metadata": {
        "id": "8vPhU293E3LC"
      },
      "cell_type": "markdown",
      "source": [
        "#### 48. Statistics of the weighted average of each column of the array\n"
      ]
    },
    {
      "metadata": {
        "trusted": true,
        "id": "neerkhnrE3LC"
      },
      "cell_type": "code",
      "source": [
        "np.average(a, axis=0)"
      ],
      "execution_count": null,
      "outputs": []
    },
    {
      "metadata": {
        "trusted": true,
        "id": "E8HDqolZE3LD"
      },
      "cell_type": "code",
      "source": [],
      "execution_count": null,
      "outputs": []
    },
    {
      "metadata": {
        "id": "3S2Ml_V6E3LD"
      },
      "cell_type": "markdown",
      "source": [
        "#### 49. Statistics of the variance of each row of the array"
      ]
    },
    {
      "metadata": {
        "scrolled": true,
        "trusted": true,
        "id": "Fy7CKX7jE3LD"
      },
      "cell_type": "code",
      "source": [
        "np.var(a, axis=1)"
      ],
      "execution_count": null,
      "outputs": []
    },
    {
      "metadata": {
        "trusted": true,
        "id": "-4aoz34kE3LD"
      },
      "cell_type": "code",
      "source": [],
      "execution_count": null,
      "outputs": []
    },
    {
      "metadata": {
        "id": "1Mcc_k0dE3LD"
      },
      "cell_type": "markdown",
      "source": [
        "#### 50. Statistics of the standard deviation of each column of the array "
      ]
    },
    {
      "metadata": {
        "trusted": true,
        "id": "qmbdzGtVE3LE"
      },
      "cell_type": "code",
      "source": [
        "np.std(a, axis=0)"
      ],
      "execution_count": null,
      "outputs": []
    },
    {
      "metadata": {
        "trusted": true,
        "id": "ziv5CWWGE3LE"
      },
      "cell_type": "code",
      "source": [],
      "execution_count": null,
      "outputs": []
    },
    {
      "metadata": {
        "id": "gs8RTtdvE3LF"
      },
      "cell_type": "markdown",
      "source": [
        "---\n",
        "##  <a id = \"2\">2. Advanced Part [Optional]</a>"
      ]
    },
    {
      "metadata": {
        "id": "CiFzLBg8E3LF"
      },
      "cell_type": "markdown",
      "source": [
        "#### 51. Create a 5x5 two-dimensional array, the boundary value is 0, and the rest is 0"
      ]
    },
    {
      "metadata": {
        "trusted": true,
        "id": "8mv7A0o_E3LF"
      },
      "cell_type": "code",
      "source": [
        "Z = np.ones((5,5))\n",
        "Z[1:-1,1:-1] = 0\n",
        "Z"
      ],
      "execution_count": null,
      "outputs": []
    },
    {
      "metadata": {
        "trusted": true,
        "id": "byKLxNiUE3LF"
      },
      "cell_type": "code",
      "source": [],
      "execution_count": null,
      "outputs": []
    },
    {
      "metadata": {
        "id": "2XqcPuexE3LF"
      },
      "cell_type": "markdown",
      "source": [
        "#### 52. Use number `0` to surround a 5x5 two-dimensional array full of `1`"
      ]
    },
    {
      "metadata": {
        "trusted": true,
        "id": "SXFlF0AvE3LG"
      },
      "cell_type": "code",
      "source": [
        "Z = np.ones((5,5))\n",
        "Z = np.pad(Z, pad_width=1, mode='constant', constant_values=0)\n",
        "Z"
      ],
      "execution_count": null,
      "outputs": []
    },
    {
      "metadata": {
        "trusted": true,
        "id": "75PFZOUmE3LG"
      },
      "cell_type": "code",
      "source": [],
      "execution_count": null,
      "outputs": []
    },
    {
      "metadata": {
        "id": "KD7-o_A1E3LG"
      },
      "cell_type": "markdown",
      "source": [
        "#### 53. Create a 5x5 two-dimensional array, and set the values `1, 2, 3, 4` to fall below its diagonal line"
      ]
    },
    {
      "metadata": {
        "trusted": true,
        "id": "_ZxdHSsGE3LG"
      },
      "cell_type": "code",
      "source": [
        "Z = np.diag(1+np.arange(4),k=-1)\n",
        "Z"
      ],
      "execution_count": null,
      "outputs": []
    },
    {
      "metadata": {
        "trusted": true,
        "id": "KWxzCDkgE3LH"
      },
      "cell_type": "code",
      "source": [],
      "execution_count": null,
      "outputs": []
    },
    {
      "metadata": {
        "id": "G5eeLFifE3LH"
      },
      "cell_type": "markdown",
      "source": [
        "#### 54. Create a 10x10 two-dimensional array, and let `1` and `0` be placed diagonally "
      ]
    },
    {
      "metadata": {
        "trusted": true,
        "id": "1gklr4y6E3LH"
      },
      "cell_type": "code",
      "source": [
        "Z = np.zeros((10,10),dtype=int)\n",
        "Z[1::2,::2] = 1\n",
        "Z[::2,1::2] = 1\n",
        "Z"
      ],
      "execution_count": null,
      "outputs": []
    },
    {
      "metadata": {
        "trusted": true,
        "id": "yAMrDNABE3LH"
      },
      "cell_type": "code",
      "source": [],
      "execution_count": null,
      "outputs": []
    },
    {
      "metadata": {
        "id": "XclLC2EwE3LI"
      },
      "cell_type": "markdown",
      "source": [
        "#### 55. Create a `0`-`10` one-dimensional array and make the numbers between (`1`, `9`] all inverted to negative numbers"
      ]
    },
    {
      "metadata": {
        "trusted": true,
        "id": "uK7fSdUpE3LI"
      },
      "cell_type": "code",
      "source": [
        "Z = np.arange(11)\n",
        "Z[(1 < Z) & (Z <= 9)] *= -1\n",
        "Z"
      ],
      "execution_count": null,
      "outputs": []
    },
    {
      "metadata": {
        "trusted": true,
        "id": "WSYh8QsAE3LI"
      },
      "cell_type": "code",
      "source": [],
      "execution_count": null,
      "outputs": []
    },
    {
      "metadata": {
        "id": "XhZmXWwVE3LI"
      },
      "cell_type": "markdown",
      "source": [
        "#### 56. Find the same elements in two one-dimensional arrays"
      ]
    },
    {
      "metadata": {
        "scrolled": true,
        "trusted": true,
        "id": "4InCj1s7E3LI"
      },
      "cell_type": "code",
      "source": [
        "Z1 = np.random.randint(0,10,10)\n",
        "Z2 = np.random.randint(0,10,10)\n",
        "print(\"Z1: \", Z1)\n",
        "print(\"Z2: \", Z2)\n",
        "np.intersect1d(Z1,Z2)"
      ],
      "execution_count": null,
      "outputs": []
    },
    {
      "metadata": {
        "trusted": true,
        "id": "JUf6avyxE3LJ"
      },
      "cell_type": "code",
      "source": [],
      "execution_count": null,
      "outputs": []
    },
    {
      "metadata": {
        "id": "yYbYtyiEE3LJ"
      },
      "cell_type": "markdown",
      "source": [
        "#### 57. Use NumPy to print the datesof yesterday, today nd tomorrow"
      ]
    },
    {
      "metadata": {
        "trusted": true,
        "id": "sK6lqhibE3LJ"
      },
      "cell_type": "code",
      "source": [
        "yesterday = np.datetime64('today', 'D') - np.timedelta64(1, 'D')\n",
        "today     = np.datetime64('today', 'D')\n",
        "tomorrow  = np.datetime64('today', 'D') + np.timedelta64(1, 'D')\n",
        "print(\"yesterday: \", yesterday)\n",
        "print(\"today: \", today)\n",
        "print(\"tomorrow: \", tomorrow)"
      ],
      "execution_count": null,
      "outputs": []
    },
    {
      "metadata": {
        "trusted": true,
        "id": "58vCp8EdE3LK"
      },
      "cell_type": "code",
      "source": [],
      "execution_count": null,
      "outputs": []
    },
    {
      "metadata": {
        "id": "8d4UbKSlE3LK"
      },
      "cell_type": "markdown",
      "source": [
        "#### 58. Use five different methods to extract the integer part of a random array"
      ]
    },
    {
      "metadata": {
        "trusted": true,
        "id": "fG1G_v43E3LK"
      },
      "cell_type": "code",
      "source": [
        "Z = np.random.uniform(0,10,10)\n",
        "print(\"Original value: \", Z)\n",
        "\n",
        "print (\"method 1: \", Z - Z%1)\n",
        "print (\"method 2: \", np.floor(Z))\n",
        "print (\"method 3: \", np.ceil(Z)-1)\n",
        "print (\"method 4: \", Z.astype(int))\n",
        "print (\"method 5: \", np.trunc(Z))"
      ],
      "execution_count": null,
      "outputs": []
    },
    {
      "metadata": {
        "trusted": true,
        "id": "CaINGe9UE3LK"
      },
      "cell_type": "code",
      "source": [],
      "execution_count": null,
      "outputs": []
    },
    {
      "metadata": {
        "id": "wfwX1aTzE3LL"
      },
      "cell_type": "markdown",
      "source": [
        "#### 59. Create a 5x5 matrix, the values in each row range from `1` to `5`"
      ]
    },
    {
      "metadata": {
        "trusted": true,
        "id": "2-Ais3SpE3LL"
      },
      "cell_type": "code",
      "source": [
        "Z = np.zeros((5,5))\n",
        "Z += np.arange(1,6)\n",
        "\n",
        "Z"
      ],
      "execution_count": null,
      "outputs": []
    },
    {
      "metadata": {
        "trusted": true,
        "id": "3N8TSAnQE3LL"
      },
      "cell_type": "code",
      "source": [],
      "execution_count": null,
      "outputs": []
    },
    {
      "metadata": {
        "id": "DcP8ZBIdE3LL"
      },
      "cell_type": "markdown",
      "source": [
        "#### 60. Create an equally spaced one-dimensional array of length `5` with values ranging from `0` to `1`, but not including `0` and `1`"
      ]
    },
    {
      "metadata": {
        "trusted": true,
        "id": "3qSYPEgmE3LL"
      },
      "cell_type": "code",
      "source": [
        "Z = np.linspace(0,1,6,endpoint=False)[1:]\n",
        "\n",
        "Z"
      ],
      "execution_count": null,
      "outputs": []
    },
    {
      "metadata": {
        "trusted": true,
        "id": "1hXInMETE3LM"
      },
      "cell_type": "code",
      "source": [],
      "execution_count": null,
      "outputs": []
    },
    {
      "metadata": {
        "id": "UeRlZA0rE3LM"
      },
      "cell_type": "markdown",
      "source": [
        "#### 61. Create a random one-dimensional array of length 10 and sort it in ascending order "
      ]
    },
    {
      "metadata": {
        "trusted": true,
        "id": "Ht824vS5E3LM"
      },
      "cell_type": "code",
      "source": [
        "Z = np.random.random(10)\n",
        "Z.sort()\n",
        "Z"
      ],
      "execution_count": null,
      "outputs": []
    },
    {
      "metadata": {
        "trusted": true,
        "id": "_49bWySrE3LM"
      },
      "cell_type": "code",
      "source": [],
      "execution_count": null,
      "outputs": []
    },
    {
      "metadata": {
        "id": "WP48xgQ1E3LM"
      },
      "cell_type": "markdown",
      "source": [
        "#### 62. Create a 3x3 2D array and sort the columns in ascending order"
      ]
    },
    {
      "metadata": {
        "trusted": true,
        "id": "uBeSITHcE3LN"
      },
      "cell_type": "code",
      "source": [
        "Z = np.array([[7,4,3],[3,1,2],[4,2,6]])\n",
        "print(\"Original array: \\n\", Z)\n",
        "\n",
        "Z.sort(axis=0)\n",
        "Z"
      ],
      "execution_count": null,
      "outputs": []
    },
    {
      "metadata": {
        "trusted": true,
        "id": "wHLOdcjeE3LN"
      },
      "cell_type": "code",
      "source": [],
      "execution_count": null,
      "outputs": []
    },
    {
      "metadata": {
        "id": "u5yhn1TvE3LN"
      },
      "cell_type": "markdown",
      "source": [
        "#### 63. Create a one-dimensional array of length 5 and replace the maximum value with `0`"
      ]
    },
    {
      "metadata": {
        "trusted": true,
        "id": "CccJfMq0E3LN"
      },
      "cell_type": "code",
      "source": [
        "Z = np.random.random(5)\n",
        "print(\"Original array: \",Z)\n",
        "Z[Z.argmax()] = 0\n",
        "Z"
      ],
      "execution_count": null,
      "outputs": []
    },
    {
      "metadata": {
        "trusted": true,
        "id": "k1nTzXZ5E3LN"
      },
      "cell_type": "code",
      "source": [],
      "execution_count": null,
      "outputs": []
    },
    {
      "metadata": {
        "id": "3l83_K_jE3LO"
      },
      "cell_type": "markdown",
      "source": [
        "#### 64. Print the minimum value and the maximum value for each NumPy scalar type"
      ]
    },
    {
      "metadata": {
        "scrolled": true,
        "trusted": true,
        "id": "Tp7wwSvJE3LO"
      },
      "cell_type": "code",
      "source": [
        "for dtype in [np.int8, np.int32, np.int64]:\n",
        "   print(\"The minimum value of {}: \".format(dtype), np.iinfo(dtype).min)\n",
        "   print(\"The maximum value of {}: \".format(dtype),np.iinfo(dtype).max)\n",
        "for dtype in [np.float32, np.float64]:\n",
        "   print(\"The minimum value of {}: \".format(dtype),np.finfo(dtype).min)\n",
        "   print(\"The maximum value of {}: \".format(dtype),np.finfo(dtype).max)"
      ],
      "execution_count": null,
      "outputs": []
    },
    {
      "metadata": {
        "trusted": true,
        "id": "p-ekuoDRE3LO"
      },
      "cell_type": "code",
      "source": [],
      "execution_count": null,
      "outputs": []
    },
    {
      "metadata": {
        "id": "uyAE16SWE3LO"
      },
      "cell_type": "markdown",
      "source": [
        "#### 65. Convert `float32` to integer"
      ]
    },
    {
      "metadata": {
        "trusted": true,
        "id": "sLwIwqX0E3LO"
      },
      "cell_type": "code",
      "source": [
        "Z = np.arange(10, dtype=np.float32)\n",
        "print(Z)\n",
        "\n",
        "Z = Z.astype(np.int32, copy=False)\n",
        "Z"
      ],
      "execution_count": null,
      "outputs": []
    },
    {
      "metadata": {
        "trusted": true,
        "id": "MgcEGmuXE3LP"
      },
      "cell_type": "code",
      "source": [],
      "execution_count": null,
      "outputs": []
    },
    {
      "metadata": {
        "id": "QJqp9abGE3LP"
      },
      "cell_type": "markdown",
      "source": [
        "#### 66. Arrange random two-dimensional array in ascending order top to bottom in column 3"
      ]
    },
    {
      "metadata": {
        "trusted": true,
        "id": "vFUqG53EE3LP"
      },
      "cell_type": "code",
      "source": [
        "Z = np.random.randint(0,10,(5,5))\n",
        "print(\"Before：\\n\",Z)\n",
        "\n",
        "Z[Z[:,2].argsort()]"
      ],
      "execution_count": null,
      "outputs": []
    },
    {
      "metadata": {
        "trusted": true,
        "id": "R6hYTtZrE3LP"
      },
      "cell_type": "code",
      "source": [],
      "execution_count": null,
      "outputs": []
    },
    {
      "metadata": {
        "id": "-bYByHZNE3LP"
      },
      "cell_type": "markdown",
      "source": [
        "#### 67. From a random one-dimensional array, find the number nearest to the given value (`0.5`)"
      ]
    },
    {
      "metadata": {
        "trusted": true,
        "id": "dAvBRJstE3LQ"
      },
      "cell_type": "code",
      "source": [
        "Z = np.random.uniform(0,1,20)\n",
        "print(\"Random array: \\n\", Z)\n",
        "z = 0.5\n",
        "m = Z.flat[np.abs(Z - z).argmin()]\n",
        "\n",
        "m"
      ],
      "execution_count": null,
      "outputs": []
    },
    {
      "metadata": {
        "trusted": true,
        "id": "ZDi9OoqDE3LQ"
      },
      "cell_type": "code",
      "source": [],
      "execution_count": null,
      "outputs": []
    },
    {
      "metadata": {
        "id": "l7SMeTLyE3LQ"
      },
      "cell_type": "markdown",
      "source": [
        "#### 68. Swap the first two lines of a two-dimensional array sequentially "
      ]
    },
    {
      "metadata": {
        "trusted": true,
        "id": "Sd1lkOhqE3LQ"
      },
      "cell_type": "code",
      "source": [
        "A = np.arange(25).reshape(5,5)\n",
        "print(A)\n",
        "A[[0,1]] = A[[1,0]]\n",
        "print(A)"
      ],
      "execution_count": null,
      "outputs": []
    },
    {
      "metadata": {
        "trusted": true,
        "id": "ylYYdfrnE3LR"
      },
      "cell_type": "code",
      "source": [],
      "execution_count": null,
      "outputs": []
    },
    {
      "metadata": {
        "id": "5hpgigiVE3LR"
      },
      "cell_type": "markdown",
      "source": [
        "#### 69. Find the most frequent values in a random one-dimensional array"
      ]
    },
    {
      "metadata": {
        "trusted": true,
        "id": "hNY52K0eE3LR"
      },
      "cell_type": "code",
      "source": [
        "Z = np.random.randint(0,10,50)\n",
        "print(\"Random one-dimensional array: \", Z)\n",
        "np.bincount(Z).argmax()"
      ],
      "execution_count": null,
      "outputs": []
    },
    {
      "metadata": {
        "trusted": true,
        "id": "-wre64TtE3LR"
      },
      "cell_type": "code",
      "source": [],
      "execution_count": null,
      "outputs": []
    },
    {
      "metadata": {
        "id": "DeNfqwV1E3LS"
      },
      "cell_type": "markdown",
      "source": [
        "#### 70. Find the position index of non-zero elements in a given one-dimensional array"
      ]
    },
    {
      "metadata": {
        "trusted": true,
        "id": "ahA1Cu6KE3LS"
      },
      "cell_type": "code",
      "source": [
        "Z = np.nonzero([1,0,2,0,1,0,4,0])\n",
        "Z"
      ],
      "execution_count": null,
      "outputs": []
    },
    {
      "metadata": {
        "trusted": true,
        "id": "iU-StPFPE3LS"
      },
      "cell_type": "code",
      "source": [],
      "execution_count": null,
      "outputs": []
    },
    {
      "metadata": {
        "id": "H81knRnbE3LS"
      },
      "cell_type": "markdown",
      "source": [
        "#### 71. Randomly place _p_ numbers with the value `1` into a given 5x5 two-dimensional array"
      ]
    },
    {
      "metadata": {
        "trusted": true,
        "id": "oPfjYJWsE3LS"
      },
      "cell_type": "code",
      "source": [
        "p = 3\n",
        "\n",
        "Z = np.zeros((5,5))\n",
        "np.put(Z, np.random.choice(range(5*5), p, replace=False),1)\n",
        "\n",
        "Z"
      ],
      "execution_count": null,
      "outputs": []
    },
    {
      "metadata": {
        "trusted": true,
        "id": "woWh6KkVE3LT"
      },
      "cell_type": "code",
      "source": [],
      "execution_count": null,
      "outputs": []
    },
    {
      "metadata": {
        "id": "aWJKOdQCE3LT"
      },
      "cell_type": "markdown",
      "source": [
        "#### 72. For a random 3x3 two-dimensional array, subtract the average of each row in the array"
      ]
    },
    {
      "metadata": {
        "scrolled": true,
        "trusted": true,
        "id": "pm2Gg5SJE3LT"
      },
      "cell_type": "code",
      "source": [
        "X = np.random.rand(3, 3)\n",
        "print(X)\n",
        "\n",
        "Y = X - X.mean(axis=1, keepdims=True)\n",
        "Y"
      ],
      "execution_count": null,
      "outputs": []
    },
    {
      "metadata": {
        "trusted": true,
        "id": "byx2rTQCE3LT"
      },
      "cell_type": "code",
      "source": [],
      "execution_count": null,
      "outputs": []
    },
    {
      "metadata": {
        "id": "IpFb2d3gE3LT"
      },
      "cell_type": "markdown",
      "source": [
        "#### 73. Get a diagonal array of two-dimensional array dot product results"
      ]
    },
    {
      "metadata": {
        "trusted": true,
        "id": "kU297yNOE3LU"
      },
      "cell_type": "code",
      "source": [
        "A = np.random.uniform(0,1,(3,3))\n",
        "B = np.random.uniform(0,1,(3,3))\n",
        "\n",
        "print(np.dot(A, B))\n",
        "\n",
        "# A slower method \n",
        "np.diag(np.dot(A, B))"
      ],
      "execution_count": null,
      "outputs": []
    },
    {
      "metadata": {
        "trusted": true,
        "id": "sjeMErZWE3LU"
      },
      "cell_type": "code",
      "source": [],
      "execution_count": null,
      "outputs": []
    },
    {
      "metadata": {
        "trusted": true,
        "id": "M9yB6_7CE3LU"
      },
      "cell_type": "code",
      "source": [
        "# A fast method \n",
        "np.sum(A * B.T, axis=1)"
      ],
      "execution_count": null,
      "outputs": []
    },
    {
      "metadata": {
        "trusted": true,
        "id": "5DfyeH3PE3LU"
      },
      "cell_type": "code",
      "source": [],
      "execution_count": null,
      "outputs": []
    },
    {
      "metadata": {
        "trusted": true,
        "id": "Y7B76v8VE3LU"
      },
      "cell_type": "code",
      "source": [
        "# A faster method \n",
        "np.einsum(\"ij, ji->i\", A, B)"
      ],
      "execution_count": null,
      "outputs": []
    },
    {
      "metadata": {
        "trusted": true,
        "id": "IxBFck9OE3LV"
      },
      "cell_type": "code",
      "source": [],
      "execution_count": null,
      "outputs": []
    },
    {
      "metadata": {
        "id": "jkATtFjwE3LV"
      },
      "cell_type": "markdown",
      "source": [
        "#### 74. In a one-dimensional array, find the top _p_ maxima"
      ]
    },
    {
      "metadata": {
        "trusted": true,
        "id": "XU4VH58aE3LV"
      },
      "cell_type": "code",
      "source": [
        "Z = np.random.randint(1,100,100)\n",
        "print(Z)\n",
        "\n",
        "p = 5\n",
        "\n",
        "Z[np.argsort(Z)[-p:]]"
      ],
      "execution_count": null,
      "outputs": []
    },
    {
      "metadata": {
        "trusted": true,
        "id": "N5lLs2M4E3LV"
      },
      "cell_type": "code",
      "source": [],
      "execution_count": null,
      "outputs": []
    },
    {
      "metadata": {
        "id": "1u7_kaFyE3LW"
      },
      "cell_type": "markdown",
      "source": [
        "#### 75. Compute the fourth power of each element in a random one-dimensional array"
      ]
    },
    {
      "metadata": {
        "scrolled": true,
        "trusted": true,
        "id": "nRYxBbrHE3LW"
      },
      "cell_type": "code",
      "source": [
        "x = np.random.randint(2,5,5)\n",
        "print(x)\n",
        "\n",
        "np.power(x,4)"
      ],
      "execution_count": null,
      "outputs": []
    },
    {
      "metadata": {
        "trusted": true,
        "id": "BusNCS3qE3LX"
      },
      "cell_type": "code",
      "source": [],
      "execution_count": null,
      "outputs": []
    },
    {
      "metadata": {
        "id": "CAttBhNgE3LY"
      },
      "cell_type": "markdown",
      "source": [
        "#### 76. For each element in a two-dimensional random array, retain its 2 decimal places"
      ]
    },
    {
      "metadata": {
        "trusted": true,
        "id": "QUdpJrrYE3LY"
      },
      "cell_type": "code",
      "source": [
        "Z = np.random.random((5,5))\n",
        "print(Z)\n",
        "\n",
        "np.set_printoptions(precision=2)\n",
        "Z"
      ],
      "execution_count": null,
      "outputs": []
    },
    {
      "metadata": {
        "trusted": true,
        "id": "2EEaRWvqE3LY"
      },
      "cell_type": "code",
      "source": [],
      "execution_count": null,
      "outputs": []
    },
    {
      "metadata": {
        "id": "rVBPsTPfE3LZ"
      },
      "cell_type": "markdown",
      "source": [
        "#### 77. Output NumPy array using scientific notation"
      ]
    },
    {
      "metadata": {
        "trusted": true,
        "id": "FmLL86F3E3LZ"
      },
      "cell_type": "code",
      "source": [
        "Z = np.random.random([5,5])\n",
        "print(Z)\n",
        "\n",
        "Z/1e3"
      ],
      "execution_count": null,
      "outputs": []
    },
    {
      "metadata": {
        "trusted": true,
        "id": "__2VSdbME3LZ"
      },
      "cell_type": "code",
      "source": [],
      "execution_count": null,
      "outputs": []
    },
    {
      "metadata": {
        "id": "iCyggJPCE3LZ"
      },
      "cell_type": "markdown",
      "source": [
        "#### 78. Use NumPy to find percentiles(25%，50%，75%)"
      ]
    },
    {
      "metadata": {
        "trusted": true,
        "id": "1o-BfIOiE3LZ"
      },
      "cell_type": "code",
      "source": [
        "a = np.arange(15)\n",
        "print(a)\n",
        "\n",
        "np.percentile(a, q=[25, 50, 75])"
      ],
      "execution_count": null,
      "outputs": []
    },
    {
      "metadata": {
        "trusted": true,
        "id": "3UusLj_iE3La"
      },
      "cell_type": "code",
      "source": [],
      "execution_count": null,
      "outputs": []
    },
    {
      "metadata": {
        "id": "AktQ1rnVE3La"
      },
      "cell_type": "markdown",
      "source": [
        "#### 79. Find the total number and locations of missing values in the array"
      ]
    },
    {
      "metadata": {
        "trusted": true,
        "id": "WW0cRi0NE3La"
      },
      "cell_type": "code",
      "source": [
        "# Generate a two-dimensional array with missing values\n",
        "Z = np.random.rand(10,10)\n",
        "Z[np.random.randint(10, size=5), np.random.randint(10, size=5)] = np.nan\n",
        "Z"
      ],
      "execution_count": null,
      "outputs": []
    },
    {
      "metadata": {
        "trusted": true,
        "id": "PpUCppWDE3La"
      },
      "cell_type": "code",
      "source": [],
      "execution_count": null,
      "outputs": []
    },
    {
      "metadata": {
        "trusted": true,
        "id": "kn6a5YAsE3La"
      },
      "cell_type": "code",
      "source": [
        "print(\"Total number of missing values: \\n\", np.isnan(Z).sum())\n",
        "print(\"Indexes of missing values: \\n\", np.where(np.isnan(Z)))"
      ],
      "execution_count": null,
      "outputs": []
    },
    {
      "metadata": {
        "trusted": true,
        "id": "7tbrN9t0E3La"
      },
      "cell_type": "code",
      "source": [],
      "execution_count": null,
      "outputs": []
    },
    {
      "metadata": {
        "id": "-HAZJH_fE3Lb"
      },
      "cell_type": "markdown",
      "source": [
        "#### 80.  Remove rows that contain missing values from a random array"
      ]
    },
    {
      "metadata": {
        "trusted": true,
        "id": "M53p70JxE3Lb"
      },
      "cell_type": "code",
      "source": [
        "# Use the array in practice 79\n",
        "\n",
        "Z[np.sum(np.isnan(Z), axis=1) == 0]"
      ],
      "execution_count": null,
      "outputs": []
    },
    {
      "metadata": {
        "trusted": true,
        "id": "OHPUXkNYE3Lb"
      },
      "cell_type": "code",
      "source": [],
      "execution_count": null,
      "outputs": []
    },
    {
      "metadata": {
        "id": "YX6SkOX4E3Lb"
      },
      "cell_type": "markdown",
      "source": [
        "#### 81. Count the number of elements in the random number group"
      ]
    },
    {
      "metadata": {
        "trusted": true,
        "id": "6n6vcIHtE3Lb"
      },
      "cell_type": "code",
      "source": [
        "Z = np.random.randint(0,100,25).reshape(5,5)\n",
        "print(Z)\n",
        "\n",
        "np.unique(Z, return_counts=True) # # In the output, the elements in the second array are corresponding numbers of the elements in the first array  "
      ],
      "execution_count": null,
      "outputs": []
    },
    {
      "metadata": {
        "trusted": true,
        "id": "6rZnX02GE3Lc"
      },
      "cell_type": "code",
      "source": [],
      "execution_count": null,
      "outputs": []
    },
    {
      "metadata": {
        "id": "QvgcYO66E3Lc"
      },
      "cell_type": "markdown",
      "source": [
        "#### 82.  Convert each element in the array to a text value by the specified classification"
      ]
    },
    {
      "metadata": {
        "trusted": true,
        "id": "jnPyJYR5E3Lc"
      },
      "cell_type": "code",
      "source": [
        "# classification:\n",
        "# 1 → car\n",
        "# 2 → bus\n",
        "# 3 → train\n",
        "\n",
        "\n",
        "Z = np.random.randint(1,4,10)\n",
        "print(Z)\n",
        "\n",
        "label_map = {1: \"car\", 2: \"bus\", 3: \"train\"}\n",
        "\n",
        "[label_map[x] for x in Z]"
      ],
      "execution_count": null,
      "outputs": []
    },
    {
      "metadata": {
        "trusted": true,
        "id": "5PV1xz8HE3Lc"
      },
      "cell_type": "code",
      "source": [],
      "execution_count": null,
      "outputs": []
    },
    {
      "metadata": {
        "id": "vOB3xm30E3Lc"
      },
      "cell_type": "markdown",
      "source": [
        "#### 83.  Combine multiple one-dimensional arrays into a single Ndarray"
      ]
    },
    {
      "metadata": {
        "trusted": true,
        "id": "mug5L7yXE3Ld"
      },
      "cell_type": "code",
      "source": [
        "Z1 = np.arange(3)\n",
        "Z2 = np.arange(3,7)\n",
        "Z3 = np.arange(7,10)\n",
        "\n",
        "Z = np.array([Z1, Z2, Z3])\n",
        "print(Z)\n",
        "\n",
        "np.concatenate(Z)"
      ],
      "execution_count": null,
      "outputs": []
    },
    {
      "metadata": {
        "trusted": true,
        "id": "aCaPc6N1E3Ld"
      },
      "cell_type": "code",
      "source": [],
      "execution_count": null,
      "outputs": []
    },
    {
      "metadata": {
        "id": "O90aG0ZVE3Ld"
      },
      "cell_type": "markdown",
      "source": [
        "#### 84. Print the indexes of the elements in the array in ascending order"
      ]
    },
    {
      "metadata": {
        "trusted": true,
        "id": "hyvgA7qtE3Ld"
      },
      "cell_type": "code",
      "source": [
        "a = np.random.randint(100, size=10)\n",
        "print('Array: ', a)\n",
        "\n",
        "a.argsort()"
      ],
      "execution_count": null,
      "outputs": []
    },
    {
      "metadata": {
        "trusted": true,
        "id": "WNm__JQiE3Ld"
      },
      "cell_type": "code",
      "source": [],
      "execution_count": null,
      "outputs": []
    },
    {
      "metadata": {
        "id": "FT44CN55E3Le"
      },
      "cell_type": "markdown",
      "source": [
        "#### 85. Get the maximum value of each row of a two-dimensional random array"
      ]
    },
    {
      "metadata": {
        "scrolled": true,
        "trusted": true,
        "id": "htDzRsfuE3Le"
      },
      "cell_type": "code",
      "source": [
        "Z = np.random.randint(1,100, [5,5])\n",
        "print(Z)\n",
        "\n",
        "np.amax(Z, axis=1)"
      ],
      "execution_count": null,
      "outputs": []
    },
    {
      "metadata": {
        "trusted": true,
        "id": "18GgOajmE3Le"
      },
      "cell_type": "code",
      "source": [],
      "execution_count": null,
      "outputs": []
    },
    {
      "metadata": {
        "id": "zUBd3hd8E3Le"
      },
      "cell_type": "markdown",
      "source": [
        "#### 86. Get the minimum value of each row of a two-dimensional random array (Note the difference)"
      ]
    },
    {
      "metadata": {
        "scrolled": true,
        "trusted": true,
        "id": "R4XBpLSYE3Lf"
      },
      "cell_type": "code",
      "source": [
        "Z = np.random.randint(1,100, [5,5])\n",
        "print(Z)\n",
        "\n",
        "np.apply_along_axis(np.min, arr=Z, axis=1)"
      ],
      "execution_count": null,
      "outputs": []
    },
    {
      "metadata": {
        "trusted": true,
        "id": "26sEimCvE3Lf"
      },
      "cell_type": "code",
      "source": [],
      "execution_count": null,
      "outputs": []
    },
    {
      "metadata": {
        "id": "1s3rTC3cE3Lf"
      },
      "cell_type": "markdown",
      "source": [
        "#### 87. Calculate the Euclidean distance between two arrays"
      ]
    },
    {
      "metadata": {
        "trusted": true,
        "id": "qpWppxLHE3Lf"
      },
      "cell_type": "code",
      "source": [
        "a = np.array([1, 2])\n",
        "b = np.array([7, 8])\n",
        "\n",
        "# Compute by math\n",
        "print(np.sqrt(np.power((8-2), 2) + np.power((7-1), 2)))\n",
        "\n",
        "# Compute by NumPy \n",
        "np.linalg.norm(b-a)"
      ],
      "execution_count": null,
      "outputs": []
    },
    {
      "metadata": {
        "trusted": true,
        "id": "sIblqUAaE3Lf"
      },
      "cell_type": "code",
      "source": [],
      "execution_count": null,
      "outputs": []
    },
    {
      "metadata": {
        "id": "yD8FXlHTE3Lf"
      },
      "cell_type": "markdown",
      "source": [
        "#### 88. Print the real and imaginary parts of the complex numbers"
      ]
    },
    {
      "metadata": {
        "trusted": true,
        "id": "kBYMw6VGE3Lg"
      },
      "cell_type": "code",
      "source": [
        "a = np.array([1 + 2j, 3 + 4j, 5 + 6j])\n",
        "\n",
        "print(\"real：\", a.real)\n",
        "print(\"imaginary：\", a.imag)"
      ],
      "execution_count": null,
      "outputs": []
    },
    {
      "metadata": {
        "trusted": true,
        "id": "GE5pQZRRE3Lg"
      },
      "cell_type": "code",
      "source": [],
      "execution_count": null,
      "outputs": []
    },
    {
      "metadata": {
        "id": "N2dt1-MbE3Lg"
      },
      "cell_type": "markdown",
      "source": [
        "#### 89. Solve the inverse matrix of the given matrix and verify it"
      ]
    },
    {
      "metadata": {
        "trusted": true,
        "id": "xD2tVAwaE3Lg"
      },
      "cell_type": "code",
      "source": [
        "matrix = np.array([[1., 2.], [3., 4.]])\n",
        "\n",
        "inverse_matrix = np.linalg.inv(matrix)\n",
        "\n",
        "# Verify whether the dot product of the original matrix and the inverse matrix is an identity matrix\n",
        "assert np.allclose(np.dot(matrix, inverse_matrix), np.eye(2))\n",
        "assert np.allclose(np.dot(matrix, inverse_matrix), np.eye(2))\n",
        "\n",
        "inverse_matrix"
      ],
      "execution_count": null,
      "outputs": []
    },
    {
      "metadata": {
        "trusted": true,
        "id": "oqozgGDkE3Lh"
      },
      "cell_type": "code",
      "source": [],
      "execution_count": null,
      "outputs": []
    },
    {
      "metadata": {
        "id": "s8j_nLdrE3Lh"
      },
      "cell_type": "markdown",
      "source": [
        "#### 90. Standardize data using Z-Score normalization algorithms"
      ]
    },
    {
      "metadata": {
        "id": "iCHDKFUTE3Lh"
      },
      "cell_type": "markdown",
      "source": [
        "Z-Score formula：\n",
        "$$Z = \\frac{X-\\mathrm{mean}(X)}{\\mathrm{sd}(X)}$$"
      ]
    },
    {
      "metadata": {
        "trusted": true,
        "id": "fBUHexTqE3Lh"
      },
      "cell_type": "code",
      "source": [
        "# Define the function by formula\n",
        "def zscore(x, axis = None):\n",
        "    xmean = x.mean(axis=axis, keepdims=True)\n",
        "    xstd  = np.std(x, axis=axis, keepdims=True)\n",
        "    zscore = (x-xmean)/xstd\n",
        "    return zscore\n",
        "\n",
        "# Generate random data  \n",
        "Z = np.random.randint(10, size=(5,5))\n",
        "print(Z)\n",
        "\n",
        "zscore(Z)"
      ],
      "execution_count": null,
      "outputs": []
    },
    {
      "metadata": {
        "trusted": true,
        "id": "12EVOVCwE3Li"
      },
      "cell_type": "code",
      "source": [],
      "execution_count": null,
      "outputs": []
    },
    {
      "metadata": {
        "id": "-hv3TbVnE3Li"
      },
      "cell_type": "markdown",
      "source": [
        "#### 91. Standardize data using Min-Max standardized algorithms"
      ]
    },
    {
      "metadata": {
        "id": "junuP3kwE3Li"
      },
      "cell_type": "markdown",
      "source": [
        "Min-Max formula：\n",
        "$$Y = \\frac{Z-\\min(Z)}{\\max(Z)-\\min(Z)}$$"
      ]
    },
    {
      "metadata": {
        "trusted": true,
        "id": "B6PA3kGIE3Li"
      },
      "cell_type": "code",
      "source": [
        "# Define the function by formula\n",
        "def min_max(x, axis=None):\n",
        "    min = x.min(axis=axis, keepdims=True)\n",
        "    max = x.max(axis=axis, keepdims=True)\n",
        "    result = (x-min)/(max-min)\n",
        "    return result\n",
        "\n",
        "# Generate random data\n",
        "Z = np.random.randint(10, size=(5,5))\n",
        "print(Z)\n",
        "\n",
        "min_max(Z)"
      ],
      "execution_count": null,
      "outputs": []
    },
    {
      "metadata": {
        "trusted": true,
        "id": "mRrobqkEE3Lj"
      },
      "cell_type": "code",
      "source": [],
      "execution_count": null,
      "outputs": []
    },
    {
      "metadata": {
        "id": "nv7hvcfkE3Lj"
      },
      "cell_type": "markdown",
      "source": [
        "#### 92. Standardize data using the L2 norm"
      ]
    },
    {
      "metadata": {
        "id": "KgktenrGE3Lj"
      },
      "cell_type": "markdown",
      "source": [
        "Formula to get L2 norm:\n",
        "$$L_2 = \\sqrt{x_1^2 + x_2^2 + \\ldots + x_i^2}$$"
      ]
    },
    {
      "metadata": {
        "trusted": true,
        "id": "rrInjCl5E3Lj"
      },
      "cell_type": "code",
      "source": [
        "# Define the function by formula\n",
        "def l2_normalize(v, axis=-1, order=2):\n",
        "    l2 = np.linalg.norm(v, ord = order, axis=axis, keepdims=True)\n",
        "    l2[l2==0] = 1\n",
        "    return v/l2\n",
        "\n",
        "# Generate random data\n",
        "Z = np.random.randint(10, size=(5,5))\n",
        "print(Z)\n",
        "\n",
        "l2_normalize(Z)"
      ],
      "execution_count": null,
      "outputs": []
    },
    {
      "metadata": {
        "trusted": true,
        "id": "meXFYGwpE3Lk"
      },
      "cell_type": "code",
      "source": [],
      "execution_count": null,
      "outputs": []
    },
    {
      "metadata": {
        "id": "33mhtnOuE3Lk"
      },
      "cell_type": "markdown",
      "source": [
        "#### 93. Calculate the direct correlation coefficient of variables by NumPy"
      ]
    },
    {
      "metadata": {
        "trusted": true,
        "id": "HRU54JtWE3Lk"
      },
      "cell_type": "code",
      "source": [
        "Z = np.array([\n",
        "    [1, 2, 1, 9, 10, 3, 2, 6, 7], # Feature A\n",
        "    [2, 1, 8, 3, 7, 5, 10, 7, 2], # Feature B\n",
        "    [2, 1, 1, 8, 9, 4, 3, 5, 7]]) # Feature C\n",
        "\n",
        "np.corrcoef(Z)"
      ],
      "execution_count": null,
      "outputs": []
    },
    {
      "metadata": {
        "trusted": true,
        "id": "brBcS39ZE3Lk"
      },
      "cell_type": "code",
      "source": [],
      "execution_count": null,
      "outputs": []
    },
    {
      "metadata": {
        "id": "eiJBnj_fE3Lk"
      },
      "cell_type": "markdown",
      "source": [
        "The correlation coefficient takes a value from `0`-`1`; and a value close to `1` means that the correlation is strong. The results are as follows: The direct correlation coefficient between variable `A` and variable `A` is `1` because it is the same variable; the correlation coefficient between variable `A` and variable `B` is `-0.06`, indicating that they are almost unrelated. The correlation coefficient between variable `A` and variable `C` is `0.97`, indicating a strong correlation:\n",
        "```\n",
        "         [A]     [B]     [C]\n",
        "array([[ 1.  , -0.06,  0.97]   [A]\n",
        "       [-0.06,  1.  , -0.01],  [B]\n",
        "       [ 0.97, -0.01,  1.  ]]) [C]\n",
        "```"
      ]
    },
    {
      "metadata": {
        "id": "v0qWPrfoE3Ll"
      },
      "cell_type": "markdown",
      "source": [
        "#### 94. Calculate the eigenvalues and the eigenvectors of a matrix by using NumPy"
      ]
    },
    {
      "metadata": {
        "trusted": true,
        "id": "IWoUf-PYE3Ll"
      },
      "cell_type": "code",
      "source": [
        "M = np.matrix([[1,2,3], [4,5,6], [7,8,9]])\n",
        "\n",
        "w, v = np.linalg.eig(M)\n",
        "\n",
        "# w for eigenvalues，v for eigenvectors\n",
        "w, v"
      ],
      "execution_count": null,
      "outputs": []
    },
    {
      "metadata": {
        "trusted": true,
        "id": "pxuezAmzE3Ll"
      },
      "cell_type": "code",
      "source": [],
      "execution_count": null,
      "outputs": []
    },
    {
      "metadata": {
        "id": "OtSkQS7yE3Ll"
      },
      "cell_type": "markdown",
      "source": [
        "We can use the `P'AP=M` formula to calculate whether we can get the original matrix:"
      ]
    },
    {
      "metadata": {
        "scrolled": false,
        "trusted": true,
        "id": "T8a8z0NpE3Lm"
      },
      "cell_type": "code",
      "source": [
        "v * np.diag(w) * np.linalg.inv(v)"
      ],
      "execution_count": null,
      "outputs": []
    },
    {
      "metadata": {
        "trusted": true,
        "id": "ybk_InZqE3Lm"
      },
      "cell_type": "code",
      "source": [],
      "execution_count": null,
      "outputs": []
    },
    {
      "metadata": {
        "id": "oJG9bx1VE3Lm"
      },
      "cell_type": "markdown",
      "source": [
        "#### 95. Calculate the difference between two adjacent elements of Ndarray by using NumPy"
      ]
    },
    {
      "metadata": {
        "scrolled": true,
        "trusted": true,
        "id": "1eqHk2KVE3Lm"
      },
      "cell_type": "code",
      "source": [
        "Z = np.random.randint(1,10,10)\n",
        "print(Z)\n",
        "\n",
        "# Calculate the difference between two adjacent elements of Z\n",
        "print(np.diff(Z, n=1))\n",
        "\n",
        "# Repeat calculation 2 times\n",
        "print(np.diff(Z, n=2))\n",
        "\n",
        "# Repeat calculation 3 times\n",
        "print(np.diff(Z, n=3))"
      ],
      "execution_count": null,
      "outputs": []
    },
    {
      "metadata": {
        "trusted": true,
        "id": "NrQ_6d-XE3Lm"
      },
      "cell_type": "code",
      "source": [],
      "execution_count": null,
      "outputs": []
    },
    {
      "metadata": {
        "id": "cU5dE96eE3Ln"
      },
      "cell_type": "markdown",
      "source": [
        "#### 96. Use NumPy to add the adjacent elements of Ndarray in order \n"
      ]
    },
    {
      "metadata": {
        "trusted": true,
        "id": "tbBbvS1iE3Ln"
      },
      "cell_type": "code",
      "source": [
        "Z = np.random.randint(1,10,10)\n",
        "print(Z)\n",
        "\n",
        "\"\"\"\n",
        "[First element, first element + second element, first element + second element + third element, ...]\n",
        "\"\"\"\n",
        "np.cumsum(Z)"
      ],
      "execution_count": null,
      "outputs": []
    },
    {
      "metadata": {
        "trusted": true,
        "id": "Q1B8An9lE3Ln"
      },
      "cell_type": "code",
      "source": [],
      "execution_count": null,
      "outputs": []
    },
    {
      "metadata": {
        "id": "KO9Bp29LE3Ln"
      },
      "cell_type": "markdown",
      "source": [
        "#### 97. Use NumPy to connect two arrays by column"
      ]
    },
    {
      "metadata": {
        "trusted": true,
        "id": "i8rkgYoUE3Lo"
      },
      "cell_type": "code",
      "source": [
        "M1 = np.array([1, 2, 3])\n",
        "M2 = np.array([4, 5, 6])\n",
        "\n",
        "np.c_[M1, M2]"
      ],
      "execution_count": null,
      "outputs": []
    },
    {
      "metadata": {
        "trusted": true,
        "id": "JNAYGw6BE3Lo"
      },
      "cell_type": "code",
      "source": [],
      "execution_count": null,
      "outputs": []
    },
    {
      "metadata": {
        "id": "74Wa6dgBE3Lo"
      },
      "cell_type": "markdown",
      "source": [
        "#### 98. Use NumPy to connect two arrays by row"
      ]
    },
    {
      "metadata": {
        "trusted": true,
        "id": "MimNME2wE3Lo"
      },
      "cell_type": "code",
      "source": [
        "M1 = np.array([1, 2, 3])\n",
        "M2 = np.array([4, 5, 6])\n",
        "\n",
        "np.r_[M1, M2]"
      ],
      "execution_count": null,
      "outputs": []
    },
    {
      "metadata": {
        "trusted": true,
        "id": "IHF4QYS4E3Lo"
      },
      "cell_type": "code",
      "source": [],
      "execution_count": null,
      "outputs": []
    },
    {
      "metadata": {
        "id": "sPbFVhBgE3Lo"
      },
      "cell_type": "markdown",
      "source": [
        "#### 99. Print the 9x9 multiplication table using `NumPy`"
      ]
    },
    {
      "metadata": {
        "scrolled": false,
        "trusted": true,
        "id": "6e0IN45CE3Lp"
      },
      "cell_type": "code",
      "source": [
        "np.fromfunction(lambda i, j: (i + 1) * (j + 1), (9, 9))"
      ],
      "execution_count": null,
      "outputs": []
    },
    {
      "metadata": {
        "trusted": true,
        "id": "-21yJ6ApE3Lp"
      },
      "cell_type": "code",
      "source": [],
      "execution_count": null,
      "outputs": []
    },
    {
      "metadata": {
        "id": "D4dAXgQxE3Lp"
      },
      "cell_type": "markdown",
      "source": [
        "#### 100. Convert the LabEx LOGO to an Ndarray using Numpy"
      ]
    },
    {
      "metadata": {
        "trusted": true,
        "id": "P6rAavxcE3Lz"
      },
      "cell_type": "code",
      "source": [
        "from io import BytesIO\n",
        "from PIL import Image\n",
        "import PIL, requests\n",
        "\n",
        "# Download the image by the URL\n",
        "URL = 'https://static.shiyanlou.com/img/logo-black.png'\n",
        "response = requests.get(URL)\n",
        "\n",
        "# Read the content as image\n",
        "I = Image.open(BytesIO(response.content))\n",
        "\n",
        "# Convert the image into Ndarray\n",
        "labex = np.asarray(I)\n",
        "labex"
      ],
      "execution_count": null,
      "outputs": []
    },
    {
      "metadata": {
        "trusted": true,
        "id": "vpqmQ3R-E3L0"
      },
      "cell_type": "code",
      "source": [],
      "execution_count": null,
      "outputs": []
    },
    {
      "metadata": {
        "trusted": true,
        "id": "CEoxJcjXE3L0"
      },
      "cell_type": "code",
      "source": [
        "# Redraw the converted Ndarray into an image\n",
        "from matplotlib import pyplot as plt\n",
        "%matplotlib inline\n",
        "\n",
        "plt.imshow(shiyanlou)\n",
        "plt.show()"
      ],
      "execution_count": null,
      "outputs": []
    },
    {
      "metadata": {
        "trusted": true,
        "id": "k-3JdKB9E3L0"
      },
      "cell_type": "code",
      "source": [],
      "execution_count": null,
      "outputs": []
    },
    {
      "metadata": {
        "id": "92sB8qGZE3L0"
      },
      "cell_type": "markdown",
      "source": [
        "## <a id = \"3\">3. Summary</a>\n",
        "\n",
        "If you have done the above 100 exercises by yourself, I believe that you have improved your proficiency in the `Numpy` module. We recommend that you review these topics regularly, and you will be more familiar with it. The main points involved in this experiment are:\n",
        "\n",
        "- Creating an array\n",
        "- Array operations\n",
        "- Mathematical functions\n",
        "- Array slices and indexes\n",
        "- Array shape operations\n",
        "- Array sorting\n",
        "- Array statistics"
      ]
    },
    {
      "metadata": {
        "id": "PL_VkS3XE3L0"
      },
      "cell_type": "markdown",
      "source": [
        "---"
      ]
    },
    {
      "metadata": {
        "id": "S2nYlCpfE3L1"
      },
      "cell_type": "markdown",
      "source": [
        "<div style=\"color: #999;font-size: 12px;font-style: italic;\">*本课程内容，由作者授权实验楼发布，未经允许，禁止转载、下载及非法传播。实验中少量题目编译自：[100 numpy exercises](https://github.com/rougier/numpy-100) 。</div>"
      ]
    }
  ],
  "metadata": {
    "kernelspec": {
      "name": "python3",
      "display_name": "Python 3",
      "language": "python"
    },
    "language_info": {
      "mimetype": "text/x-python",
      "nbconvert_exporter": "python",
      "name": "python",
      "pygments_lexer": "ipython3",
      "version": "3.5.4",
      "file_extension": ".py",
      "codemirror_mode": {
        "version": 3,
        "name": "ipython"
      }
    },
    "colab": {
      "provenance": []
    }
  },
  "nbformat": 4,
  "nbformat_minor": 0
}